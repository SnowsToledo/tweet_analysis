{
  "nbformat": 4,
  "nbformat_minor": 0,
  "metadata": {
    "colab": {
      "name": "new_tweets_classifications",
      "provenance": []
    },
    "kernelspec": {
      "name": "python3",
      "display_name": "Python 3"
    },
    "language_info": {
      "name": "python"
    }
  },
  "cells": [
    {
      "cell_type": "markdown",
      "source": [
        "# Fazendo uma análise de dados de tweets que podem ter relação a Covid ou não\n",
        "Os tweets foram minerados utilizando uma ferramenta web. Foram selecionados os tweets que haviam palavras de sintomas de covid, ou a a palavra covid"
      ],
      "metadata": {
        "id": "D8Js3mp-45Tg"
      }
    },
    {
      "cell_type": "markdown",
      "source": [
        "## Instalando a bibliotecas [NLTK](https://www.nltk.org/index.html) e algumas depedências dela. Também importando bibliotecas para tratar os dados como: Pandas, numpy, re, string"
      ],
      "metadata": {
        "id": "nSz30aLk5KSO"
      }
    },
    {
      "cell_type": "code",
      "metadata": {
        "colab": {
          "base_uri": "https://localhost:8080/"
        },
        "id": "6790IoXx8gQN",
        "outputId": "a438b329-2f7c-4529-c100-c55666d859b8"
      },
      "source": [
        "!pip install nltk"
      ],
      "execution_count": null,
      "outputs": [
        {
          "output_type": "stream",
          "name": "stdout",
          "text": [
            "Looking in indexes: https://pypi.org/simple, https://us-python.pkg.dev/colab-wheels/public/simple/\n",
            "Requirement already satisfied: nltk in /usr/local/lib/python3.7/dist-packages (3.7)\n",
            "Requirement already satisfied: regex>=2021.8.3 in /usr/local/lib/python3.7/dist-packages (from nltk) (2022.6.2)\n",
            "Requirement already satisfied: joblib in /usr/local/lib/python3.7/dist-packages (from nltk) (1.1.0)\n",
            "Requirement already satisfied: click in /usr/local/lib/python3.7/dist-packages (from nltk) (7.1.2)\n",
            "Requirement already satisfied: tqdm in /usr/local/lib/python3.7/dist-packages (from nltk) (4.64.0)\n"
          ]
        }
      ]
    },
    {
      "cell_type": "code",
      "metadata": {
        "colab": {
          "base_uri": "https://localhost:8080/"
        },
        "id": "P50Dp7D4EOGh",
        "outputId": "1c2e4d94-f54d-4701-b641-18864f9b4ea6"
      },
      "source": [
        "import pandas as pd\n",
        "import numpy as np \n",
        "\n",
        "#for text pre-processing\n",
        "import re, string\n",
        "import nltk\n",
        "from nltk.tokenize import word_tokenize\n",
        "from nltk.corpus import stopwords\n",
        "from nltk.tokenize import word_tokenize\n",
        "from nltk.stem import RSLPStemmer\n",
        "from nltk.corpus import wordnet\n",
        "from nltk.stem import WordNetLemmatizer\n",
        "nltk.download('rslp')\n",
        "nltk.download('punkt')\n",
        "nltk.download('stopwords')\n",
        "nltk.download('averaged_perceptron_tagger')\n",
        "nltk.download('wordnet')\n",
        "nltk.download('omw-1.4')"
      ],
      "execution_count": null,
      "outputs": [
        {
          "output_type": "stream",
          "name": "stderr",
          "text": [
            "[nltk_data] Downloading package rslp to /root/nltk_data...\n",
            "[nltk_data]   Unzipping stemmers/rslp.zip.\n",
            "[nltk_data] Downloading package punkt to /root/nltk_data...\n",
            "[nltk_data]   Unzipping tokenizers/punkt.zip.\n",
            "[nltk_data] Downloading package stopwords to /root/nltk_data...\n",
            "[nltk_data]   Unzipping corpora/stopwords.zip.\n",
            "[nltk_data] Downloading package averaged_perceptron_tagger to\n",
            "[nltk_data]     /root/nltk_data...\n",
            "[nltk_data]   Unzipping taggers/averaged_perceptron_tagger.zip.\n",
            "[nltk_data] Downloading package wordnet to /root/nltk_data...\n",
            "[nltk_data] Downloading package omw-1.4 to /root/nltk_data...\n"
          ]
        },
        {
          "output_type": "execute_result",
          "data": {
            "text/plain": [
              "True"
            ]
          },
          "metadata": {},
          "execution_count": 2
        }
      ]
    },
    {
      "cell_type": "markdown",
      "source": [
        "##Carregando a base de dados"
      ],
      "metadata": {
        "id": "2A9eCyAI7YNN"
      }
    },
    {
      "cell_type": "code",
      "metadata": {
        "id": "hUBa7_nLEdKq"
      },
      "source": [
        "df = pd.read_excel('tweets.xlsx')"
      ],
      "execution_count": null,
      "outputs": []
    },
    {
      "cell_type": "markdown",
      "source": [
        "Pequena amostra da base de dados"
      ],
      "metadata": {
        "id": "oLzg89bn7dLG"
      }
    },
    {
      "cell_type": "code",
      "metadata": {
        "colab": {
          "base_uri": "https://localhost:8080/",
          "height": 206
        },
        "id": "zAk9kRsuFCES",
        "outputId": "0261575e-2e6b-4cd6-f813-948228c440e9"
      },
      "source": [
        "df.head(5)"
      ],
      "execution_count": null,
      "outputs": [
        {
          "output_type": "execute_result",
          "data": {
            "text/plain": [
              "                                              frases            classe\n",
              "0  tweet: {\"Filmado em Manaus, filme 'A febre' es...  Diversos/Crítica\n",
              "1  tweet: {'@nppablin @ahspiper Capaz, ele Ã© tÃ£...  Diversos/Crítica\n",
              "2  tweet: {'A Karol Conka estÃ¡ me causando nÃ¡us...  Diversos/Crítica\n",
              "3  tweet: {'ATENÃ‡ÃƒO! NÃ£o sou afeito Ã  febre #...  Diversos/Crítica\n",
              "4  tweet: {'pf param de postar video de beijo eu ...         Ansiedade"
            ],
            "text/html": [
              "\n",
              "  <div id=\"df-f6c7937c-5b21-460b-9c9f-06f3b54bf6c8\">\n",
              "    <div class=\"colab-df-container\">\n",
              "      <div>\n",
              "<style scoped>\n",
              "    .dataframe tbody tr th:only-of-type {\n",
              "        vertical-align: middle;\n",
              "    }\n",
              "\n",
              "    .dataframe tbody tr th {\n",
              "        vertical-align: top;\n",
              "    }\n",
              "\n",
              "    .dataframe thead th {\n",
              "        text-align: right;\n",
              "    }\n",
              "</style>\n",
              "<table border=\"1\" class=\"dataframe\">\n",
              "  <thead>\n",
              "    <tr style=\"text-align: right;\">\n",
              "      <th></th>\n",
              "      <th>frases</th>\n",
              "      <th>classe</th>\n",
              "    </tr>\n",
              "  </thead>\n",
              "  <tbody>\n",
              "    <tr>\n",
              "      <th>0</th>\n",
              "      <td>tweet: {\"Filmado em Manaus, filme 'A febre' es...</td>\n",
              "      <td>Diversos/Crítica</td>\n",
              "    </tr>\n",
              "    <tr>\n",
              "      <th>1</th>\n",
              "      <td>tweet: {'@nppablin @ahspiper Capaz, ele Ã© tÃ£...</td>\n",
              "      <td>Diversos/Crítica</td>\n",
              "    </tr>\n",
              "    <tr>\n",
              "      <th>2</th>\n",
              "      <td>tweet: {'A Karol Conka estÃ¡ me causando nÃ¡us...</td>\n",
              "      <td>Diversos/Crítica</td>\n",
              "    </tr>\n",
              "    <tr>\n",
              "      <th>3</th>\n",
              "      <td>tweet: {'ATENÃ‡ÃƒO! NÃ£o sou afeito Ã  febre #...</td>\n",
              "      <td>Diversos/Crítica</td>\n",
              "    </tr>\n",
              "    <tr>\n",
              "      <th>4</th>\n",
              "      <td>tweet: {'pf param de postar video de beijo eu ...</td>\n",
              "      <td>Ansiedade</td>\n",
              "    </tr>\n",
              "  </tbody>\n",
              "</table>\n",
              "</div>\n",
              "      <button class=\"colab-df-convert\" onclick=\"convertToInteractive('df-f6c7937c-5b21-460b-9c9f-06f3b54bf6c8')\"\n",
              "              title=\"Convert this dataframe to an interactive table.\"\n",
              "              style=\"display:none;\">\n",
              "        \n",
              "  <svg xmlns=\"http://www.w3.org/2000/svg\" height=\"24px\"viewBox=\"0 0 24 24\"\n",
              "       width=\"24px\">\n",
              "    <path d=\"M0 0h24v24H0V0z\" fill=\"none\"/>\n",
              "    <path d=\"M18.56 5.44l.94 2.06.94-2.06 2.06-.94-2.06-.94-.94-2.06-.94 2.06-2.06.94zm-11 1L8.5 8.5l.94-2.06 2.06-.94-2.06-.94L8.5 2.5l-.94 2.06-2.06.94zm10 10l.94 2.06.94-2.06 2.06-.94-2.06-.94-.94-2.06-.94 2.06-2.06.94z\"/><path d=\"M17.41 7.96l-1.37-1.37c-.4-.4-.92-.59-1.43-.59-.52 0-1.04.2-1.43.59L10.3 9.45l-7.72 7.72c-.78.78-.78 2.05 0 2.83L4 21.41c.39.39.9.59 1.41.59.51 0 1.02-.2 1.41-.59l7.78-7.78 2.81-2.81c.8-.78.8-2.07 0-2.86zM5.41 20L4 18.59l7.72-7.72 1.47 1.35L5.41 20z\"/>\n",
              "  </svg>\n",
              "      </button>\n",
              "      \n",
              "  <style>\n",
              "    .colab-df-container {\n",
              "      display:flex;\n",
              "      flex-wrap:wrap;\n",
              "      gap: 12px;\n",
              "    }\n",
              "\n",
              "    .colab-df-convert {\n",
              "      background-color: #E8F0FE;\n",
              "      border: none;\n",
              "      border-radius: 50%;\n",
              "      cursor: pointer;\n",
              "      display: none;\n",
              "      fill: #1967D2;\n",
              "      height: 32px;\n",
              "      padding: 0 0 0 0;\n",
              "      width: 32px;\n",
              "    }\n",
              "\n",
              "    .colab-df-convert:hover {\n",
              "      background-color: #E2EBFA;\n",
              "      box-shadow: 0px 1px 2px rgba(60, 64, 67, 0.3), 0px 1px 3px 1px rgba(60, 64, 67, 0.15);\n",
              "      fill: #174EA6;\n",
              "    }\n",
              "\n",
              "    [theme=dark] .colab-df-convert {\n",
              "      background-color: #3B4455;\n",
              "      fill: #D2E3FC;\n",
              "    }\n",
              "\n",
              "    [theme=dark] .colab-df-convert:hover {\n",
              "      background-color: #434B5C;\n",
              "      box-shadow: 0px 1px 3px 1px rgba(0, 0, 0, 0.15);\n",
              "      filter: drop-shadow(0px 1px 2px rgba(0, 0, 0, 0.3));\n",
              "      fill: #FFFFFF;\n",
              "    }\n",
              "  </style>\n",
              "\n",
              "      <script>\n",
              "        const buttonEl =\n",
              "          document.querySelector('#df-f6c7937c-5b21-460b-9c9f-06f3b54bf6c8 button.colab-df-convert');\n",
              "        buttonEl.style.display =\n",
              "          google.colab.kernel.accessAllowed ? 'block' : 'none';\n",
              "\n",
              "        async function convertToInteractive(key) {\n",
              "          const element = document.querySelector('#df-f6c7937c-5b21-460b-9c9f-06f3b54bf6c8');\n",
              "          const dataTable =\n",
              "            await google.colab.kernel.invokeFunction('convertToInteractive',\n",
              "                                                     [key], {});\n",
              "          if (!dataTable) return;\n",
              "\n",
              "          const docLinkHtml = 'Like what you see? Visit the ' +\n",
              "            '<a target=\"_blank\" href=https://colab.research.google.com/notebooks/data_table.ipynb>data table notebook</a>'\n",
              "            + ' to learn more about interactive tables.';\n",
              "          element.innerHTML = '';\n",
              "          dataTable['output_type'] = 'display_data';\n",
              "          await google.colab.output.renderOutput(dataTable, element);\n",
              "          const docLink = document.createElement('div');\n",
              "          docLink.innerHTML = docLinkHtml;\n",
              "          element.appendChild(docLink);\n",
              "        }\n",
              "      </script>\n",
              "    </div>\n",
              "  </div>\n",
              "  "
            ]
          },
          "metadata": {},
          "execution_count": 4
        }
      ]
    },
    {
      "cell_type": "markdown",
      "source": [
        "## Funções para limpar o texto\n",
        "Retirando menções por @, e também trends por #. Também foram tirados emojis"
      ],
      "metadata": {
        "id": "STbm-lMG7jMA"
      }
    },
    {
      "cell_type": "code",
      "metadata": {
        "id": "TjkWkThz5olI"
      },
      "source": [
        "def retirar_arroba(frase):\n",
        "  frase = re.sub(\"@[A-Za-z0-9_]+\",\"\", frase)\n",
        "  return frase"
      ],
      "execution_count": null,
      "outputs": []
    },
    {
      "cell_type": "code",
      "metadata": {
        "id": "e0NWjgXX5rMe"
      },
      "source": [
        "def retirar_hashtag(frase):\n",
        "  frase = re.sub(\"#[A-Za-z0-9_]+\",\"\", frase)\n",
        "  return frase"
      ],
      "execution_count": null,
      "outputs": []
    },
    {
      "cell_type": "code",
      "metadata": {
        "id": "Zv747Bu25tLe"
      },
      "source": [
        "def retirar_hashtag_arroaba(coluna):\n",
        "  for row in coluna:\n",
        "    ind = row.find('@')\n",
        "    if ind != -1:\n",
        "      new = retirar_arroba(row)\n",
        "      coluna.replace(row, new, inplace=True)\n",
        "  for row1 in coluna:\n",
        "    ind1 = row1.find('#')\n",
        "    if ind1 != -1:\n",
        "      new1 = retirar_hashtag(row1)\n",
        "      coluna.replace(row1, new1, inplace=True)\n",
        "  return coluna"
      ],
      "execution_count": null,
      "outputs": []
    },
    {
      "cell_type": "code",
      "metadata": {
        "id": "kgFinWh35vTf"
      },
      "source": [
        "def remove_emoji(string):\n",
        "    emoji_pattern = re.compile(\"[\"\n",
        "                               u\"\\U0001F600-\\U0001F64F\"  # emoticons\n",
        "                               u\"\\U0001F300-\\U0001F5FF\"  # symbols & pictographs\n",
        "                               u\"\\U0001F680-\\U0001F6FF\"  # transport & map symbols\n",
        "                               u\"\\U0001F1E0-\\U0001F1FF\"  # flags (iOS)\n",
        "                               u\"\\U00002500-\\U00002BEF\"  # chinese char\n",
        "                               u\"\\U00002702-\\U000027B0\"\n",
        "                               u\"\\U00002702-\\U000027B0\"\n",
        "                               u\"\\U000024C2-\\U0001F251\"\n",
        "                               u\"\\U0001f926-\\U0001f937\"\n",
        "                               u\"\\U00010000-\\U0010ffff\"\n",
        "                               u\"\\u2640-\\u2642\"\n",
        "                               u\"\\u2600-\\u2B55\"\n",
        "                               u\"\\u0001f972\"\n",
        "                               u\"\\u200d\"\n",
        "                               u\"\\u23cf\"\n",
        "                               u\"\\u23e9\"\n",
        "                               u\"\\u231a\"\n",
        "                               u\"\\ufe0f\"  # dingbats\n",
        "                               u\"\\u3030\"\n",
        "                               \"]+\", flags=re.UNICODE)\n",
        "    return emoji_pattern.sub(r'', string)"
      ],
      "execution_count": null,
      "outputs": []
    },
    {
      "cell_type": "code",
      "metadata": {
        "id": "rITB6SAK51Ia"
      },
      "source": [
        "for tweet in df['frases']:\n",
        "  no_emoji = remove_emoji(tweet.upper())\n",
        "  df['frases'].replace(tweet, no_emoji, inplace=True)"
      ],
      "execution_count": null,
      "outputs": []
    },
    {
      "cell_type": "code",
      "metadata": {
        "id": "eocywuLV5-Z0"
      },
      "source": [
        "col = retirar_hashtag_arroaba(df['frases'])\n",
        "df['frases'] = col"
      ],
      "execution_count": null,
      "outputs": []
    },
    {
      "cell_type": "markdown",
      "source": [
        "## Houve algum problema de codificação quando recebir os dados, então faço uma substituição"
      ],
      "metadata": {
        "id": "EKDg3Z1_8NCD"
      }
    },
    {
      "cell_type": "code",
      "metadata": {
        "id": "zrXAzYZA6LAu"
      },
      "source": [
        "def filtering(coluna): #Metódo para fazer o filtering automático de colunas  \n",
        "  aux = 0\n",
        "  for tweet in coluna: #Usando um loop for para percorrer as colunas\n",
        "    tweet = tweet.replace('Ã‡', 'ç')\n",
        "    tweet = tweet.replace('Ã¡', 'a')\n",
        "    tweet = tweet.replace('Ã³', 'o')\n",
        "    tweet = tweet.replace('Ãƒ', 'a')\n",
        "    tweet = tweet.replace('Ã©', 'e')\n",
        "    tweet = tweet.replace('Ã§', 'ç')\n",
        "    tweet = tweet.replace('Ã£', 'a')\n",
        "    tweet = tweet.replace('Ãª', 'e')\n",
        "    tweet = tweet.replace('Ã¢', 'a')\n",
        "    tweet = tweet.replace('í©', 'e')\n",
        "    tweet = tweet.replace('Ã´', 'o')\n",
        "    tweet = tweet.replace('Ã', 'i')\n",
        "    tweet = tweet.replace(':', '')\n",
        "    tweet = tweet.replace(';', '')\n",
        "    tweet = tweet.replace('hr', 'hora')\n",
        "    tweet = tweet.replace('cm', 'com')\n",
        "    tweet = tweet.replace('tbm', 'tambem')\n",
        "    tweet = tweet.replace('vc', 'voce')\n",
        "    tweet = tweet.replace(',', '')\n",
        "    tweet = tweet.replace('â€¦', '')    \n",
        "    tweet = tweet.replace('/', '')\n",
        "    tweet = tweet.replace('.', '')\n",
        "    tweet = tweet.replace('!', '')\n",
        "    tweet = tweet.replace('?', '')\n",
        "    tweet = tweet.replace('{', '')\n",
        "    tweet = tweet.replace('\\n', '')\n",
        "    tweet = tweet.replace('}', '')\n",
        "    tweet = tweet.replace('\\\\u0001f972', '')\n",
        "    tweet = tweet.replace('tweet', '')\n",
        "    tweet = tweet.replace(\"'\", '')\n",
        "    tweet = tweet.lower()\n",
        "    tweet_split = tweet.split('https')\n",
        "    tweet = tweet_split[0]\n",
        "    coluna[aux] = tweet\n",
        "    aux += 1\n",
        "  return coluna"
      ],
      "execution_count": null,
      "outputs": []
    },
    {
      "cell_type": "code",
      "metadata": {
        "id": "jqDArRgO6S_R"
      },
      "source": [
        "new_col = filtering(df['frases'])\n",
        "df['frases'] = new_col"
      ],
      "execution_count": null,
      "outputs": []
    },
    {
      "cell_type": "markdown",
      "source": [
        "## Substituindo as classes, para apenas ter duas classes"
      ],
      "metadata": {
        "id": "Si1wukBa83Cv"
      }
    },
    {
      "cell_type": "code",
      "source": [
        "df.classe.replace(['Diversos/Crítica', 'Ansiedade', 'Ironia', 'Politização','OutrasDoenças', 'Notícias/informação', 'Vacina', 'Não-covid'], 'Não-covid', inplace=True)"
      ],
      "metadata": {
        "id": "qX-HlayMc5tw"
      },
      "execution_count": null,
      "outputs": []
    },
    {
      "cell_type": "code",
      "metadata": {
        "colab": {
          "base_uri": "https://localhost:8080/",
          "height": 206
        },
        "id": "OdUf0O7b6b2F",
        "outputId": "1b1b06f5-30aa-474e-ed03-885976accd87"
      },
      "source": [
        "df.head(5)"
      ],
      "execution_count": null,
      "outputs": [
        {
          "output_type": "execute_result",
          "data": {
            "text/plain": [
              "                                              frases     classe\n",
              "0   \"filmado em manaus filme a febre estreia na n...  Não-covid\n",
              "1               capaz ele e tao bonito pra ter febre  Não-covid\n",
              "2   a karol conka esta me causando nausea enjoo c...  Não-covid\n",
              "3   atençao nao sou afeito i  febre   mas abro ex...  Não-covid\n",
              "4   pf param de postar video de beijo eu tenho an...  Não-covid"
            ],
            "text/html": [
              "\n",
              "  <div id=\"df-a1526f14-18d0-4b9c-bb55-113ab4a14030\">\n",
              "    <div class=\"colab-df-container\">\n",
              "      <div>\n",
              "<style scoped>\n",
              "    .dataframe tbody tr th:only-of-type {\n",
              "        vertical-align: middle;\n",
              "    }\n",
              "\n",
              "    .dataframe tbody tr th {\n",
              "        vertical-align: top;\n",
              "    }\n",
              "\n",
              "    .dataframe thead th {\n",
              "        text-align: right;\n",
              "    }\n",
              "</style>\n",
              "<table border=\"1\" class=\"dataframe\">\n",
              "  <thead>\n",
              "    <tr style=\"text-align: right;\">\n",
              "      <th></th>\n",
              "      <th>frases</th>\n",
              "      <th>classe</th>\n",
              "    </tr>\n",
              "  </thead>\n",
              "  <tbody>\n",
              "    <tr>\n",
              "      <th>0</th>\n",
              "      <td>\"filmado em manaus filme a febre estreia na n...</td>\n",
              "      <td>Não-covid</td>\n",
              "    </tr>\n",
              "    <tr>\n",
              "      <th>1</th>\n",
              "      <td>capaz ele e tao bonito pra ter febre</td>\n",
              "      <td>Não-covid</td>\n",
              "    </tr>\n",
              "    <tr>\n",
              "      <th>2</th>\n",
              "      <td>a karol conka esta me causando nausea enjoo c...</td>\n",
              "      <td>Não-covid</td>\n",
              "    </tr>\n",
              "    <tr>\n",
              "      <th>3</th>\n",
              "      <td>atençao nao sou afeito i  febre   mas abro ex...</td>\n",
              "      <td>Não-covid</td>\n",
              "    </tr>\n",
              "    <tr>\n",
              "      <th>4</th>\n",
              "      <td>pf param de postar video de beijo eu tenho an...</td>\n",
              "      <td>Não-covid</td>\n",
              "    </tr>\n",
              "  </tbody>\n",
              "</table>\n",
              "</div>\n",
              "      <button class=\"colab-df-convert\" onclick=\"convertToInteractive('df-a1526f14-18d0-4b9c-bb55-113ab4a14030')\"\n",
              "              title=\"Convert this dataframe to an interactive table.\"\n",
              "              style=\"display:none;\">\n",
              "        \n",
              "  <svg xmlns=\"http://www.w3.org/2000/svg\" height=\"24px\"viewBox=\"0 0 24 24\"\n",
              "       width=\"24px\">\n",
              "    <path d=\"M0 0h24v24H0V0z\" fill=\"none\"/>\n",
              "    <path d=\"M18.56 5.44l.94 2.06.94-2.06 2.06-.94-2.06-.94-.94-2.06-.94 2.06-2.06.94zm-11 1L8.5 8.5l.94-2.06 2.06-.94-2.06-.94L8.5 2.5l-.94 2.06-2.06.94zm10 10l.94 2.06.94-2.06 2.06-.94-2.06-.94-.94-2.06-.94 2.06-2.06.94z\"/><path d=\"M17.41 7.96l-1.37-1.37c-.4-.4-.92-.59-1.43-.59-.52 0-1.04.2-1.43.59L10.3 9.45l-7.72 7.72c-.78.78-.78 2.05 0 2.83L4 21.41c.39.39.9.59 1.41.59.51 0 1.02-.2 1.41-.59l7.78-7.78 2.81-2.81c.8-.78.8-2.07 0-2.86zM5.41 20L4 18.59l7.72-7.72 1.47 1.35L5.41 20z\"/>\n",
              "  </svg>\n",
              "      </button>\n",
              "      \n",
              "  <style>\n",
              "    .colab-df-container {\n",
              "      display:flex;\n",
              "      flex-wrap:wrap;\n",
              "      gap: 12px;\n",
              "    }\n",
              "\n",
              "    .colab-df-convert {\n",
              "      background-color: #E8F0FE;\n",
              "      border: none;\n",
              "      border-radius: 50%;\n",
              "      cursor: pointer;\n",
              "      display: none;\n",
              "      fill: #1967D2;\n",
              "      height: 32px;\n",
              "      padding: 0 0 0 0;\n",
              "      width: 32px;\n",
              "    }\n",
              "\n",
              "    .colab-df-convert:hover {\n",
              "      background-color: #E2EBFA;\n",
              "      box-shadow: 0px 1px 2px rgba(60, 64, 67, 0.3), 0px 1px 3px 1px rgba(60, 64, 67, 0.15);\n",
              "      fill: #174EA6;\n",
              "    }\n",
              "\n",
              "    [theme=dark] .colab-df-convert {\n",
              "      background-color: #3B4455;\n",
              "      fill: #D2E3FC;\n",
              "    }\n",
              "\n",
              "    [theme=dark] .colab-df-convert:hover {\n",
              "      background-color: #434B5C;\n",
              "      box-shadow: 0px 1px 3px 1px rgba(0, 0, 0, 0.15);\n",
              "      filter: drop-shadow(0px 1px 2px rgba(0, 0, 0, 0.3));\n",
              "      fill: #FFFFFF;\n",
              "    }\n",
              "  </style>\n",
              "\n",
              "      <script>\n",
              "        const buttonEl =\n",
              "          document.querySelector('#df-a1526f14-18d0-4b9c-bb55-113ab4a14030 button.colab-df-convert');\n",
              "        buttonEl.style.display =\n",
              "          google.colab.kernel.accessAllowed ? 'block' : 'none';\n",
              "\n",
              "        async function convertToInteractive(key) {\n",
              "          const element = document.querySelector('#df-a1526f14-18d0-4b9c-bb55-113ab4a14030');\n",
              "          const dataTable =\n",
              "            await google.colab.kernel.invokeFunction('convertToInteractive',\n",
              "                                                     [key], {});\n",
              "          if (!dataTable) return;\n",
              "\n",
              "          const docLinkHtml = 'Like what you see? Visit the ' +\n",
              "            '<a target=\"_blank\" href=https://colab.research.google.com/notebooks/data_table.ipynb>data table notebook</a>'\n",
              "            + ' to learn more about interactive tables.';\n",
              "          element.innerHTML = '';\n",
              "          dataTable['output_type'] = 'display_data';\n",
              "          await google.colab.output.renderOutput(dataTable, element);\n",
              "          const docLink = document.createElement('div');\n",
              "          docLink.innerHTML = docLinkHtml;\n",
              "          element.appendChild(docLink);\n",
              "        }\n",
              "      </script>\n",
              "    </div>\n",
              "  </div>\n",
              "  "
            ]
          },
          "metadata": {},
          "execution_count": 38
        }
      ]
    },
    {
      "cell_type": "markdown",
      "source": [
        "## Mostrando um pouco dos dados"
      ],
      "metadata": {
        "id": "3tCk8eup9L20"
      }
    },
    {
      "cell_type": "code",
      "source": [
        "def palavras_quantidade(df):\n",
        "  string_total = \"\"\n",
        "  for i in df.frases:\n",
        "    string_total=i+\" \"+str(string_total)\n",
        "\n",
        "  string_split = string_total.split()\n",
        "  count_list = []\n",
        "\n",
        "  for i in string_split:\n",
        "    if i not in count_list:\n",
        "      count_list.append(i)\n",
        "\n",
        "  qntd = {}\n",
        "  for i in count_list:\n",
        "    num = string_total.count(i)\n",
        "    qntd.update({i: num})\n",
        "\n",
        "  new_df = pd.DataFrame({'Palavras':qntd.keys(), 'Quantidade':qntd.values()}, index=np.arange(0, len(qntd)))\n",
        "\n",
        "  new_df.sort_values(by=\"Quantidade\", ascending=False, inplace=True)\n",
        "\n",
        "  new_df.reset_index(drop=True, inplace=True)\n",
        "\n",
        "  return new_df"
      ],
      "metadata": {
        "id": "QqUdLKIttRkr"
      },
      "execution_count": null,
      "outputs": []
    },
    {
      "cell_type": "code",
      "source": [
        "import seaborn as sns\n",
        "import matplotlib.pyplot as plt"
      ],
      "metadata": {
        "id": "BN1Eg0m16XAC"
      },
      "execution_count": null,
      "outputs": []
    },
    {
      "cell_type": "code",
      "source": [
        "sns.set_theme(style=\"whitegrid\")"
      ],
      "metadata": {
        "id": "ruVOwsPtvfeE"
      },
      "execution_count": null,
      "outputs": []
    },
    {
      "cell_type": "code",
      "metadata": {
        "colab": {
          "base_uri": "https://localhost:8080/",
          "height": 392
        },
        "id": "n65dJ3xmFXr9",
        "outputId": "473d1f20-f571-4672-d221-b8e2130245f2"
      },
      "source": [
        "x=df['classe'].value_counts()\n",
        "print(x)\n",
        "sns.barplot(x.index, x)"
      ],
      "execution_count": null,
      "outputs": [
        {
          "output_type": "stream",
          "name": "stdout",
          "text": [
            "Covid        4572\n",
            "Não-covid    3427\n",
            "Name: classe, dtype: int64\n"
          ]
        },
        {
          "output_type": "stream",
          "name": "stderr",
          "text": [
            "/usr/local/lib/python3.7/dist-packages/seaborn/_decorators.py:43: FutureWarning: Pass the following variables as keyword args: x, y. From version 0.12, the only valid positional argument will be `data`, and passing other arguments without an explicit keyword will result in an error or misinterpretation.\n",
            "  FutureWarning\n"
          ]
        },
        {
          "output_type": "execute_result",
          "data": {
            "text/plain": [
              "<matplotlib.axes._subplots.AxesSubplot at 0x7f0c641df150>"
            ]
          },
          "metadata": {},
          "execution_count": 129
        },
        {
          "output_type": "display_data",
          "data": {
            "text/plain": [
              "<Figure size 432x288 with 1 Axes>"
            ],
            "image/png": "[encoded data removed]"
          },
          "metadata": {}
        }
      ]
    },
    {
      "cell_type": "code",
      "metadata": {
        "colab": {
          "base_uri": "https://localhost:8080/"
        },
        "id": "m-FnEpTGIGsz",
        "outputId": "435efbd1-6bca-4242-fe5b-484ea0941a43"
      },
      "source": [
        "df.isna().sum()"
      ],
      "execution_count": null,
      "outputs": [
        {
          "output_type": "execute_result",
          "data": {
            "text/plain": [
              "frases    0\n",
              "classe    0\n",
              "dtype: int64"
            ]
          },
          "metadata": {},
          "execution_count": 41
        }
      ]
    },
    {
      "cell_type": "code",
      "source": [
        "quantidade_df = palavras_quantidade(df)\n",
        "quantidade_df.head()"
      ],
      "metadata": {
        "colab": {
          "base_uri": "https://localhost:8080/",
          "height": 206
        },
        "id": "DyHDYKLFjYX3",
        "outputId": "8dae7bb2-6e37-476d-c784-8ae64ddb0399"
      },
      "execution_count": null,
      "outputs": [
        {
          "output_type": "execute_result",
          "data": {
            "text/plain": [
              "  Palavras  Quantidade\n",
              "0        a       63051\n",
              "1        e       59936\n",
              "2        o       47697\n",
              "3        s       30960\n",
              "4        r       29925"
            ],
            "text/html": [
              "\n",
              "  <div id=\"df-474ef497-5c56-480e-a7be-242e9b08122e\">\n",
              "    <div class=\"colab-df-container\">\n",
              "      <div>\n",
              "<style scoped>\n",
              "    .dataframe tbody tr th:only-of-type {\n",
              "        vertical-align: middle;\n",
              "    }\n",
              "\n",
              "    .dataframe tbody tr th {\n",
              "        vertical-align: top;\n",
              "    }\n",
              "\n",
              "    .dataframe thead th {\n",
              "        text-align: right;\n",
              "    }\n",
              "</style>\n",
              "<table border=\"1\" class=\"dataframe\">\n",
              "  <thead>\n",
              "    <tr style=\"text-align: right;\">\n",
              "      <th></th>\n",
              "      <th>Palavras</th>\n",
              "      <th>Quantidade</th>\n",
              "    </tr>\n",
              "  </thead>\n",
              "  <tbody>\n",
              "    <tr>\n",
              "      <th>0</th>\n",
              "      <td>a</td>\n",
              "      <td>63051</td>\n",
              "    </tr>\n",
              "    <tr>\n",
              "      <th>1</th>\n",
              "      <td>e</td>\n",
              "      <td>59936</td>\n",
              "    </tr>\n",
              "    <tr>\n",
              "      <th>2</th>\n",
              "      <td>o</td>\n",
              "      <td>47697</td>\n",
              "    </tr>\n",
              "    <tr>\n",
              "      <th>3</th>\n",
              "      <td>s</td>\n",
              "      <td>30960</td>\n",
              "    </tr>\n",
              "    <tr>\n",
              "      <th>4</th>\n",
              "      <td>r</td>\n",
              "      <td>29925</td>\n",
              "    </tr>\n",
              "  </tbody>\n",
              "</table>\n",
              "</div>\n",
              "      <button class=\"colab-df-convert\" onclick=\"convertToInteractive('df-474ef497-5c56-480e-a7be-242e9b08122e')\"\n",
              "              title=\"Convert this dataframe to an interactive table.\"\n",
              "              style=\"display:none;\">\n",
              "        \n",
              "  <svg xmlns=\"http://www.w3.org/2000/svg\" height=\"24px\"viewBox=\"0 0 24 24\"\n",
              "       width=\"24px\">\n",
              "    <path d=\"M0 0h24v24H0V0z\" fill=\"none\"/>\n",
              "    <path d=\"M18.56 5.44l.94 2.06.94-2.06 2.06-.94-2.06-.94-.94-2.06-.94 2.06-2.06.94zm-11 1L8.5 8.5l.94-2.06 2.06-.94-2.06-.94L8.5 2.5l-.94 2.06-2.06.94zm10 10l.94 2.06.94-2.06 2.06-.94-2.06-.94-.94-2.06-.94 2.06-2.06.94z\"/><path d=\"M17.41 7.96l-1.37-1.37c-.4-.4-.92-.59-1.43-.59-.52 0-1.04.2-1.43.59L10.3 9.45l-7.72 7.72c-.78.78-.78 2.05 0 2.83L4 21.41c.39.39.9.59 1.41.59.51 0 1.02-.2 1.41-.59l7.78-7.78 2.81-2.81c.8-.78.8-2.07 0-2.86zM5.41 20L4 18.59l7.72-7.72 1.47 1.35L5.41 20z\"/>\n",
              "  </svg>\n",
              "      </button>\n",
              "      \n",
              "  <style>\n",
              "    .colab-df-container {\n",
              "      display:flex;\n",
              "      flex-wrap:wrap;\n",
              "      gap: 12px;\n",
              "    }\n",
              "\n",
              "    .colab-df-convert {\n",
              "      background-color: #E8F0FE;\n",
              "      border: none;\n",
              "      border-radius: 50%;\n",
              "      cursor: pointer;\n",
              "      display: none;\n",
              "      fill: #1967D2;\n",
              "      height: 32px;\n",
              "      padding: 0 0 0 0;\n",
              "      width: 32px;\n",
              "    }\n",
              "\n",
              "    .colab-df-convert:hover {\n",
              "      background-color: #E2EBFA;\n",
              "      box-shadow: 0px 1px 2px rgba(60, 64, 67, 0.3), 0px 1px 3px 1px rgba(60, 64, 67, 0.15);\n",
              "      fill: #174EA6;\n",
              "    }\n",
              "\n",
              "    [theme=dark] .colab-df-convert {\n",
              "      background-color: #3B4455;\n",
              "      fill: #D2E3FC;\n",
              "    }\n",
              "\n",
              "    [theme=dark] .colab-df-convert:hover {\n",
              "      background-color: #434B5C;\n",
              "      box-shadow: 0px 1px 3px 1px rgba(0, 0, 0, 0.15);\n",
              "      filter: drop-shadow(0px 1px 2px rgba(0, 0, 0, 0.3));\n",
              "      fill: #FFFFFF;\n",
              "    }\n",
              "  </style>\n",
              "\n",
              "      <script>\n",
              "        const buttonEl =\n",
              "          document.querySelector('#df-474ef497-5c56-480e-a7be-242e9b08122e button.colab-df-convert');\n",
              "        buttonEl.style.display =\n",
              "          google.colab.kernel.accessAllowed ? 'block' : 'none';\n",
              "\n",
              "        async function convertToInteractive(key) {\n",
              "          const element = document.querySelector('#df-474ef497-5c56-480e-a7be-242e9b08122e');\n",
              "          const dataTable =\n",
              "            await google.colab.kernel.invokeFunction('convertToInteractive',\n",
              "                                                     [key], {});\n",
              "          if (!dataTable) return;\n",
              "\n",
              "          const docLinkHtml = 'Like what you see? Visit the ' +\n",
              "            '<a target=\"_blank\" href=https://colab.research.google.com/notebooks/data_table.ipynb>data table notebook</a>'\n",
              "            + ' to learn more about interactive tables.';\n",
              "          element.innerHTML = '';\n",
              "          dataTable['output_type'] = 'display_data';\n",
              "          await google.colab.output.renderOutput(dataTable, element);\n",
              "          const docLink = document.createElement('div');\n",
              "          docLink.innerHTML = docLinkHtml;\n",
              "          element.appendChild(docLink);\n",
              "        }\n",
              "      </script>\n",
              "    </div>\n",
              "  </div>\n",
              "  "
            ]
          },
          "metadata": {},
          "execution_count": 124
        }
      ]
    },
    {
      "cell_type": "code",
      "source": [
        "fig, ax = plt.subplots(figsize=(25, 10))\n",
        "sns.barplot(x=\"Palavras\", y=\"Quantidade\", data=quantidade_df.iloc[:50])"
      ],
      "metadata": {
        "colab": {
          "base_uri": "https://localhost:8080/",
          "height": 623
        },
        "id": "Mmb1awSgkXQf",
        "outputId": "7cc027f1-38cf-48cb-ca36-ca07ce237390"
      },
      "execution_count": null,
      "outputs": [
        {
          "output_type": "execute_result",
          "data": {
            "text/plain": [
              "<matplotlib.axes._subplots.AxesSubplot at 0x7f0c641eb8d0>"
            ]
          },
          "metadata": {},
          "execution_count": 130
        },
        {
          "output_type": "display_data",
          "data": {
            "text/plain": [
              "<Figure size 1800x720 with 1 Axes>"
            ],
            "image/png": "[encoded data removed]"
          },
          "metadata": {}
        }
      ]
    },
    {
      "cell_type": "markdown",
      "source": [
        "É percepitivel que esses dados não representam muita coisa, porque as palavras são muito comuns, então vamos pegar palavras com pelo menos quatro letras"
      ],
      "metadata": {
        "id": "8weJELnImfR2"
      }
    },
    {
      "cell_type": "code",
      "source": [
        "df_mais_quatro_letras = pd.DataFrame()\n",
        "for i in quantidade_df.Palavras:\n",
        "  if len(i) > 3:\n",
        "    d = quantidade_df[quantidade_df[\"Palavras\"] == i]\n",
        "    df_mais_quatro_letras= pd.concat([df_mais_quatro_letras, d])"
      ],
      "metadata": {
        "id": "lmaI7wGunCtE"
      },
      "execution_count": null,
      "outputs": []
    },
    {
      "cell_type": "code",
      "source": [
        "df_mais_quatro_letras.head()"
      ],
      "metadata": {
        "colab": {
          "base_uri": "https://localhost:8080/",
          "height": 206
        },
        "id": "eEi90gTppJMS",
        "outputId": "61381b0e-923e-4ab9-ad7a-e4e1359c87f6"
      },
      "execution_count": null,
      "outputs": [
        {
          "output_type": "execute_result",
          "data": {
            "text/plain": [
              "   Palavras  Quantidade\n",
              "61     toss        2628\n",
              "63     febr        2614\n",
              "64    febre        2592\n",
              "65    tosse        2523\n",
              "67     alta        2442"
            ],
            "text/html": [
              "\n",
              "  <div id=\"df-db4dd949-3d2b-4d86-bd16-b99c3d66799e\">\n",
              "    <div class=\"colab-df-container\">\n",
              "      <div>\n",
              "<style scoped>\n",
              "    .dataframe tbody tr th:only-of-type {\n",
              "        vertical-align: middle;\n",
              "    }\n",
              "\n",
              "    .dataframe tbody tr th {\n",
              "        vertical-align: top;\n",
              "    }\n",
              "\n",
              "    .dataframe thead th {\n",
              "        text-align: right;\n",
              "    }\n",
              "</style>\n",
              "<table border=\"1\" class=\"dataframe\">\n",
              "  <thead>\n",
              "    <tr style=\"text-align: right;\">\n",
              "      <th></th>\n",
              "      <th>Palavras</th>\n",
              "      <th>Quantidade</th>\n",
              "    </tr>\n",
              "  </thead>\n",
              "  <tbody>\n",
              "    <tr>\n",
              "      <th>61</th>\n",
              "      <td>toss</td>\n",
              "      <td>2628</td>\n",
              "    </tr>\n",
              "    <tr>\n",
              "      <th>63</th>\n",
              "      <td>febr</td>\n",
              "      <td>2614</td>\n",
              "    </tr>\n",
              "    <tr>\n",
              "      <th>64</th>\n",
              "      <td>febre</td>\n",
              "      <td>2592</td>\n",
              "    </tr>\n",
              "    <tr>\n",
              "      <th>65</th>\n",
              "      <td>tosse</td>\n",
              "      <td>2523</td>\n",
              "    </tr>\n",
              "    <tr>\n",
              "      <th>67</th>\n",
              "      <td>alta</td>\n",
              "      <td>2442</td>\n",
              "    </tr>\n",
              "  </tbody>\n",
              "</table>\n",
              "</div>\n",
              "      <button class=\"colab-df-convert\" onclick=\"convertToInteractive('df-db4dd949-3d2b-4d86-bd16-b99c3d66799e')\"\n",
              "              title=\"Convert this dataframe to an interactive table.\"\n",
              "              style=\"display:none;\">\n",
              "        \n",
              "  <svg xmlns=\"http://www.w3.org/2000/svg\" height=\"24px\"viewBox=\"0 0 24 24\"\n",
              "       width=\"24px\">\n",
              "    <path d=\"M0 0h24v24H0V0z\" fill=\"none\"/>\n",
              "    <path d=\"M18.56 5.44l.94 2.06.94-2.06 2.06-.94-2.06-.94-.94-2.06-.94 2.06-2.06.94zm-11 1L8.5 8.5l.94-2.06 2.06-.94-2.06-.94L8.5 2.5l-.94 2.06-2.06.94zm10 10l.94 2.06.94-2.06 2.06-.94-2.06-.94-.94-2.06-.94 2.06-2.06.94z\"/><path d=\"M17.41 7.96l-1.37-1.37c-.4-.4-.92-.59-1.43-.59-.52 0-1.04.2-1.43.59L10.3 9.45l-7.72 7.72c-.78.78-.78 2.05 0 2.83L4 21.41c.39.39.9.59 1.41.59.51 0 1.02-.2 1.41-.59l7.78-7.78 2.81-2.81c.8-.78.8-2.07 0-2.86zM5.41 20L4 18.59l7.72-7.72 1.47 1.35L5.41 20z\"/>\n",
              "  </svg>\n",
              "      </button>\n",
              "      \n",
              "  <style>\n",
              "    .colab-df-container {\n",
              "      display:flex;\n",
              "      flex-wrap:wrap;\n",
              "      gap: 12px;\n",
              "    }\n",
              "\n",
              "    .colab-df-convert {\n",
              "      background-color: #E8F0FE;\n",
              "      border: none;\n",
              "      border-radius: 50%;\n",
              "      cursor: pointer;\n",
              "      display: none;\n",
              "      fill: #1967D2;\n",
              "      height: 32px;\n",
              "      padding: 0 0 0 0;\n",
              "      width: 32px;\n",
              "    }\n",
              "\n",
              "    .colab-df-convert:hover {\n",
              "      background-color: #E2EBFA;\n",
              "      box-shadow: 0px 1px 2px rgba(60, 64, 67, 0.3), 0px 1px 3px 1px rgba(60, 64, 67, 0.15);\n",
              "      fill: #174EA6;\n",
              "    }\n",
              "\n",
              "    [theme=dark] .colab-df-convert {\n",
              "      background-color: #3B4455;\n",
              "      fill: #D2E3FC;\n",
              "    }\n",
              "\n",
              "    [theme=dark] .colab-df-convert:hover {\n",
              "      background-color: #434B5C;\n",
              "      box-shadow: 0px 1px 3px 1px rgba(0, 0, 0, 0.15);\n",
              "      filter: drop-shadow(0px 1px 2px rgba(0, 0, 0, 0.3));\n",
              "      fill: #FFFFFF;\n",
              "    }\n",
              "  </style>\n",
              "\n",
              "      <script>\n",
              "        const buttonEl =\n",
              "          document.querySelector('#df-db4dd949-3d2b-4d86-bd16-b99c3d66799e button.colab-df-convert');\n",
              "        buttonEl.style.display =\n",
              "          google.colab.kernel.accessAllowed ? 'block' : 'none';\n",
              "\n",
              "        async function convertToInteractive(key) {\n",
              "          const element = document.querySelector('#df-db4dd949-3d2b-4d86-bd16-b99c3d66799e');\n",
              "          const dataTable =\n",
              "            await google.colab.kernel.invokeFunction('convertToInteractive',\n",
              "                                                     [key], {});\n",
              "          if (!dataTable) return;\n",
              "\n",
              "          const docLinkHtml = 'Like what you see? Visit the ' +\n",
              "            '<a target=\"_blank\" href=https://colab.research.google.com/notebooks/data_table.ipynb>data table notebook</a>'\n",
              "            + ' to learn more about interactive tables.';\n",
              "          element.innerHTML = '';\n",
              "          dataTable['output_type'] = 'display_data';\n",
              "          await google.colab.output.renderOutput(dataTable, element);\n",
              "          const docLink = document.createElement('div');\n",
              "          docLink.innerHTML = docLinkHtml;\n",
              "          element.appendChild(docLink);\n",
              "        }\n",
              "      </script>\n",
              "    </div>\n",
              "  </div>\n",
              "  "
            ]
          },
          "metadata": {},
          "execution_count": 109
        }
      ]
    },
    {
      "cell_type": "code",
      "source": [
        "fig, ax = plt.subplots(figsize=(25, 10))\n",
        "sns.barplot(x=\"Palavras\", y=\"Quantidade\", data=df_mais_quatro_letras[:50])\n",
        "fig.autofmt_xdate()"
      ],
      "metadata": {
        "colab": {
          "base_uri": "https://localhost:8080/",
          "height": 582
        },
        "id": "7wKDTM6iqomp",
        "outputId": "7cdd70a1-0ead-4def-d47c-053cd4568542"
      },
      "execution_count": null,
      "outputs": [
        {
          "output_type": "display_data",
          "data": {
            "text/plain": [
              "<Figure size 1800x720 with 1 Axes>"
            ],
            "image/png": "[encoded data removed]"
          },
          "metadata": {}
        }
      ]
    },
    {
      "cell_type": "markdown",
      "source": [
        "Separando uma base para covid e outra para não-covid"
      ],
      "metadata": {
        "id": "HnOHpPCEricS"
      }
    },
    {
      "cell_type": "code",
      "source": [
        "palavras_covid = df[df['classe'] == 'Covid']\n",
        "palavras_nao_covid = df[df['classe'] == 'Não-covid']"
      ],
      "metadata": {
        "id": "J16e8Y-SrNC-"
      },
      "execution_count": null,
      "outputs": []
    },
    {
      "cell_type": "code",
      "source": [
        "qntd_covid = palavras_quantidade(palavras_covid)\n",
        "qntd_nao_covid = palavras_quantidade(palavras_nao_covid)"
      ],
      "metadata": {
        "id": "s2VpaqkzsPpR"
      },
      "execution_count": null,
      "outputs": []
    },
    {
      "cell_type": "code",
      "source": [
        "qntd_covid.head()"
      ],
      "metadata": {
        "colab": {
          "base_uri": "https://localhost:8080/",
          "height": 206
        },
        "id": "dQ0svKEut8eI",
        "outputId": "f45c7b94-b2e8-44eb-da91-b31f48725423"
      },
      "execution_count": null,
      "outputs": [
        {
          "output_type": "execute_result",
          "data": {
            "text/plain": [
              "  Palavras  Quantidade\n",
              "0        a       31355\n",
              "1        e       30536\n",
              "2        o       24758\n",
              "3        r       15290\n",
              "4        s       14853"
            ],
            "text/html": [
              "\n",
              "  <div id=\"df-38a75724-0eda-4a3a-b098-fc058d8d258c\">\n",
              "    <div class=\"colab-df-container\">\n",
              "      <div>\n",
              "<style scoped>\n",
              "    .dataframe tbody tr th:only-of-type {\n",
              "        vertical-align: middle;\n",
              "    }\n",
              "\n",
              "    .dataframe tbody tr th {\n",
              "        vertical-align: top;\n",
              "    }\n",
              "\n",
              "    .dataframe thead th {\n",
              "        text-align: right;\n",
              "    }\n",
              "</style>\n",
              "<table border=\"1\" class=\"dataframe\">\n",
              "  <thead>\n",
              "    <tr style=\"text-align: right;\">\n",
              "      <th></th>\n",
              "      <th>Palavras</th>\n",
              "      <th>Quantidade</th>\n",
              "    </tr>\n",
              "  </thead>\n",
              "  <tbody>\n",
              "    <tr>\n",
              "      <th>0</th>\n",
              "      <td>a</td>\n",
              "      <td>31355</td>\n",
              "    </tr>\n",
              "    <tr>\n",
              "      <th>1</th>\n",
              "      <td>e</td>\n",
              "      <td>30536</td>\n",
              "    </tr>\n",
              "    <tr>\n",
              "      <th>2</th>\n",
              "      <td>o</td>\n",
              "      <td>24758</td>\n",
              "    </tr>\n",
              "    <tr>\n",
              "      <th>3</th>\n",
              "      <td>r</td>\n",
              "      <td>15290</td>\n",
              "    </tr>\n",
              "    <tr>\n",
              "      <th>4</th>\n",
              "      <td>s</td>\n",
              "      <td>14853</td>\n",
              "    </tr>\n",
              "  </tbody>\n",
              "</table>\n",
              "</div>\n",
              "      <button class=\"colab-df-convert\" onclick=\"convertToInteractive('df-38a75724-0eda-4a3a-b098-fc058d8d258c')\"\n",
              "              title=\"Convert this dataframe to an interactive table.\"\n",
              "              style=\"display:none;\">\n",
              "        \n",
              "  <svg xmlns=\"http://www.w3.org/2000/svg\" height=\"24px\"viewBox=\"0 0 24 24\"\n",
              "       width=\"24px\">\n",
              "    <path d=\"M0 0h24v24H0V0z\" fill=\"none\"/>\n",
              "    <path d=\"M18.56 5.44l.94 2.06.94-2.06 2.06-.94-2.06-.94-.94-2.06-.94 2.06-2.06.94zm-11 1L8.5 8.5l.94-2.06 2.06-.94-2.06-.94L8.5 2.5l-.94 2.06-2.06.94zm10 10l.94 2.06.94-2.06 2.06-.94-2.06-.94-.94-2.06-.94 2.06-2.06.94z\"/><path d=\"M17.41 7.96l-1.37-1.37c-.4-.4-.92-.59-1.43-.59-.52 0-1.04.2-1.43.59L10.3 9.45l-7.72 7.72c-.78.78-.78 2.05 0 2.83L4 21.41c.39.39.9.59 1.41.59.51 0 1.02-.2 1.41-.59l7.78-7.78 2.81-2.81c.8-.78.8-2.07 0-2.86zM5.41 20L4 18.59l7.72-7.72 1.47 1.35L5.41 20z\"/>\n",
              "  </svg>\n",
              "      </button>\n",
              "      \n",
              "  <style>\n",
              "    .colab-df-container {\n",
              "      display:flex;\n",
              "      flex-wrap:wrap;\n",
              "      gap: 12px;\n",
              "    }\n",
              "\n",
              "    .colab-df-convert {\n",
              "      background-color: #E8F0FE;\n",
              "      border: none;\n",
              "      border-radius: 50%;\n",
              "      cursor: pointer;\n",
              "      display: none;\n",
              "      fill: #1967D2;\n",
              "      height: 32px;\n",
              "      padding: 0 0 0 0;\n",
              "      width: 32px;\n",
              "    }\n",
              "\n",
              "    .colab-df-convert:hover {\n",
              "      background-color: #E2EBFA;\n",
              "      box-shadow: 0px 1px 2px rgba(60, 64, 67, 0.3), 0px 1px 3px 1px rgba(60, 64, 67, 0.15);\n",
              "      fill: #174EA6;\n",
              "    }\n",
              "\n",
              "    [theme=dark] .colab-df-convert {\n",
              "      background-color: #3B4455;\n",
              "      fill: #D2E3FC;\n",
              "    }\n",
              "\n",
              "    [theme=dark] .colab-df-convert:hover {\n",
              "      background-color: #434B5C;\n",
              "      box-shadow: 0px 1px 3px 1px rgba(0, 0, 0, 0.15);\n",
              "      filter: drop-shadow(0px 1px 2px rgba(0, 0, 0, 0.3));\n",
              "      fill: #FFFFFF;\n",
              "    }\n",
              "  </style>\n",
              "\n",
              "      <script>\n",
              "        const buttonEl =\n",
              "          document.querySelector('#df-38a75724-0eda-4a3a-b098-fc058d8d258c button.colab-df-convert');\n",
              "        buttonEl.style.display =\n",
              "          google.colab.kernel.accessAllowed ? 'block' : 'none';\n",
              "\n",
              "        async function convertToInteractive(key) {\n",
              "          const element = document.querySelector('#df-38a75724-0eda-4a3a-b098-fc058d8d258c');\n",
              "          const dataTable =\n",
              "            await google.colab.kernel.invokeFunction('convertToInteractive',\n",
              "                                                     [key], {});\n",
              "          if (!dataTable) return;\n",
              "\n",
              "          const docLinkHtml = 'Like what you see? Visit the ' +\n",
              "            '<a target=\"_blank\" href=https://colab.research.google.com/notebooks/data_table.ipynb>data table notebook</a>'\n",
              "            + ' to learn more about interactive tables.';\n",
              "          element.innerHTML = '';\n",
              "          dataTable['output_type'] = 'display_data';\n",
              "          await google.colab.output.renderOutput(dataTable, element);\n",
              "          const docLink = document.createElement('div');\n",
              "          docLink.innerHTML = docLinkHtml;\n",
              "          element.appendChild(docLink);\n",
              "        }\n",
              "      </script>\n",
              "    </div>\n",
              "  </div>\n",
              "  "
            ]
          },
          "metadata": {},
          "execution_count": 121
        }
      ]
    },
    {
      "cell_type": "code",
      "source": [
        "qntd_nao_covid.head()"
      ],
      "metadata": {
        "colab": {
          "base_uri": "https://localhost:8080/",
          "height": 206
        },
        "id": "RaU4iACWuAtv",
        "outputId": "c0d9ac53-427b-4c14-a566-b0331482d941"
      },
      "execution_count": null,
      "outputs": [
        {
          "output_type": "execute_result",
          "data": {
            "text/plain": [
              "  Palavras  Quantidade\n",
              "0        a       31696\n",
              "1        e       29400\n",
              "2        o       22939\n",
              "3        s       16107\n",
              "4        r       14635"
            ],
            "text/html": [
              "\n",
              "  <div id=\"df-3943bf25-a333-41a7-a05d-faa60949e367\">\n",
              "    <div class=\"colab-df-container\">\n",
              "      <div>\n",
              "<style scoped>\n",
              "    .dataframe tbody tr th:only-of-type {\n",
              "        vertical-align: middle;\n",
              "    }\n",
              "\n",
              "    .dataframe tbody tr th {\n",
              "        vertical-align: top;\n",
              "    }\n",
              "\n",
              "    .dataframe thead th {\n",
              "        text-align: right;\n",
              "    }\n",
              "</style>\n",
              "<table border=\"1\" class=\"dataframe\">\n",
              "  <thead>\n",
              "    <tr style=\"text-align: right;\">\n",
              "      <th></th>\n",
              "      <th>Palavras</th>\n",
              "      <th>Quantidade</th>\n",
              "    </tr>\n",
              "  </thead>\n",
              "  <tbody>\n",
              "    <tr>\n",
              "      <th>0</th>\n",
              "      <td>a</td>\n",
              "      <td>31696</td>\n",
              "    </tr>\n",
              "    <tr>\n",
              "      <th>1</th>\n",
              "      <td>e</td>\n",
              "      <td>29400</td>\n",
              "    </tr>\n",
              "    <tr>\n",
              "      <th>2</th>\n",
              "      <td>o</td>\n",
              "      <td>22939</td>\n",
              "    </tr>\n",
              "    <tr>\n",
              "      <th>3</th>\n",
              "      <td>s</td>\n",
              "      <td>16107</td>\n",
              "    </tr>\n",
              "    <tr>\n",
              "      <th>4</th>\n",
              "      <td>r</td>\n",
              "      <td>14635</td>\n",
              "    </tr>\n",
              "  </tbody>\n",
              "</table>\n",
              "</div>\n",
              "      <button class=\"colab-df-convert\" onclick=\"convertToInteractive('df-3943bf25-a333-41a7-a05d-faa60949e367')\"\n",
              "              title=\"Convert this dataframe to an interactive table.\"\n",
              "              style=\"display:none;\">\n",
              "        \n",
              "  <svg xmlns=\"http://www.w3.org/2000/svg\" height=\"24px\"viewBox=\"0 0 24 24\"\n",
              "       width=\"24px\">\n",
              "    <path d=\"M0 0h24v24H0V0z\" fill=\"none\"/>\n",
              "    <path d=\"M18.56 5.44l.94 2.06.94-2.06 2.06-.94-2.06-.94-.94-2.06-.94 2.06-2.06.94zm-11 1L8.5 8.5l.94-2.06 2.06-.94-2.06-.94L8.5 2.5l-.94 2.06-2.06.94zm10 10l.94 2.06.94-2.06 2.06-.94-2.06-.94-.94-2.06-.94 2.06-2.06.94z\"/><path d=\"M17.41 7.96l-1.37-1.37c-.4-.4-.92-.59-1.43-.59-.52 0-1.04.2-1.43.59L10.3 9.45l-7.72 7.72c-.78.78-.78 2.05 0 2.83L4 21.41c.39.39.9.59 1.41.59.51 0 1.02-.2 1.41-.59l7.78-7.78 2.81-2.81c.8-.78.8-2.07 0-2.86zM5.41 20L4 18.59l7.72-7.72 1.47 1.35L5.41 20z\"/>\n",
              "  </svg>\n",
              "      </button>\n",
              "      \n",
              "  <style>\n",
              "    .colab-df-container {\n",
              "      display:flex;\n",
              "      flex-wrap:wrap;\n",
              "      gap: 12px;\n",
              "    }\n",
              "\n",
              "    .colab-df-convert {\n",
              "      background-color: #E8F0FE;\n",
              "      border: none;\n",
              "      border-radius: 50%;\n",
              "      cursor: pointer;\n",
              "      display: none;\n",
              "      fill: #1967D2;\n",
              "      height: 32px;\n",
              "      padding: 0 0 0 0;\n",
              "      width: 32px;\n",
              "    }\n",
              "\n",
              "    .colab-df-convert:hover {\n",
              "      background-color: #E2EBFA;\n",
              "      box-shadow: 0px 1px 2px rgba(60, 64, 67, 0.3), 0px 1px 3px 1px rgba(60, 64, 67, 0.15);\n",
              "      fill: #174EA6;\n",
              "    }\n",
              "\n",
              "    [theme=dark] .colab-df-convert {\n",
              "      background-color: #3B4455;\n",
              "      fill: #D2E3FC;\n",
              "    }\n",
              "\n",
              "    [theme=dark] .colab-df-convert:hover {\n",
              "      background-color: #434B5C;\n",
              "      box-shadow: 0px 1px 3px 1px rgba(0, 0, 0, 0.15);\n",
              "      filter: drop-shadow(0px 1px 2px rgba(0, 0, 0, 0.3));\n",
              "      fill: #FFFFFF;\n",
              "    }\n",
              "  </style>\n",
              "\n",
              "      <script>\n",
              "        const buttonEl =\n",
              "          document.querySelector('#df-3943bf25-a333-41a7-a05d-faa60949e367 button.colab-df-convert');\n",
              "        buttonEl.style.display =\n",
              "          google.colab.kernel.accessAllowed ? 'block' : 'none';\n",
              "\n",
              "        async function convertToInteractive(key) {\n",
              "          const element = document.querySelector('#df-3943bf25-a333-41a7-a05d-faa60949e367');\n",
              "          const dataTable =\n",
              "            await google.colab.kernel.invokeFunction('convertToInteractive',\n",
              "                                                     [key], {});\n",
              "          if (!dataTable) return;\n",
              "\n",
              "          const docLinkHtml = 'Like what you see? Visit the ' +\n",
              "            '<a target=\"_blank\" href=https://colab.research.google.com/notebooks/data_table.ipynb>data table notebook</a>'\n",
              "            + ' to learn more about interactive tables.';\n",
              "          element.innerHTML = '';\n",
              "          dataTable['output_type'] = 'display_data';\n",
              "          await google.colab.output.renderOutput(dataTable, element);\n",
              "          const docLink = document.createElement('div');\n",
              "          docLink.innerHTML = docLinkHtml;\n",
              "          element.appendChild(docLink);\n",
              "        }\n",
              "      </script>\n",
              "    </div>\n",
              "  </div>\n",
              "  "
            ]
          },
          "metadata": {},
          "execution_count": 122
        }
      ]
    },
    {
      "cell_type": "markdown",
      "source": [
        "Novamente as palavras mais ditas não tem muito significado, então vamos pegar palavras com mais letras"
      ],
      "metadata": {
        "id": "BvAtJWzsuGEO"
      }
    },
    {
      "cell_type": "code",
      "source": [
        "df_covid = pd.DataFrame()\n",
        "for i in qntd_covid.Palavras:\n",
        "  if len(i) > 3:\n",
        "    d = qntd_covid[qntd_covid[\"Palavras\"] == i]\n",
        "    df_covid = pd.concat([df_covid, d])"
      ],
      "metadata": {
        "id": "yP1N68iduPiL"
      },
      "execution_count": null,
      "outputs": []
    },
    {
      "cell_type": "code",
      "source": [
        "fig, ax = plt.subplots(figsize=(25, 10))\n",
        "sns.barplot(x=\"Palavras\", y=\"Quantidade\", data=df_covid[:50])\n",
        "fig.autofmt_xdate()"
      ],
      "metadata": {
        "colab": {
          "base_uri": "https://localhost:8080/",
          "height": 579
        },
        "id": "YkfwkKkmuaPO",
        "outputId": "bcd12bd8-156f-4085-8314-a80b0c1826b8"
      },
      "execution_count": null,
      "outputs": [
        {
          "output_type": "display_data",
          "data": {
            "text/plain": [
              "<Figure size 1800x720 with 1 Axes>"
            ],
            "image/png": "[encoded data removed]"
          },
          "metadata": {}
        }
      ]
    },
    {
      "cell_type": "code",
      "source": [
        "df_nao_covid = pd.DataFrame()\n",
        "for i in qntd_nao_covid.Palavras:\n",
        "  if len(i) > 3:\n",
        "    d = qntd_nao_covid[qntd_nao_covid[\"Palavras\"] == i]\n",
        "    df_nao_covid= pd.concat([df_nao_covid, d])"
      ],
      "metadata": {
        "id": "1HKlYZTdu0P4"
      },
      "execution_count": null,
      "outputs": []
    },
    {
      "cell_type": "code",
      "source": [
        "fig, ax = plt.subplots(figsize=(25, 10))\n",
        "sns.barplot(x=\"Palavras\", y=\"Quantidade\", data=df_nao_covid[:50])\n",
        "fig.autofmt_xdate()"
      ],
      "metadata": {
        "colab": {
          "base_uri": "https://localhost:8080/",
          "height": 582
        },
        "id": "IMH9M4lTu4rm",
        "outputId": "c6d1cb5d-8977-4081-8aa9-4c5b85a6182a"
      },
      "execution_count": null,
      "outputs": [
        {
          "output_type": "display_data",
          "data": {
            "text/plain": [
              "<Figure size 1800x720 with 1 Axes>"
            ],
            "image/png": "[encoded data removed]"
          },
          "metadata": {}
        }
      ]
    },
    {
      "cell_type": "markdown",
      "source": [
        "Percebemos que nos dados de não covid tem a repetição de 'k's "
      ],
      "metadata": {
        "id": "i9gvWWFawhPY"
      }
    },
    {
      "cell_type": "markdown",
      "source": [
        "## Fazendo o pré processamento dos tweets"
      ],
      "metadata": {
        "id": "NNBMW5PiWQdd"
      }
    },
    {
      "cell_type": "code",
      "source": [
        "#for i in range(0, len(str2)):\n",
        "#  print('Frequency of', str2[i], 'is :', str.count(str2[i])) "
      ],
      "metadata": {
        "id": "mbk63ARUF2Ol"
      },
      "execution_count": null,
      "outputs": []
    },
    {
      "cell_type": "code",
      "metadata": {
        "id": "CxpHZolYI1W9"
      },
      "source": [
        "#convert to lowercase, strip and remove punctuations\n",
        "def preprocess(text):\n",
        "    text = text.lower() \n",
        "    text = text.strip()  \n",
        "    text = re.compile('<.*?>').sub('', text) \n",
        "    text = re.compile('[%s]' % re.escape(string.punctuation)).sub(' ', text)  \n",
        "    text = re.sub('\\s+', ' ', text)  \n",
        "    text = re.sub(r'\\[[0-9]*\\]',' ',text) \n",
        "    text=re.sub(r'[^\\w\\s]', '', str(text).lower().strip())\n",
        "    text = re.sub(r'\\d',' ',text) \n",
        "    text = re.sub(r'\\s+',' ',text)\n",
        "    return text\n",
        "\n",
        " \n",
        "# STOPWORD REMOVAL\n",
        "def stopword(string):\n",
        "    a= [i for i in string.split() if i not in nltk.corpus.stopwords.words('portuguese')]\n",
        "    return ' '.join(a)\n",
        "\n",
        "#LEMMATIZATION\n",
        "# Initialize the lemmatizer\n",
        "rslp = RSLPStemmer()\n",
        " \n",
        "# This is a helper function to map NTLK position tags\n",
        "def get_wordnet_pos(tag):\n",
        "    if tag.startswith('J'):\n",
        "        return wordnet.ADJ\n",
        "    elif tag.startswith('V'):\n",
        "        return wordnet.VERB\n",
        "    elif tag.startswith('N'):\n",
        "        return wordnet.NOUN\n",
        "    elif tag.startswith('R'):\n",
        "        return wordnet.ADV\n",
        "    else:\n",
        "        return wordnet.NOUN\n",
        "# Tokenize the sentence\n",
        "def lemmatizer(string):\n",
        "    word_pos_tags = nltk.pos_tag(word_tokenize(string)) # Get position tags\n",
        "    a=[rslp.stem(tag[0]) for idx, tag in enumerate(word_pos_tags)] # Map the position tag and lemmatize the word/token\n",
        "    return \" \".join(a)"
      ],
      "execution_count": null,
      "outputs": []
    },
    {
      "cell_type": "code",
      "source": [
        "stopwords = nltk.corpus.stopwords.words('portuguese')"
      ],
      "metadata": {
        "id": "MeYrZ8tfa9ym"
      },
      "execution_count": null,
      "outputs": []
    },
    {
      "cell_type": "code",
      "source": [
        "textosPuros = df['frases']\n",
        "frases = textosPuros.str.lower()\n",
        "textosQuebrados = [nltk.tokenize.word_tokenize(frase) for frase in frases]"
      ],
      "metadata": {
        "id": "jXHnpuOzaiOw"
      },
      "execution_count": null,
      "outputs": []
    },
    {
      "cell_type": "code",
      "source": [
        "stemmer = nltk.stem.RSLPStemmer()\n",
        "\n",
        "dicionario = set()\n",
        "\n",
        "for lista in textosQuebrados:\n",
        "\tvalidas = [stemmer.stem(palavra) for palavra in lista if palavra not in stopwords]\n",
        "\tdicionario.update(validas)\n",
        "\n",
        "print(dicionario)"
      ],
      "metadata": {
        "colab": {
          "base_uri": "https://localhost:8080/"
        },
        "id": "rKphEvAJadz-",
        "outputId": "7c93a259-2433-4f43-c6b2-dfde4755b086"
      },
      "execution_count": null,
      "outputs": [
        {
          "output_type": "stream",
          "name": "stdout",
          "text": [
            "{'oq', 'roman', 'calor\\\\nt', 'lex', 'kon', 'pqpðÿ™', 'prq', 'fung', 'ole', 'ad', 'arri', 'i\\xadru', 'sextouuu', 'tomograf', 'te', 'grav', 'vacinal\\\\n', 'mín', 'deixa-m', 'bbb\\\\nm', '\\\\n0525', 'staccato\\\\n', 'anúnci', 'mdsssss', 'manifestaça', 'palitoy', 'morte\\\\nm', 'wald', '\\\\u0001f971', 'vind', 'flor', 'amoreh', 'cima\\\\nsu', 'daqu', 'duz', 'kan', 'bemna', 'mal-est', 'mem', 'ðÿ™ˆ', 'scuol', 'cult', 'arromb', 'recep', 'trégu', 'ia', 'me', 'fodm', 'coviiiid', 'ikk', 'evita', 'doeu', 'opa', 'concert', 'cha\\\\naliv', 'ho', 'trá', 'moç', 'cim', 'sono\\\\n\\\\nmu', 'pfvr', '€', '378', 'predi', 'sorvet', 'tmnc\\\\u0001f92f', 'angiºst', 'reaç', 'lem', 'pescoç', 'eles…', 'morr', 'dougl', 'tiºnel', 'negacionista…', 'deusksksksskksksk', 'cerc', 'hyp', 'tosse\\\\nq', 'alemanh', '156kg', 'giur', 'rapidotom', 'alvej', 'enrol', 'â€œ\\\\n\\\\n', 'astrazenec', 'engasgou-s', 'ðÿ˜¨ðÿ˜¨ðÿ˜¨', '\\\\nâ€œna', 'terri\\xad', 'obje', 'amb', 'esquisit', 'rinite\\\\n', 'má', 'grip', 'fes-th', 'irritaça', 'â€œc', 'alopec', 'avant', 'ri\\xadg', 'surt', 'basket', 'got', 'ihulll', 'vômit', 'proteg', 'roqu', 'céu\\\\nqu', 'zah', 'fann', 'orient', 'moooorr', 'vent', 'condiçiµ', '–ðÿ', 'dad', 'fusc', 'etic', 'sarah', 'reaçom', 'dai\\xad', '\\\\nou\\\\n', 'inconformadoðÿ™_x008f_ðÿ_x008f_', 'viol', 'lucky', 'implor', 'thal', 'sanitari', 'ðÿ¤¦ðÿ_x008f_¼\\\\u200dâ™‚ï¸_x008f_ðÿ˜', 'fenomen', 'ff', 'ì—ì€', 'pel', 'kkkkkkkkkkkkkkkkkkkkkkkkkkkkkkkkkkkkkkkkkkkk', 'pus-m', 'própri', 'fraquinho\\\\n\\\\nm', 'sui\\xadn', 'cri\\xad', 'precis', 'crim', 'produ', 'sobreviv', 'chul', 'tir', 'positivo…', 'smapag', 'tudo\\\\nfal', 'profilax', 'desinstal', 'depressãoansiedadepanicopressa', 'qi', 'iogurt', 'ã…¤\\\\nã…¤bom', '1\\\\n430', 'toss…', 'morre', 'ar…', 'div', 'tomb', 'daquel', 'eut', 'cam', 'fe', 'ne\\\\nmisericord', 'surreal\\\\nðÿ˜°', 'ti\\xadmp', 'xi\\xadc', 'â€œme', 'fumandoâ€_x009d_', 'son', 'salg', 'pouco\\\\nont', 'start', 'sonh', 'fortalece…', 'extern', 'desesperopens', 'ðÿ˜ž', 'ðÿ¤™', 'interrog', 'prat', 'pahhahahah', '0420', 'vagabundo\\\\n', 'manhã', '16', 'hoj', 'send', 'ðÿ˜•', 'hospital\\\\nespeci', '3800', '21', 'mexic', 'artist', 'tecnolog', 'buchud', 'oiprova', 'placeb', 'constrang', 'coronavi\\xadrus\\\\num', 'love…', 'per', 'assit', 'chðµgar\\\\nalg', 'âœ¨ðÿ™_x008f_ðÿ_x008f_¾ðÿ˜·ðÿ', 'bt', 'un', 'stat', '-', 'descalibr', 'insôn', 'sinal', 'fors', 'tremp', '‚a', 'dessaaaaaa', 'awa', 'sombr', 'quiserem\\\\n\\\\nvol', 'til', 'marlbor', 'tambem\\\\nna', 'sempre\\\\nc', 'limp', 'farmaceu', 'mit', 'body', 'ðÿ¤•ðÿ˜·', 'detest', 'ðÿ˜ª', 'nostalg', 'hosp', 'pilantr', 'el\\\\xa0bolsón', 'result', 'horas…', 'ðÿ˜ªðÿ˜ª', 'ðÿ˜¥ðÿ˜§', 'chikungunh', 'moíd', 'nada\\\\n\\\\n', 'nnn', 'tosse…', 'amadeu…', 'trocadilh', 'msg', 'locur', 'vid', 'tigli', '88kg', 'garrotilh', '\\\\u0001f90f', 'volnovich', 'n95', 'vam', 'questa', 'pressi', 'vert', 'sis', 'instant', 'dorðÿ˜žðÿ¤', 'ai5', 'mantenha-s', 'quand', 'falh', '23', 'mor', 'conheç', 'ho…', 'raç', 'fri', 'folh', 'medicaça', '\\\\nfabrici', 'desmai', 'padr', 'informaçiµ', 'most', 'esquadra', 'amado', 'aaaa\\\\nvey', 'bar…', '132', 'murfin', 'ðÿ¥µðÿ¥µ', 'nelaðÿ˜', 'configur', 'mogens600', 'vide', 'elecciom', 'engan', 'suav', 'gebt', 'peopl', 'manhafebretosseincomod', 'rinca', 'besteira\\\\nc', 'interna-l', 'nin', 'cac', 'drauzi', 'salt', 'bactér', 'obvi', 'cordat', 'egundooo', 'mê', 'cual', 'dificil', 'vom', 'oqðÿ¤¦ðÿ_x008f_', 'ha', 'chat', '0530', 'bgd', '\\\\n\\\\neeeeeeeeee', 'polu', 'époc', 'ma…', 'atr', 'telefonem', 'patrão\\\\nn', 'n…', 'acert', '¦', 'covid\\\\n', 'ðÿ˜•ðÿ˜•', 'reconcili', 'semelh', 'dribl', 'hair', 'ripens', 'urg', 'menos', 'descartan', 'política…', 'rasg', 'dobr', 'kkkkkkm', 'dellinter', 'del', 'arranc', 'lexa\\\\n\\\\nsinc', 'calçada', 'entrevist', 'vrdd', 'irresponsa', 'passout', 'hahahahaha\\\\n', 'lag', 'invest', 'febreðÿ˜–', 'dificuldad', 'presenç', 'febre=', 'sedentar', 'ðÿ˜©ðÿ¤¦ðÿ_x008f_', 'hor…', 'trov', 'chin', 'buff', 'simples', 'glor', 'etal\\\\nd', 'iiiiiii', 'caray', 'geraça', 'dispar', 'violent', 'c', 'invisi_x008d_', 'ðÿ˜_x008d_ðÿ˜_x008d_ðÿ˜_x008d_', 'auch', 'arab', 'esqu…', 'tranc', 'pagod', 'inquiet', 'piment', 'kkkkkkkkkkkkkkkkkkk', 'tamanc', 'friday', 'comparav', 'estranh', '18', '\\\\nðÿ•¢1930h', 'churrasc', 'portug', 'independenc', 'pem', 'ench', 'fantasi', 'corpo…', 'mig', 'novo\\\\u0001f97', 'primav', 'tr', 'bem\\\\noq', 'sempr', 'polít', 'dess', '\\u200b\\u200bà', 'mãe…', 'fortunat', 'lentaâ€_x009d_', 'cheg', 'observ', 'ansiedade\\\\n\\\\nqu', 'jug', 'ci_x0081_ssi', 'terri', 'human', 'ðÿ˜\\xadðÿ˜\\xadðÿ˜\\xadðÿ˜\\xad', 'consci', 'mufin', 'pulmãovoc', 'telefon', 'bronchenol', 'rowling', 'vocet', 'sin', '(', 'jetskil', 'alegr', 'vint', 'post', 'brut', 'desanim', 'lembr', 'tapete\\\\nsuspir', 'konc', 'assassin', 'esta-m', 'conv', 'ano\\\\nset', 'canil', 'aoreport', 'unheeeee', 'importar…', 'eleitor', 'decret', 'sr', 'covid-19\\\\n\\\\nl', 'simpl', 'chata', 'em…', 'tratar-m', 'sabadodoming', 'anticoncepc', '382', 'blz', 'ex', 'patrocin', '10km', 'env', 'lá', 'rainh', 'princes', 'dp', 'obgg', 'ther', 'acus', 'hello', '\\\\n\\\\nmandett', '2hor', 'kkkkkkkkkkkkkkkkkk', 'tropeç', 'parl', 'tosseâ€_x009d_', 'embebed', 'bap', 'id', 've-l', 'â€œs', 'ri', 'cadav', 'kkkkkkkkkkkkkkk', '\\\\nmal', 'twig', 'stori', 'són', 'esperienz', 'febre\\\\n\\\\nsent', 'chuc', 'confirm', 'golp', 'teor', 'labirint', 'patrick', 'tiv…', 'gargantaolfat', 'ous', 'lend', 'ze', 'remed', 'emot', '6al', 'assalt', 'febre\\\\nm', 'toxic', 'socorr', 'negativos\\\\n', '\\\\u0001f90d', 'desconhec', 'anim', 'ruimm', 'â€œfebr', 'algm', 'past', '\\\\noptageren', 'pens…', 'ofur', 'paralis', 'deus', 'bochech', 'seca\\\\nfalt', 'bor', 'ouv', 'hist', 'nãoooo', 'aguent', 'gays\\\\ncas', 'labi', 'morirs', 'i¨', 'zer', 'cobid', 'mg', 'bota-l', 'fri¼hsommerlichen', 'mb', 'grac', 'itajai\\xad', 'situaçiµ', 'larret', 'assistenc', '_x008d_ðÿ_x008f_½ðÿ', 'hojeðÿ˜•', 'comun', 'docent', '\\\\n\\\\nhidroxicloroquin', '\\\\nmaravilh', 'diarr', '7am', 'reveillon', 'entreg', 'ameniz', 'estrag', 'fueg', '520', '\\\\nsu', '\\\\n2', 'vem', 'nun…', 'lad', 'pq', 'margarin', 'press', 'chaaaat', 'deussss', 'jogu', 'positiv', 'masturbaça', '$', '61', 'clientes…', 'coron', '432', 'zenitsu', 'the', 'quil', 'nebul', 'bem', 'satan', 'malu', 'etc', 'loop', 'endemoni', 'negr', 'ar\\\\nsaib', 'minor', 'ƒðÿ_x008f_', 'infecca', 'desenho\\\\nsó', 'stamattin', 'tengon', 'anti-inflamatori', 'eletrôn', 'ðÿ¤£', 'petrecc', 'importanc', 'hoj…', 'ë¥´_ìš°ë¦°ìš°ë¦¬ëœ€ë¡œê°', 'gel\\\\n\\\\ndoc', 'vecin', 'â€œacord', 'amig', 'passat', 'fon', 'juk', 'ðÿ¤¬ðÿ˜', 'kkkkkkkkkkkkkk', 'magr', 'têm', 'abys', 'pret', 'dic', 'açuc', 'aul', 'dormi…', 'comp', '\\\\n\\\\nqu', 'hahahahahhahaah', 'ðÿ¤£ðÿ¤£ðÿ¤£ðÿ¤£ðÿ¤£ðÿ¤£ðÿ¤£ðÿ¤£ðÿ¤£ðÿ¤£ðÿ¤£ðÿ¤£ðÿ¤£ðÿ¤£ðÿ¤£ðÿ¤£ðÿ¤£ðÿ¤£ðÿ¤£ðÿ¤£ðÿ¤£ðÿ¤£ðÿ¤£ðÿ¤£ðÿ¤£ðÿ¤£', 'ouvido\\\\ngrat', 'dig', 'pir', 'ðÿ˜žðÿ¤¦', 'ðÿ¤§âœšðÿ', 'palm', 'consciišnc', 'tel', 'âœ¨\\\\u0001f974', 'companheiro\\\\nesper', 'cooki', 'softw', 'doram', 'plmds', 'bom', 'transport', 'schlaft', 'assunto\\\\n\\\\nqu', '_x008d_', 'projotapeg', 'pišblica\\\\ns', 'opçiµes\\\\nnariz', 'giovann', 'pouc', 'diaa', 'nao-binari', 'deixassss', 'marcu', 'simt', 'feir', 'qs', 'sima', 'subestim', 'insôn…', 'mont', 'context', 'base', 'ot', 'eso', 'trob', 'ficava…', 'ðÿ¤·ðÿ_x008f_¼\\\\u200dâ™€ï¸_x008f_ðÿ¤£\\\\nm', 'stalin', 'ama', 'conan', 'combin', 'raf', 'lebre\\\\ncoraça', 'apanh', 'ou…', 'â€œtoss', 'globolix', 'critic', 'ola', 'oxigeni', 'igual', 'remédi', 'admnistr', 'u0001f92cðÿ¤', 'tret', 'brux', 'oraça', 'covid\\\\nd', 'desgovern', 'febre\\\\nmej', 'médic', 'anjo\\\\nf', 'ex-m', 'resid', 'check', 'pitic', 'comentari', 'â€œtud', 'mantenh', 'yoong', 'hora||', 'desparr', 'branhm', 'torr', 'hipertens', 'derrub', 'aiiiiðÿ˜\\xad', 'tv', 'reação…', 'maisðÿ˜\\xad', '39â°', 'kkkkakslskskskskskkssk', 'coincidenc', 'mi_x0081_sc', 'goi', 'dimenticat', 'su', 'barulha', 'charut', 'thai\\xad', 'destru', 'angelehnt', 'ðÿ¤¦ðÿ_x008f_¾\\\\u200dâ™€ï¸_x008f_ðÿ˜', 'day', 'solid', 'recei', 'barriga', 'tifoid', 'indispensa', 'zuckerberg', 'abdômen', 'cosi¬', 'famíl', 'demaissss', 'ðÿ—£ï¸_x008f_ðÿ—£ï¸_x008f_ðÿ—£ï¸_x008f_ðÿ—£ï¸_x008f_ðÿ—£ï¸_x008f_ðÿ—£ï¸_x008f_', 'asa', 'escol', 'psico', 'ultr', 'di', 'merma', 'age', 'cen', 'relaxou…', 'tossid', '\\\\ncom', 'diliºvi', 'pergunt', 'c…', 'esfr', 'cade', 'pandem', 'umd', 'corticóid', 'hairel', 'fudidaa', ')', 'ðÿ¤¬ðÿ¤¬', 'kkkkkkkkkkkkkkkkkkkkkk', '32â°c', 'desculp', 'codig', 'astrazaneca\\\\n\\\\nfebr', 'anc', 'â€œcagadinhaâ€_x009d_', '37â°', 'campeã', 'relogi', 'âœœðÿ_x008f_', 'prevença', 'too', '\\\\nâ€œ', '\\\\ncarl', 'gay', 'colpett…', 'eficienc', 'feitiç', 'ksjsjajakaggjak', 'round', 'atençi', 'polaramin', 'tratamento…', 'â€œah', 'mari', 'particip', 'quarenten', '074330', 'momentos\\\\np', 'empipoc', 'disponibil', 'mogot', 'gilbert', 'impossibilit', 'socorro\\\\n\\\\n', 'peug', 'profiss', 'tam', 'capisc', 'ônibus\\\\num', 'gnc', 'dorðÿ¤¡', 'hidrataça', 'cal', 'desarmado…', 'pessoas\\\\n\\\\nnunc', 'tô', 'voltou\\\\npap', 'febre+', 'pirir', 'tal', 'green', '2\\\\nacord', 'pidi', 'camis', 'direcion', '65', 'fein', 'esterc', 'receb', 'tétan', 'bra…', 'bolad', 'deca', 'ju', 'sed', 'defês', 'ar\\\\n\\\\nv', 'cosealtrim…', 'ar\\\\nq', 'insist', 'cesáre', 'feia\\\\nc', 'cancel', 'arðÿ˜¬', 'narur', 'ué', 'neuroni', 'biciclet', 'nicht', 'alti\\xadss', 'bolada', 'mutrett', 'val', 'bea', 'sistem', 'bbnc', 'melod', 'e_hospital', 'ríg', 'cien', 'casseteðÿ™', 'ihhh', 'infecça', '5288', 'psiq', 'blist', 'vish', 'cloroquin', 'contat', 'corticoid', 'aumentou\\\\n\\\\nv', 'servici', 'cacet', 'autodepressioativosðÿ˜©', 'de', 'adoec', 'argument', 'enquant', 'gil', 'man', 'nathan', 'stalkei', '2019', 'íngu', 'alcool-gel', 'entub', 'mot', 'descrit', 'delincu', 'qued', '\\\\u0001f9a0', 'trip', 'tip…', '1998', 'rend', '\\\\u0001f973', 'sair', 'ufsc', 'dnv…', 'yoon', 'krist', 'dedec', '\\\\n\\\\nnickelodeon', 'víru', 'ovo', 'comig', 'seca\\\\ncansaço\\\\n', 'pessoas…', 'tatto', 'jorn', '12', 'cess', 'super', 'covid\\\\ntoss', 'instantane', 'filip', 'compre', 'expectoraça', 'covidâ€_x009d_', 'clor', 'cla', 'apo', '6h', 'â€œserv', 'pandemia\\\\n\\\\n', 'paci', 'legislat', 'tremiliqu', 'cai', 'boi', 'vozâ€_x009d_\\\\n', 'mass', 'soluça', 'desce\\\\ntu', 'doendo\\\\n', 'vi', 'tranquill', 'tran…', 'espacat', 'inic', 'xíc', 'tet', 'testemunh', 'vald', 'mindfulnes', 'infeliz', 'fever', 'circ', 'le-s', 'tb', 'st', '=', 'lepr', 'interval', 'jornal', 'pah', 'piscinahj', 'visibil', 'classific', 'bisav', 'pós-guit', 'ofic', 'parol', 'hs', 'melhor', 'doente\\\\n\\\\n', '\\\\nâ€œresp', '6s', 'ligar\\\\nm', 'responsav', 'balzellett', 'febre\\\\nvoc', '168', 'scritt', 'relaçw', 'fiocruz', 'curry', 'tregu', 'nio', 'encor', 'entardec', 'patogén', 'lkkkkkk', 'explicaça', 'zolpid', 'ja…', 'harry', 'download', 'mediq', 'padra', 'caraí', 'sobr', 'portugu', 'tatu', 'diplom', 'clubpick', 'filh…', 'euph', 'sei\\\\n\\\\nc', 'imag', 'campeiµ', 'sit', 'coronalov', 'erro\\\\nfim', 'ten', 'esferg', 'presencialidad', 'preguiç', 'agr\\\\u200d', 'desan', 'any', 'empat', 'agênc', 'sob', 'ðÿ˜©ðÿ¤§ðÿ˜·', 'ðÿ¥ºðÿ¥ºðÿ', 'caid', 'tant', '39', '872202653\\\\n', 'ivet', 'sint', 'inox', 'durm', 'piettr', 'infern', 'aqui…', 'kkkkkkkkkkkkkkkkkkkkkkkk', 'tosse\\\\n', 'tallyt', '\\\\ness', 'brasil\\\\n', 'tromb', '\\\\ncamill', 'enjoo\\\\n\\\\n', 'dezembr', 'agradeç', 'popul', '\\\\n\\\\nbr', 'panic', 'compars', 'sucumb', 'chines', '330', 'educ', 'menoz', 'ðÿ¤¦ðÿ_x008f_¿', 'experienc', 'mand', 'i±', 'aress', 'ðÿ_x008f_ƒðÿ_x008f_½â™‚\\\\u200d', 'lu', 'matte', 'respiran…', 'ci¨', 'ðÿ˜·ðÿ˜', 'ne\\\\nprim', 'envergonh', 'escolios', 'bruna\\\\n\\\\n', 'natur', 'agred', 'planej', 'desgast', 'dog', 'seca\\\\nrodolff', 'suvac', 'hiv', 'ë‹¤\\\\n\\\\xa0', 'tosse\\\\nalguém', '27', '[', 'bon', 'esclarec', 'colcha', 'žnor', 'exat', 'wue', 'paul', 'ode', 'maqui', 'cos', 'nada\\\\nm', 'esper', 'rel', 'merdaombr', 'declar', 'posit', 'profess…', 'sai\\xadd', 'tend', 'ouç', 'amplos\\\\n\\\\ness', 'deseleg', 'exc', 'retorn', '779', 'issomostr', '\\\\n\\\\nfaz', 'amarel', 'peruc', 'gr', '300', 'well', 'monstro\\\\n\\\\nmach', 'cec', 'jiºni', 'paaara', '39â°c', 'afit', 'amiga\\\\n', 'das', 'œ\\\\n\\\\ndesd', 'merd', 'febreðÿ˜©', 'nutell', 'crl', '\\\\n\\\\nblz', '\\\\nqu', 'trocent', 'ead', 'franciel', 'vesp', 'milha', 'manifest', 'big', 'perdiça', 'consequ', 'conveni', 'brej', 'alcanzan', 'mjnh', 'propósit', 'hipocondri\\xadac', 'furunc', 'arâ€_x009d_', 'est', 'jog', 'significado\\\\n', 'esqu', 'normal…', 'afric', 'sebastian', 'chicungu…', 'delef', 'fer', 'dileeeeeem', 'posse\\\\n', 'comidabeb', 'reencontr', 'guit', 'pqp', 'segundaal', 'ness', 'h', 'day6', 'wind', '‡entrev', 'racional', 'reaj', 'farmac', 'aaaaaaaaaaaaaaaaaaaaaaaaaaaaaaaaaa', 'dei', 'covid\\\\n\\\\nt', 'nebulizaça', 'febresext', 'novoðÿ˜\\xadðÿ¤§', 'ajeit', 'milen', 'sondej', 'apne', 'ki¶nnt', 'consequenc', 'vacu', 'abenço', 'jov', 'eh', 'nd', 'realcity', 'horror', 'crec', 'pqp\\\\n', 'ribe', 'gael', 'preparem-s', 'flameng', 'chut', 'crôn', '\\\\u200d\\\\u200d', 'abess', 'curado\\\\n', 'br', 'molest', 'febred', 'bia', 'sum', 'go', 'cor\\\\n', 'gargan…', 'ðÿ¥³', 'perfe', 'biz', 'faz', 'abdom', 'gremi', 'inaccettabil', 'chiest', 'sabeâ€_x009d_', 'regress', 'resfriadoning', 'fledd', 'â€œfilh', 'desanimoaind', 'acompanh', 'assintoma', '1328', 'jesusâ€_x009d_', 'td…', 'vc', 'detalh', 'odeiooo', 'sei\\\\nrs\\\\n\\\\nofic', 'onlif', 'xepael', 'noti\\xadc', 'juan', 'antibio', 'ger', 'rim', 'desprend', 'denomin', 'prox', 'ciº', '5x', 'corpotoss', 'crise\\\\ncor', 'ati‰', 'triste\\\\n', 'reinvent', 'ant', 'fat', 'ï¸_x008f_â˜', '@', 'ma-\\\\ntant', 'compl', 'nv', 'ataqu', 'agend', 'queixamo-n', 'coit', 'sab…', 'matur', 'vend', 'charlata', 'total', 'abandon', 'tetec', 'imunizaça', 'hel', 'zayn', 'perseg', 'coronavíru', 'n\\\\n', 'almoç', 'exa…', 'od', 'afilh', 'foto…', 'studioo', 'termometr', 'cacjorr', 'quadr', 'sinusite\\\\nt', 'gab', 'aucerol', 'vir', 'gestión', 'bomm', 'sinusit', 'awu', 'inflamadamasus', 'frequ', 'paracetamol', 'escut', 'merda\\\\nj', 'cicatriz', 'hospit', 'merda\\\\nv', 'ans', 'dâ€™', 'noi', 'répl', 'prof', 'pess', 'fug', 'falan', 'tornozel', 'ar\\\\nprecis', 'caralhooo', 'juventud', 'kind', 'preocupaça', 'passa\\\\n\\\\ntom', 'eft', 'euuuuadm', 'ocul', 'sembr', 'prova', 'horas\\\\n\\\\nsu', 'lmfa', 'forteâ€_x009d_', 'indicazion', 'prr', 'desmotiv', '435', 'oxigenio\\\\n', 'sáb', 'ate', 'misteri', 'vital', 'tuss', 'bronquit', 'simpa', 'ðÿ˜\\xadðÿ¤¦ðÿ_x008f_¿\\\\u200dâ™‚ï¸_x008f_', 'febre\\\\n-', 'penalv', '40', 'help', 'açaí', 'expli\\xadcit', 'pre', 'focinh', 'perigo…', 'ex-prefeit', 'kkkkkkkkkkk', 'kdkekrrk', 'cuscuz', 'entreabr', 'ðÿ˜\\xadðÿ˜\\xad', 'loc', '3â°', 'loratadin', 'dum', '387', 'febril', 'horri\\xad', 'uipbrun', 'helo', 'eee', 'agost', 'gratuit', 'karol…', 'kakksoskskskskksksksodkskkx', 'mein', 'sp', 'corona\\\\nsempr', '€\\\\nnietzsch', 'beb', 'náuse', 'artesan', '\\\\u0001f974\\\\nsegund', 'outros\\\\nm', '\\\\n\\\\npiort', 'pediatr', 'renal', 'precoss', 'algu', 'cusp', 'tri', 'jok', 'âœœðÿ_x008f_¼ðÿ˜©', 'infecçiµ', 'soluzionis', 'mim', '\\\\u0001f92a\\\\u0001f92aest', 'sabad', 'acord', '22â°c', 'morrendod', 'norma', 'veloc', 'kes', 'meu…', 'capet', 'agrada', 'â€œ', 'local', 'protocolo\\\\npod', 'cors', 'cagada\\\\n\\\\nimagin', 'kkkkkkkkkkkkkkkkkkkkkkkkkkkkkkkkk', 'desper', 'ðÿ¤§ðÿ¤§ðÿ¤§', '1\\\\ntom', 'add\\\\nacord', 'iid', 'repreend', 'gargant', 'abid', 'bué', '_x008f_ðÿ_x008f_', 'emmm', 'naça', 'dormirðÿ˜£', 'estilhaç', 'cheir', 'death', 'roup', 'stream', 'ne', 'minim', 'abelh', 'fund', 'wu', 'cai\\xad', 'analis', 'empolg', 'maxil', 'isdabel', 'anorm', 'achocolat', 'pi', 'difer', 'camil', 'rapazkkkkkkkkkkkkkkkk', 'resistem…', 'hahahahhahah', 'moot', 'joj', 'pioraram\\\\n\\\\nansiedad', 'lik', 'long', 'oss', 'què', 'cosa', 'agathaðÿ¤¦ðÿ_x008f_', 'glob', 'youngja', 'ocê', 'porra\\\\n\\\\nm', 'dia\\\\n', 'deputad', 'minha\\\\n\\\\n', 'mini-gu', 'exempl', 'respiro\\\\n', 'o…', 'jaj', 'golback', 'identific', 'operatori', 'mun', 'merdaaaa', '1926', 'problemasint', 'nenhum', '2020', 'lt3\\\\napag', 'pigarreiatoss', '35â°', 'mang', 'ann', 'adult', 'hahahahh', 'perguntas\\\\n', 'borbolet', 'tid', 'embaix', 'bolsonar', 'fil', 'garg…', 'psican', 'cred', 'genov', 'icon', 'pedagóg', 'ðÿ˜ªðÿ˜', '\\\\u0001f92f', 'ar\\\\nn', 'mattin', 'amo', 'febre\\\\nmano\\\\nd', 'ðÿš', 'aglomer', 'desgraçadaa', 'cruz', 'enz', 'tosseðÿ˜œ', 'recurs', 'caðÿ™', 'muitooo', 'busqu', 'vtnc', 'simul', 'music', 'amoresss', 'velho\\\\n\\\\ns', 'calafriosdev', 'desnutr', 'esqueç', 'igrej', 'cabelo…', 'mimd', 'aflição\\\\niss', 'uti', 'premi', 'fras', 'der', 'falari…', 'sea', 'disposiça', 'vitor…', 'naquel', 'asmaaaaaaa', 'fôleg', '\\\\nðÿ˜‚ðÿ˜‚ðÿ˜‚ðÿ˜‚ðÿ˜‚ðÿ˜‚', 'semestr', 'sra', 'emergenc', 'angúst', 'recuperaça', '43826', 'ich', 'hfaudsfu', 'infeccion', 'injustic', 'gargantad', 'tontu…', '\\\\ntu', 'lov', 'truqu', 'evolu', 'sdd', '15', 'morrer\\\\n\\\\nà', 'reserva\\\\n', 'insuporta', 'revir', 'don', 'vict', 'doenç', 'cof\\\\n\\\\n', 'cu\\\\n\\\\n', 'audienc', 'ninguem\\\\nag', 'obes', 'nest', 'dos…', '410', 'nen', 'novo\\\\n\\\\nagr', 'morri…', 'febre\\\\n\\\\n', 'tambem\\\\n\\\\ns', 'mani', 'tort', 'dis', 'distribu', 'defin', 'grit', 'maribondo\\\\ns', 'ninh', '8', 'colesterol', 'fe…', 'olind', 'alta…', 'chorav…', '…', 'caiu', 'volev', 'xic', 'antidepr', 'prom', 'desidrat', '\\\\n\\\\nðÿ', 'consult', 'francisco\\\\n\\\\nre', 'doe…', 'dost', 'ambulanc', 'fulan', 'mundo\\\\u0001f9be\\\\u0001f9b', 'asma…', 'bruciò', 'fing', 'casa\\\\nd', 'esquec', 'ecaaaaa', 'raza', 'infernal\\\\u0001f97a\\\\u0001f97', 'si…', 'classificaça', 'segund', 'posso…', 'loir', 'qe', 'instal', 'raiv', '751', 'kkkj', 'deslig', 'tip', 'noça', 'estad', 'calma', 'corizafebr', 'madrugad', 'pedac', 'teaserefeit', 'delekkkkkkkkkkk', 'obrigaça', 'reaçiµ', 'vuelt', 'superior', 'sobh', 'bo', 'zi¤hnekief', 'tremede', 'telh', 'vi\\xadrgul', 'vila', 'calç', 'map', 'desinfet', 'acostum', 'insuport', 'polic', '\\\\nkkkkkkkkkkkkðÿ¤£ðÿ¤£ðÿ¤£ðÿ¤£', 'sucesso\\\\n\\\\nenjo', 'gast', 'spettacol', 'vacina\\\\naind', 'pit', 'gebildet', 'tosse\\\\nodei', 'hom', 'bost', 'crit', 'danç', 'ades', 'erradicaça', 'sinistr', 'seráv', 'âºc\\\\nv', 'fiss', 'braz', 'bilhã', 'desprol', 'ti', '\\\\u200dâ™€ï¸_x008f_ðÿ¤¦ðÿ_x008f_', 'gás', 'sim\\\\nest', 'ar\\\\n\\\\né', 'bryan', 'aciclovir\\\\n\\\\nt', 'setembr', 'oxigenaça', 'tremer\\\\n', 'organiz', 'celebr', 'méxic', 'propagaça', 'luci', 'nin…', 'â€œsaiºdeâ€_x009d_', 'fals', 'médicoenfim', 'taut', 'sent', 'frat', '\\\\n\\\\naucel', 'transfer', 'ckm', 'cao', '7s', 'pesadel', 'branc', 'cotovel', 'prazer\\\\nd', 'vit', 'lohan', 'febre\\\\nsu', 'design', 'anosmaratonistatom', 'constat', 'revist', 'ohmd', 'veyr', 'ðÿ¤¢', 'aq', 'sangr', 'aftosaðÿ_x0090_', 'açai\\xad', 'gan', 'suc', 'patancetamol', 'absurd', 'voce\\\\nsint', 'ðÿ¤¦ðÿ˜ž', 'superaquec', 'propõ', 'caraiooo', 'jamal', 'kkkkkk\\\\nobrigad…', 'jaa', 'ruindad', 'escorraç', 'cle', 'fuert', 'gost…', 'vergonh', 'eliminaç…', 'chopp', '\\\\u0001f928', 'tens', 'mais\\\\n\\\\nm', 'ren', 'sexta-f', '3x', 'avet', 'tik', 'ardepoil', 'muito\\\\nj', 'lic', 'kkkkkðÿ¤£ðÿ¤¤', 'sí', 'in', '30', 'neu', '\\\\ntud', '630', 'parc', 'conversar\\\\nfal', 'furi', '\\\\neu', 'tbm', 'chikunguny', '–', 'ess', 'atraviesan', 'â€œmund', '\\\\nna', 'cliq', 'followðÿ˜ž', 'kkkkkkkkkkkkk', 'venh', 'energ', 'ent', 'want', 'urgenc', 'pau', '\\\\nhmmm', 'child', 'milhiµ', 'repe…', 'scâ€œ', 'cabeçachorodorpess', 'doend', 'vi\\xadru', 'hedd', 'put', 'paixa', 'humm', 'dermelivr', 'resolv', 'lis', 'xox', 'febbr', 'irã', 'anem', 'appl', 'ae', 'you', 'diarreia\\\\nsai\\xadm', 'espurit', 'twitt', 'febreðÿ˜©ðÿ¥º', 'covid…', 'técn', 'hellen', 'polenta\\\\nt', 'fimðÿ˜', 'ai', 'vuo', 'malign', '41â°', 'insol', 'derb', 'heim', 'pipipipop', 'autopromover\\\\nf', 'jo', 'tardinhana', 'vic', 'gosto\\\\n\\\\nacetildor\\\\naquel', 'conceit', 'sonho\\\\nj', 'sta', 'signif', 'sns24', 'insufici', 'reclamaça', 'rádi', '9', 'pagaaa', 'tard', 'tensa', 'coloc', 'séri', 'capetadev', '\\\\nreal', '100000âœ…\\\\n\\\\nansiedad', 'gut', 'incess', 'calafri', 'ðÿ¤¬ðÿ¤¯ðÿ¤¯ðÿ˜¨', '500', 'varell', 'chikugunh', 'combat', 'bgl', '46', 'netflix', 'pistol', '\\\\n\\\\nsergi', 'tag', 'jeito…', 'priv', 'nns', 'hospital\\\\nn', 'comertom', 'nada…', 'facil', 'pilot', 'ðÿ¥ºðÿ¤¯', 'simmmm', 'pensandos', 'febre', 'amu', 'hidroxicloroquin', 'corinth', 'decisiµ', 'enfa', 'fragil', 'giorn', 'iníci', 'emocionalâ€_x009d_', 'mkkkkkkkkkkkkkk', 'tá…', 'recus', '\\\\nlembr', 'xeneiz', 'avó', 'molecul', 'transmit', 'compost', 'esta', 'demais\\\\n\\\\n', 'refiz', 'iphon', 'jeon', 'vodk', 'tos…', 'schlaf', 'tosse\\\\nnov', 'ar\\\\n\\\\nverdad', 'pulsoscham', 'brab', 'urgent', 'depend', 'dkdmkdmnd', 'mio', 'ansiosasim', 'juliet', 'febre\\\\nel', '19', 'praç', 'fiz', 'panc', 'ronald', 'orientada\\\\naind', 'cox', 'poc', '0203', 'geweint', 'bamb', 'peito…', 'intensaat', 'incend…', 'anyway\\\\n', 'soq', 'seca\\\\ncai', 'músi…', 'compas', 'fi', 'mandíbul', '1343', 'cidasc', 'ban', 'jaqu', 'qm', 'saiu', 'básic', 'ti_x0081_', 'didic', 'am', '\\\\nmed', 'caç', 'fel', 'gent', 'paracet', 'excel', 'apetit', 'vol', 'cloroquinaazitromicinaivermectin', 'óbvi', 'narv', 'breg', 'promet', 'chorando\\\\nt', 'adc', 'kkkkkkkkkkkk', '38°', 'tor', 'celul', 'constituiça', 'chei', 'vitor', 'persegu', 'eou', 'exist', 'cli\\xadn', 'banheiro\\\\nmas…', 'adm', 'manch', 'corrend', 'escolh', 'avi', '\\\\u0001f9d0', 'guinhojeon', 'ok', 'noti\\xadcias\\\\nv', 'nel', 'falt…', 'km', 'fanh', 'pó', 'sor', 'ars', 'sì', 'chocolat', 'ughhh', 'miss', 'dele\\\\naqu', 'aleat', 'fjxnxjxbxbxbxb', 'imunogenic', '\\\\u0001f97a\\\\u0001f97', 'cr', 'individ', 'seman', 'bbb21', '\\\\n0', 'comb', 'j…', 'beau', 'bucet', 'asap', 'mei…', 'qro', 'stj', 'clorofin', 'compensaça', 'informaça', 'ðÿ˜\\xadðÿ˜', 'veg', '\\\\noh', 'to…', 'oxford', 'mancat', 'rispost', 'castr', 'ðÿ˜_x008d_ðÿ˜_x008d_ðÿ˜_x008d_ðÿ˜_x008d_', 'mimpqpðÿ¤¦ðÿ_x008f_¼\\\\u200dâ™€ï¸_x008f_', 'jaguarun', 'repet', 'bev', 'ceu', 'desgr', 'acordadocom', 'estômag', 'bbb8', '\\\\nespirr', 'morrw', 'expec\\\\nl', 'pastor', 'interv', 'bloq', 'terri_x008d_', 'qias', 'diaðÿ¥ºðÿ', 'cardiorrespir…', 'ðÿ¥°', 'fami\\xadl', 'matt', 'arrrrrr', 'bien', 'insalubr', 'bigod', 'apes', 'gratil', '04h', 'cost', 'leag', 'estrut', 'peste…', 'fungaça', 'corong', 'sangue\\\\nfri', 'concentr', 'as', 'fd', 'tocic', 'tubercu', 'cukkkkkkj', 'perguntou\\\\n', 'marionet', 'dip', 'sacan', 'army…', 'ohh', 'alde', 'comec', 'pia', 'brac', 'odiooooookooo', 'fach', 'orphan', 'atras', 'no…', 'febre\\\\u200d', 'amzd', '387\\\\n', 'prov', 'adess', 'atual', 'vermelh', 'palavr', 'vim', 'amy', 'atrapalh', 'bob', '+', 'carm', 'alic', '9mus', 'fum', 'inofens', 'impress', 'bast', 'comselc', 'ðÿ˜‚ðÿ˜‚', 'gentil', '2-3', 'prático\\\\n\\\\nhoj', 'estou-m', 'amoxicilin', '039', 'covidpass', 'civil', 'divin', 'b', 'quis', 'vitamin', 'turm', '15x', 'vítim', 'oh', 'ufa', 'dirtel', 'curad', 'sub', '\\\\nfalt', 'tira-', 'gambit', 'endereç', 'extr', 'ðÿ¤¯ðÿ˜´', 'permaneç', 'coronavírus…', 'cei', 'obwohl', 'fica…', 'nurs', 'aí', 'für', 'possível', 'frequent', 'nda', 'segundaalém', 'facc', 'corr', 'site\\\\ness', 'bronz', 'saturaça', 'padrast', 'â€œfiqu', 'cefale', 'eloquent', 'atend', '\\\\n\\\\npront', 'gring', 'malh', 'paix', 'mens', 'novk', 'sotaqu', 'estraçalh', 'co-morb', '78', 'tim', 'projot', 'gente\\\\nqu', 'kæresten', 'con', 'whatsapp', 'bilhiµ', 'covidiais~\\\\np', 'tar', 'loj', 'etap', 'separ', 'mediça', 'can', 'intrat', 'manot', 'kkkkkkkk', 'deve-s', 'apanha-l', 'jiºl', 'perguntas…', 'casaâ€_x009d_', 'proc', 'agrav', 'bambin', 'desenh', 'arrepend', 'moderad', '\\\\u0001f97a\\\\u0001f97a\\\\u0001f97a\\\\u0001f97', 'tesa', 'vestjylland', '1921', '*', 'exposed', 'madrugada\\\\nbrig', 'sintomas\\\\nfebr', 'lo', 'erupça', 'choro-toss', 'alun', '\\\\nobrig', 'sedent', 'add', 't…', 'â€œtr', '89â°', 'racion', 'cornet', 'estao\\\\n\\\\n', 'comportament', 'v', '2015', 'ðÿ˜\\xadðÿ¤¦ðÿ_x008f_½\\\\u200dâ™€ï¸_x008f_ðÿ˜\\xadðÿ¤¦ðÿ_x008f_½\\\\u200dâ™€ï¸_x008f_ðÿ˜\\xadðÿ¤¦ðÿ_x008f_½\\\\u200dâ™€ï¸_x008f_', 'depedend', 'língu', 'oliv', 'g', 'mão', '70000', 'pendur', 'as…', 'aferiça', '375', '\\\\u0001f972', 'soninho\\\\nl', 'crepiºscul', 'aug', '640', 'apa…', 'ser', '50', 'settiman…', '‰ðÿ_x008f_', 'sop', 'transform', 'expuls', 'supermercadovoc', 'gray', 'aniversari', 'diºv', '7', '™', 'ne\\\\ness', 'escandal', 'smartphon', 'dall', 'el', 'chup', 'bey', 'offic', 'temp', 'flux', 'soberb', 'cólic', 'pes\\\\nm', 'respiratór', 'mta', 'ðÿ¤', '383', '26', 'co…', 'além', 'maquin', 'aproxim', 'amanhec', 'diš', 'sksksks', 'intact', 'corpoðÿ˜£', '‘', 'koz', 'dinh', 'natal', 'esti…', 'terr', 'espirros\\\\n\\\\ncl', 'coronaviru', 'afeit', 'conposiça', 'atrás', 'ass', 'distra', 'ministroesp', 'eda', 'laffleddol', 'fav', 'pse', 'oqu', 'e…', 'prolong', 'chicungunh…', 'infantil', 'jour…', 'cer', 'mulek', 'defend', 'leonan', 'co', 'ajuda', 'yur…', 'carac', 'kllkkkkkkkkkkkkkkkkkkkkkkkk', 'avem', 'sangal', 'pulmo', 'parec', 'inal', 'kanshsjasnak', 'ðÿ¤¦ðÿ_x008f_¾\\\\u200dâ™‚ï¸_x008f_\\\\u0001f97', 'marcel', 'aparelh', 'cancelación', 'tal\\\\nhj', 'né', 'cosplay', 'dev', 'vivass', 'nauseas\\\\n', 'oh\\\\nburac', 'odiooo', 'desabaf', 'demoraaa', 'aguard', 'sentiment', 'lin', 'canhot', 'derrumb', 'gri', 'âœ¨', 'dia\\\\nprova', 'vamooo', 'fro', 'ingres', 'estr', 'tutu', 'ministr', 'onlin', 'ms…', 'merch', 'descobert', 'angst', 'dele\\\\nt', 'cham', '‡\\\\n\\\\nv', 'model', 'ministeri', 'carioc', 'herm', 'coriz', 'reflex', 'convencid…', 'guimara', 'pod', 'dell', 'costum', 'sacane', '\\\\ndesd', 'gustav', 'social', 'bolsonegacion', 'bomba\\\\n\\\\nmelh', 'piam', 'ja\\\\nðÿ¤¢ðÿ¤', 'intest', 'jm', 'mait', 'bind', 'rind', 'negativo\\\\ns', 'ðÿ_x008d_ƒðÿ_x008d_ƒðÿ_x008d_ƒ', 'terap', 'nðÿ˜žðÿ˜\\xad', 'companheiro\\\\n\\\\n', 'trr', 'best', 'taquicard', 'thoughtsâ€_x009d_', 'j', 'insone\\\\nomiss', 'monstr', 'hmmmm', 'pulc', 'trec', 'xarop…', 'pprt', 'gem', 'rua', 'off', 'el…', 'trajet', 'requiri', 'qdo', 'già', 'foga', 'mosquit', 'avali', 'aspir', 'vomito\\\\ntremed', 'cust', 'daí', 'nam', 'desf', '\\\\n\\\\nop', 'mélani', 'folg', 'grat', 'lok', 'medicoðÿ˜ƒ', 'arru', 'dua', 'manu', 'cre', 'morgenübelkeit', 'brag', 'doc', 'ir', 'delíc', 'hao', 'garganta\\\\nv', 'stablecoin', 'ach', '06', 'dia', 'ðÿ˜…', 'only', 'coloqu', 'oportunidad', 'ador', 'isol', 'batom', 'twr', 'juh', 'barbi', 'disfarç', 'ðÿ¤§ðÿ¤', 'pneu', 'hidrat', 'poh', 'bbb', 'entreabert', 'pis', 'marin', 'patriot', 'memór', 'espanhol', 'conselh', '570', 'paus', 'vigi', 'unimed', 'pux', 'trein', 'kr', 'indic', 'â', 'nom', 'insuporti_x0081_', 'bé', 'aed', 'ksksskkk', 'adivinh', 'principalmen', 'dilm', 'café', 'bbb\\\\n\\\\n', 'apur', 'tien', 'cop', 'repit', 'obg', 'simm', 'unit', 'perifér', 'pra…', 'scarc', 'jj', 'eu', 'pulm', 'en', 'salvaron', 'previs', 'inset', 'brig', 'viver\\\\nvc', 'morro…', '\\\\nlembre-s', 'nfrk', 'crei', 'millón', 'nada\\\\n', 'mu', 'seral', 'tardeðÿ˜\\xad', 'sugesta', 'períod', 'projet', 'ana', 'ada', 'neosor', 'ocupaça', 'ðÿ˜©ðÿ˜¢', 'covid\\\\nfalt', 'yog', 'payperview', 'fumator', 'akgu', 'expu', '\\\\u200dâ™‚ï¸_x008f_', 'quent', 'palavra\\\\ns', 'mais…', 'homen', 'nso', 'upp', 'sal', 'd19', 'qu', 'corp', 'mehhhh', 'tossevomit', 'passouðÿ˜©', 'cnpm', 'próx\\\\ntoss', 'aleg', 'chiam', 'tont', 'manoooooo', 'subbugli', 'cunh', 'velho\\\\nm', 'segur', 'cii²', 'morrerðÿ˜_x008d_', 'kkkkkkkkkkkkkkkkkkkkkkkkkkkkkkkkkkkkkkkkkkkkkk', 'onn', 'rock', 'febreâœœðÿ_x008f_½ðÿ¤§ðÿ˜¢', '\\\\nvc', '1g', 'urticár', 'populaça', 'olfat', 'viral', 'especi', 'vuol', 'poç', 'nariz', 'país', 'fleddo\\\\nfatt', 'terç', 'app', 'fzr', 'tao', 'pedaç', 'viss', 'motor', 'sto', 'senhor\\\\ntr', 'atual\\\\nfebr', 'le', 'simil', 'espi\\xadrit', 'wo', 'escap', 'qqu', 'atensa', 'xe', 'ol…', 'corpodoming', 'ofe', 'estomag', '01', 'hsuahsuahsu', 'bonec', 'fal…', 'próx\\\\npass', 'ruim\\\\nm', 'itali', 'atest', 'boss', 'caval', 'começ', 'emerg', 'n', 'provavelmnt', 'inferi', 'precoc', 'estiv', 'inteiraat', 'cobert', 'vafabund', 'febra', 'qual', 'pernambuc', 'cinc', 'ðÿ¤¦ðÿ_x008f_¼\\\\u200dâ™€ï¸_x008f_', '´', 'pararcans', 'fenst', 'resfriadiss', 'aparec', 'ignor', 'dan', 'ðÿ¤§', 'lel', 'congress', 'somatiza…', 'princi\\xadpi', 'diz', 'desa', 'destac', 'grammy', 'ratoooo', 'complet', 'relativ', 'limport', '999', '\\\\nhospit', 'bicho…', 'markson', 'som', 'aob', 'alg', 'observaça', 'resum', 'aku', 'djfjfdjwjsjsjsjd', 'estud', '98', 'supl', 'dou', 'claustrofob', 'covid\\\\ntod', 'febr', 'pulg', 'cá', '\\\\nâ', 'cabeç', 'máscara\\\\n1', 'resguardadotom', 'ðÿ¤¡', 'nadaespirr', 'gir', 'raivaaa', 'casa\\\\ndescarg', '5h20', '\\\\u0001f92', 'popot', 'risc', 'finaliz', 'maaaiiiiiissss', 'meliss', 'recomendo\\\\nnariz', 'treco\\\\nmuit', 'nervos', 'queim', 'nescess', '\\\\ncontrol', 'invis', 'oxi\\xadmetr', 'prefer…', 'mandet', 'ppv', 'antigrip', 'pfv', 'beij', 'abdominal\\\\nbat', 'sej', 'rihann', 'intermina', 'coce', 'prime…', '\\\\ntsc', 'kpop', 'marg', 'pron', 'gestaça', 'ðÿ¤¡\\\\n\\\\nna', 'eai', 'luk', 'explic', 'prote', 'mai', 'felip', 'lorenzz', 'podr', 'cadu', 'continu', '2x', 'mwl', 'â€œaiâ€_x009d_', 'our', 'jiºli', 'sens', 'dej', 'exclus', 'm474nd0', 'sai', 'ord', 'pak', 'doi\\xad', 'menin', 'qualcun', 'febreâ¿', 'instaur', '\\\\nm', 'ðÿ˜¡ðÿ˜¡', 'pen', 'indisposiça', 'la', 'pal', 'vácu', 'disp', 'liv', 'lima', 'sosseg', 'baixahpvhivdenguezikachicun…', 'arre', '339', 'stann', 'elogi', 'estági', 'ver…', 'net', 'd…', 'âœšðÿ_x008f_¼âœšðÿ_x008f_¼âœšðÿ_x008f_¼', '\\\\', 'amarela\\\\nresum', 'ta', 'joaquim', 'dett', 'vov', 'múscul', 'complex', 'intelig', 'pequen', 've', 'neon', 'lapaduç', 'melzim', 'dov', 'camomil', 'exemplif', 'diarré', 'bold', 'ond', 'ms', 'febre…', 'cigarr', 'quant', 'estranhatmlc', 'ª\\\\n\\\\n', 'febreperd', 'engasg', 'jaul', 'afastan', 'cest', 'arrrr', 'meia-', 'contrari', 'convenc', 'terça-f', 'mancin', 'antonell', 'not', 'por', 'putaqpar', '230', 'univers', 'feyr', 'tylenol', 'karinn', '\\\\n\\\\njog', 'meç', 'sinto…', 'ó', 'ðÿ˜\\xad\\\\njur', 'font', 'pequenas\\\\nalgum', 'capot', 'di…', '~variaçiµ', 'scr', 'samu', 'pec', 'doooorðÿ™_x008f_ðÿ_x008f_', 'deusssssss', 'ódi', 'jesusðÿ˜©', 'fun', 'â€œitesâ€_x009d_', 'admit', 'exerci\\xadci', 'amanham', 'avm', 'rejeit', 'repsiwray', 'dias\\\\n', 'hipnos', 'ventil', 'bugi', 'explod', 'pul', 'fazendoâ€_x009d_', 'kl', 'típic', 'roi', 'd', 'ruim…', 'pest', 'fml', 'curvaâ€_x009d_', 'sciropp', 'riman', 'pessoal', 'mex', 'manucu', 'chap', 'dispiµ', '71', 'erkli¤rung', 'atur', 'cresc', '2018', 'excet', 'ke', 'imbecil', 'anteont', 'algumas…', 'cautel', 'rang', 'praz', 'dançarin', '‰ðÿ_x0090_', 'sariett', '17', 'bernard', 'rapaz', 'masdepoil', 'seca\\\\ngost', 'acabar\\\\nperc', 'ar\\\\nt', 'album', 'zulem', 'aplic', 'trai\\xadr', '\\\\nmelh', 'realiz', 'coff', 'alter…', 'ps', 'sentido\\\\n\\\\nfebre\\\\ntoss', 'tap', 'cronolog', 'artific', 'anoj', 'tan', 'tac', 'acim', 'estil', 'jan', 'rab', 'inhac', 'presid', 'termin', '38', 'passageira\\\\nhoj', 'ivermectin', 'porc', 'demal', 'diaacord', 'aaaaaa', 'segunda-f', '\\\\u0001f9a0\\\\n\\\\ncolaps', 'dias…', 'stalk', 'antihistamin', 'demoni', 'bizarrrooo', 'morren', 'sogr', 'própolil', 'assustam-m', 'ileg', 'sinops', 'kkkkkkkkkkkkkkkkkkkkkkkkkkkkkkkkkkkk', 'tratamento\\\\n\\\\ns', 'paran', 'febre\\\\nobrig', 'aglomeraçiµ', '183311', 'insuportavelðÿ¤¦ðÿ_x008f_', 'peric', 'lean', 'cy', 'vip', 'decid', 'tou', 'energe', 'infenr', 'visit', 'ðÿ¤¦', 'ðÿ˜³', 'prequel', 'akergux', 'proib', 'mto', 'aju', 'irrit', 'cron', 'g…', 'inexplic', 'ðÿ˜•ðÿ˜•ðÿ˜•', 'experiment', 'tab', 'bemmmm', 'coleg', 'desaparec', 'fland', 'deniz', 'acrescent', 'lucas\\\\n\\\\n', 'mereçeðÿ˜', 'ricard', 'voc', 'rez', 'ðÿ˜_x0090_', 'acalm', 'denis', 'twitch', 'recolh', 'deng', 'tosse\\\\nn', 'narguil', 'vai', 'diagnost', 'atrofi', 'kakakakak', 'aposentado54', 'comunidad', 'arthur', 'dm', 'genteeen\\\\ncai', 'pov', 'estadi', 'pra', 'peru', 'comparaça', 'ar\\\\nvsf', 'extrem', 'ar\\\\ns', 'porr', 'bek', 'awm', 'ai\\xad', 'salv', 'how', 'caminha', 'den', 'tra', 'infocom\\\\n', 'poood', 'âœ…', 'manoðÿ˜ª', 'march', 'family', 'participaron', '\\\\ncabeç', 'spray', 'modern', 'af', 'doença', '1a', 'covid\\\\n\\\\npân', 'impression', 'serí', 'pedern', 'tossecoc', 'deixa-', 'sutia\\\\n\\\\nhoj', 'confess', 'colic', 'stor', 'oii', 'vag', 'bi', 'constante\\\\n', 'escorr', 'geral', 'hj', 'horari', '090931', 'sort', 'molhadinha\\\\n\\\\nc', 'relatori', 'deusj', 'luc', 'emoc', 'ler', 'nuev', 'tpm', 'nilopolisðÿ™œðÿ_x008f_¼', 'famili', 'â€œbom', 'maç', 'luau', '\\\\noq', 'suor\\\\n\\\\nfu', 'ðÿ˜‚ðÿ˜‚ðÿ˜‚ðÿ˜‚ðÿ˜', 'â€œisoladaâ€_x009d_', 'crem', '•', 'impossi\\xad', 'imagin', 'amooorr', 'chicungunh', 'após', 'outros\\\\ns', 'nación', 'coagul', 'infeeeeeern', 'ðÿ™_x008f_ðÿ_x008f_¾', 'bh', 'colapsadah', 'vitamina-c', '400', 'minúsc…', 'ðÿ¥°ðÿ¥°ðÿ¥°ðÿ¥°ðÿ™_x008f_ðÿ_x008f_¼ðÿ™_x008f_ðÿ_x008f_¼ðÿ™_x008f_ðÿ_x008f_¼\\\\n\\\\nm', 'pots', 'conhecidos…', 'endo', 'tabag', 'desgrac', 'realista\\\\nfalt', 'lot', 'dão', 'tienen', 'quiz', 'fuiche', 'quebraðÿ˜©ðÿ', 'saud', '\\\\u200dâ™‚ï¸_x008f_ðÿžš', 'pan', 'qunit', 'cozinh', 'ca', 'duvid', 'ðÿ¤¦\\\\u200dâ™€ï¸_x008f_', 'ðÿ˜´', 'ansi', 'arðÿ', 'due', 'ðÿ¤¡ðÿ¤¡', 'infecci', 'sufoca-l', '³ðÿ_x008f_', 'tem', 'acurac', 'er', 'destro', 'vacinaça', 'miku', 'banh', 'mané', 'cabr', 'espirros\\\\n\\\\ntorc', 'frag', 'financ', 'asten', 'respiratóri', 'vomito\\\\npeg', 'temporár', 'surg', 'receit', 'pioneir', 'molh', 'œ\\\\n\\\\ntiv', 'hospitais…', 'alcanç', 'misericórd', 'queum', 'broth', 'palpitaça', 'â€œp', 'publicaçãoacab', 'ðÿ¥³ðÿ¥³â˜_x009d_ï¸_x008f_', 'nissoâ€_x009d_', 'choquev', 'cerr', 'jaebeom', 'divag', 'louc', 'sever', 'cambi', 'estuprad', 'gratida', 'rlx', 'qua', 'contr', '9h', 'admir', 'moçaâ€_x009d_', 'covid-', 'quiet', 'u…', 'ðÿ™_x0081_', 'anosm', 'ameaç', 'maconh', 'desconstru', 'inexist', '\\\\n\\\\nfeija', 'evagn', 'sao', 'faz\\\\n\\\\nfum', 'feder', 'espr', '41', 'todaðÿ˜¢', 'tomat', 'h…', 'rebent', 'microfon', 'indign', 'aaa', 'preocupaçiµ', 'arqu', 'serviç', 'he', 'kit', 'conquist', 'âœ…âœ…', 'pufav', 'vou', 'y', 'chi', 'simmm', 'reinfecça', 'comprovaça', 'cabeça\\\\ntoss', 'escarr', 'motivos\\\\nt', 'tetanica\\\\nm', 'olb', 'sonolent', 'repous', 'ford', '1n', 'revo', 'tosse\\\\nâ€', 'ranç', 'dr', 'tre', 'audiça', 'idades…', 'zb', 'esquent', 'arranha', 'cardi\\xadac', 'finj', 'zuado…', 'cara…', 'irraðÿ', 'mov', 'tio', 'bris', 'adv', 'fom', 'vari', 'imposs', 'kk', 'incompetenc', 'frang', 'esquiv', 'ketellen', 'piº', 'particil', 'ðÿ˜\\xadðÿ˜\\xad\\\\nm', 'besta\\\\ninvent', 'alérg', 'jr', 'timid', 'mood', 'lor', 'resultado\\\\nm', 'wagyu', 'bemmm', 'manau', 'calfred', 'ðÿ˜´ðÿ˜_x008f_', 'cnn', 'aver', '2021', 'dogboyecatboy', 'cov', 'promocion', 'rodolf', '02-a\\\\n\\\\nna', 'ðÿ˜·', 'tifoideâ€_x009d_', 'vídeo\\\\n', 'crianç', 'pareda', 'enforc', 'qri', 'imunizadah', 'graciel', 'menstruaça', 'passav', 'medr', 'escola\\\\n\\\\nn', 'bx', 'tradiça', 'avanç', 'gelad', 'seil', 'import', 'dispost', 'auspicabil', 'que\\\\nâ€', 'morgenstundenn', 'vaporub', 'cuido\\\\n', 'moren', 'espal', 'causar\\\\nobesidade\\\\ndepressio\\\\ndificuldad', 'injeça', 'regr', 'bcg', 'instalaça', 'melhorei\\\\ntoss', '\\\\no', 'bird', 'secreç', 'pé', 'caf', 'kritik', 'president', 'deput', 'fortalec', 'pode-s', '33â°c', 'denuncia\\\\nna', 'assunt', '33', 'metad', 'plsss\\\\n', 'desand', 'esmag', 'interrogherebber', 'sua…', 'cau', 'mão\\\\n', 'definitiv', 'relembr', 'ahahhaah', 'carai\\xad', 'caralho\\\\ndoil', 'pai\\xadsd', 'iºtil', 'deusðÿ™_x008f_ðÿ_x008f_', 'colaps', 'noite\\\\ntest', 'grahd', 'sarebb', '\\\\ncris', '25', 'i…', 'sofrimentp', 'outr', '\\\\nantibio', 'borut', 'grev', ']', 'vez', 'sensibil', 'enjô', 'nebulizaca', 'deiz', 'conclus', 'exaust', 'fo', 'pox', 'botar\\\\nbarulh', 'ferrug', 'genoc', 'xbox', 'ressac', 're', 'julian', 'nasc', 'educadamente…', 'gargantaarthur', 'gnt', 'lamb', 'compromet', 'suin', 'câm', 'flutu', 'febrefoda-s', 'quart', '40âº', 'duri\\xadss', 'prepar', 'diaaqu', 'transfusa', 'tive', 'dep…', 'fio\\\\nn', '5', 'eta', 'arðÿ˜£', 'euein', 'ðÿ˜˜', '18min', 'shil', '\\\\nquer', 'contagi', 'trabalhar\\\\nt', 'covid19', 'fumando\\\\npq', 'solicit', 'roseann', 'eduqu', 'batist', 'febre\\\\nmuit', 'didi', 'agridoc', 'enquesta…', 'thank', 'miguel', 'crent', 'ansidad', 'det', 'bitcoin\\\\n\\\\n', 'curios', 'sapatilh', 'encontrei…', '17h', 'par', 'olh', 'stas', 'particul', '391', 'invec', 'covidðÿ™_x008f_ðÿ_x008f_¾', 'tl', '1922', 'resist', 'difi\\xadcilt', 'ryan', 'regia', 'vis', 'kkkkkk', 'mosquitai', 'fii', 'cu', 'convulsion', '192312', 'fl', 'fiuk', 'mastig', 'tossetorc', 'whisky', 'estranhi\\xadss', 'crav', 'intestin', 'beir', 'mundo…', 'clip', 'estomac', 'esti_x0081_', 'apreensa', 'braço\\\\n2â°dos', 'tambem\\\\n\\\\nsdd', '5h', 'pircieng', 'atent', 'pneumon', '\\\\nvoc', 'dddeeeessspert', 'mt', 'kkkkkkkkkkkkkkkkk\\\\n', 'ste', 'tud', 'hend', 'cair', 'cuec', 'elimin', 'aaaaaaaa', 'inaci', 'manhã\\\\n', 'hahahahahahaha\\\\nfalt', 'tetân', 'jeit…', 'ano', 'rx', '9kg', 'teoric', 'cienc', 'clandestin', 'fiqu', 'melðÿ¤¢', 'fur', 'quadril', 'mesm', 'vix', 'complic', 'infin…', 'diab', 'palhaç', 'fadig', 'estav', 'ebol', 'janel', 'ei', '_x008f_', 'lind', 'agress', 'agrandan', '380', '2\\\\nfalt', 'cotonet', 'ea', 'compt', 'run', 'melani', 'derek', 'diferenç', 'adicion', 'shen', 'palit', 'políci', '383â°', 'maraton', 'possuí', 'aqi', 'caralho\\\\nn', 'fiamm', 'miniºsc', 'seri_x0081_\\\\n\\\\n', 'fodidaqu', 'bota', 'caus', 'žðÿ˜', 'foda\\\\u200d', 'bovin', '\\\\n\\\\n…', 'ðÿ¤•', 'macac', 'bacan', 'loa', 'autoridad', 'ðÿ¥µ', 'lat', 'ngc', 'lea', 'tokðÿ¤£ðÿ¤£ðÿ¤£ðÿ¤£', 'tosse\\\\u200d', 'armds', 'motivac', 'imun', 'fazer\\\\n\\\\nc', 'trabalharm', 'ciclofaix', '2012', 'recomendaçiµ', 'sequel', 'hac', 'minas\\\\n', 'â€œu', 'â€œmary', 'cidada', 'car', 'â€œcamis', 'inexplica', 'bell', 'cidad', 'â_x009d_¤ï¸_x008f_\\\\nconsig', 'kkkkkkkkk', 'ox', 'bem-v', 'muah', 'mangl', 'cutane', 'lerd', 'acam', 'liberdad', 'ðÿ', 'matern', 'kajskxkdjfof\\\\n\\\\nah', 'louç', 'esquerc', 'jacaré', 'linh', 'averl', 'way', 'interpret', 'piripaqu', 'capit', 'dorðÿ˜', '_x008d_\\\\ntoss', 'foi\\\\nacord', 'nadatmnc', 'mir', 'legalðÿ˜', 'plani\\xadss', 'juli', 'mul', 'discussa', 'deu', 'palpit', 'coração…é', 'niedlich', 'vitt', 'gru', 'pi…', 'tayl', 'wild', 'racist', 'enjo', 'vey', 'distorça', 'conteúd', 'apert', 'beck', 'ðÿ_x0090_¶', '\\\\n\\\\ntod', 'nilópolil', '40â°c', 'orgulh', 'kkkjj', 'març', 'dioooooooooo', 'hipótesil', 'engan…', 'acerol', 'chegar\\\\n', '\\\\n\\\\nbom', 'ensai', 'inser', '1000', 'doenç…', 'fern', '\\\\n\\\\nsilenci', 'agressa', 'yo', 'kkkkkkkkkkkkkkkkkkkkkkkkk', 'desv', 'cara\\\\n\\\\npi', '\\\\ntiv', 'âœš', '\\\\n\\\\n\\\\u200dcalma…', 'respuesta\\\\xa0municip', 'n-na', 'adoç', 'parent', 'temá', 'â˜€ï¸_x008f_', 'jungkook', 'jap', 'jogo…', 'tomaram\\\\n\\\\nm', 'hemorrag', 'alm', 'meudeusssm', 'odei', '1â°dos', 'brazil', 'drbayard', 'ferr', 'ato', 'frit', '4o', 'pagode\\\\n\\\\nch', 'zanz', 'forj', 'kald', 'ain…', 'qgor', 'enxerg', '9âº', 'acuerd', 'cheâ€_x009d_', 'se…', '89', 'sab', '39º', 'wheel', 'dimit', 'good', 'altrim', 'beste', 'wendell', 'espalh', 'schindler\\\\n-', 'ondapoil', 'desej', 'lasc', 'rachel', 'qur', 'geométr', 'porraaaaaaaa', 'pri', 'diabe', 'sex0', 'uti…', 'žðÿ_x008f_¿', 'etc\\\\n\\\\nefeit', 'soub', 'moder', '0', 'â€œpel', '38â°c', 'vm', 'moment', 'lev', 'febreðÿ˜ž', 'brasil', 'carrd', 'asia', 'pré', 'larcad', 'hein', 'novembr', 'graç', 'consig', 'amarrot', 'depo', 'orelh', 'int', 'malár', 'ar\\\\n\\\\ntalv', '\\\\ncorticoid', 'sabendo…', 'vê', '\\\\u0001f92f\\\\u0001f92f', '2h', 'epá', 'questiµ', 'pqpðÿ˜£ðÿ˜¥', 'comunoglobalist', 'pront', 'únic', 'ra', 'esto', 'irregul', 'ï¸_x008f_\\\\n\\\\nsembl', 'risultat', 'todynh', 'aucel', 'alucinaça', 'infe…', 'misera', 'ganh', 'ðÿ—£ï¸_x008f_ðÿ—£ï¸_x008f_', 'viih', '091846', 'flu', 'macumb', 'desist', 'â˜ºï¸_x008f_â˜ºï¸_x008f_', 'alo', 'jb', 'charlott', 'febreðÿ¤', 'verdad', 'queridãã', '7di', 'cabisbaix', 'semanamil', 'karol', 'qodi', 'espor', 'vet', 'campea', 'espant', 'cep', 'aprove', 'efici', 'cript', 'herd', 'acredit', 'ihh', 'th', 'episodi', 'futur', 'cansadasobrecarreg', 'faç', 'pass', 'inici', '\\\\u0001f974', 'ð_x009d__x0090__x0090_u', 'vidr', 'conscientizaça', 'ar-', 'tímid', 'qse', 'cerebr', 'morrerf', 'tempor', 'â€œqu', 'xee', 'pens', 'cont…', 'fog', 'selbst', 'acabadaaa', 'talv', 'negóci', 'âœ', 'color', 'chegar…', 'â€œfervoâ€_x009d_', 'alerg', '\\\\u0001f97a\\\\u0001f97a\\\\u0001f97a\\\\u0001f97a\\\\u0001f97', 'petropolil', 'flamengu', '_x008d_ðÿ_x008f_', '\\\\nd', 'confirmaça', 'ont', 'pode…', 'útil', 'td', 'consol', '\\\\nnunc', 'â›', 'mnh', 'inconsci', 'dimens', 'qje', 'eoq', 'emoça', 'amp', 'utop', 'ultim', 'isolamento\\\\n\\\\n', 'gente\\\\n\\\\nprova', 'síntes', 'aça', 'entupidocoriz', 'metr', 'internet', 'natty', 'fresc', 'extinça', 'consid', 'lug', '64', 'explican', 'méd', 'cameron', 'settim', 'caramb', '30000', 'sopr', 'lent', 'aj', 'solt', 's', 'abaf', 'siiim', 'dedicaça', '\\\\u200d\\\\u200d\\\\u200d\\\\u200d\\\\u200d\\\\u200d\\\\u200d\\\\u200d\\\\u200d\\\\u200d\\\\u200d\\\\u200d', 'format', 'ðÿ˜©ðÿ˜ž', 'vomitandoðÿ', 'cosseg', 'din', 'banaliz', 'bact', 'responsabil', 'seca\\\\n', 'esti_x0081_di', 'froux', 'm', 'kkkkâ˜ºï¸_x008f_', 'etern', 'pav', 'ja', 'dialis', 'nivel', 'toxicoâ€_x009d_', '|2', 'punhet', 'aclam', 'coad', 'toss', 'lau', 'mut', 'prest', 'sentir', 'haa', 'explosa', 'autor', '95', 'ganânc', 'hiperat', 'tremend', 'ifa', 'vac', 'relacion', 'adoid', 'porraðÿ˜©', 'glend', 'trap', 'desentup', 'essapel', '0338', 'arquas', 'própr', 'vo', 'ocorr', 'govern', 'descont', '430', 'hipótes', 'que', 'povo\\\\n\\\\n', 'cosp', 'plau', 'non…', 'open', 'conspiraça', 'â_x009d_¤ï¸_x008f_', 'engasgarqualqu', 'kkkakakakakakakakak', 'es…', 'trat', 'saramp', 'come…', 'pai\\xad', 'imunolog', 'desped', '#', 'motiv', 'ritalin', 'rj', 'coreograf', 'chich', 'pokah', 'mat', 'fic', '613\\\\n\\\\nônibu', 'patroci\\xadni', 'louil', 'mermi', 'mundoâ€_x009d_', 'munh', 'uaaarrrrkkkkkkkkkkkkkkkkkkkkkkk', 'oooooooooooohhhhhhj', 'mensag', 'kkkkk', 'cumpr', 'soluç', 'iam', 'rabiol', '\\\\nassobi', 'ar\\\\nagr', 'expect', 'oficial\\\\n\\\\n', 'may', 'bao', 'reag', 'víde', 'continua…', 'ðÿ˜‡', 'ðÿ˜·ðÿ˜·', '34', 'pcrlh', '\\\\nazitromicin', '\\\\n\\\\n-bac', 'arðÿ˜©ðÿ˜©', '\\\\npss', 'retornan', 'baixaa', 'ðÿ_x0090__x009d_\\\\nðÿ_x008d_¯', 'corretivoliquid', '16h', 'ðÿ˜£', 'apart', '\\\\u0001f91fðÿ_x008f_¼', 'â€œt', 'troc', 'asiáticos\\\\ngost', 'voltanu', 'bronze', '\\\\n\\\\nkkkkkkkkkkkkkkkkkkkkkkkkkkkkkkkkkkkkkkkkkkkkk', 'fundament', 'mund', 'azriel', 'equipa\\\\nmaldit', 'encost', 'henry', 'kopenhagen', 'eba', '\\\\nisso\\\\nrusso\\\\ndisso\\\\ndisse\\\\ntoss', 'promess', 'ow', 'falsete\\\\ncois', 'pro', 'rat', 'ivy', 'agir', 'â€œapenasâ€_x009d_', 'madrig', 'ral', 'pf', 'io', 'derby', 'ahah', 'asma', 'caralh', 'rafâ', 'respir', 'acod', 'amgkkkkkkkk', 'refresc', 'luz', 'quel', 'agoniz', 'entend', 'comprov', 'escola', 'ajudar-m', 'revigor', 'pele\\\\nsu', 'demonstr', 'trê', 'equili\\xadbri', 'conr', 'enf', 'prescrev', 'ðÿ˜žðÿ˜ž', 'pes\\\\n\\\\nmasss', '&', 'consegu', 'disone', '440', 'vou\\\\nach', '”', 'minutosðÿ˜–', 'cabeça\\\\ndur…', 'queiroz', 'queix', 'crani', '2009', 'ê', 'malbor', 'ðÿ¤¦ðÿ_x008f_¾\\\\u200dâ™€ï¸_x008f_ðÿ¤£', 'ficaemcas', 'tiktok', 'amselgesang', 'jinyoung', 'men', 'cegu', 'dificultad', 'caralhent4', 'unival', 'ªðÿ', 'garg', 'â€œraspandoâ€_x009d_', 'mld', 'miºs', 'maldit', 'céu', 'dezembromais…', 'plant', 'cú', '37', 'ard', 'maravilh', 'que\\\\nma', '¥ðÿ', 'volt', 'oppur', 'bipolar', 'na…', 'carr', 'fat…', 'quarent', 'sufoc', '388âºc', 'vin', 'blus', 'marq', 'ced', 'on', 'relev', '377', 'incr', 'respuest', 'mago', 'arðÿ˜', 'ðÿ¤¡ðÿ¥³', 'asmá', 'munt', 'col', 'oxigenioâ€_x009d_', 'detall', 'cheira-m', 'nov', 'espirratoss', 'juliett', 'aleatóri', 'adiv', 'ixclu', 'ido', 'muitoo', 'capac', 'vezðÿ', 'tenint', 'aqu-', 'lous', 'pot', 'interess', 'agafat', 'direc', 'butantan', 'geni', 'apat', 'facebook', 'pipoc', 'favel', 'bitcoin', 'acalmad', 'ðÿ¤¦ðÿ_x008f_¾\\\\u200dâ™‚ï¸_x008f_', 'nao\\\\nm', 'lap', 'ai±', 'lençol…', 'bol', '20h', 'levant', 'sintoma', 'regul', 'futebol\\\\n', 'tosseespirr', 'bue', 'cois', 'poss', 'vért', 'coqu', '1do', 'próx', 'gshowglobocomrealitiesbbbbbb21votacaoparedao-bb', '386', 'ðÿ˜¥', 'casal', 'ign', 's…', 'ce', 'conden', 'intub', 'âœœðÿ_x008f_¼', '15min', '\\\\n\\\\nap', 'estou\\\\nag', '38°c', 'tol', 'oest', 'ist', 'kkkkkkkkkkkkkkkk', 'febreâ€_x009d_\\\\n', 'ðÿ˜¢ðÿ', 'ilp', 'bate', 'trav', 'espirr', '212443', 'insuportável\\\\u200d', 'curi', 'updat', 'horrível…', 'xom', 'ðÿ¤¦ðÿ_x008f_¾\\\\u200dâ™‚ï¸_x008f_ðÿ˜¤', 'puls', 'ingu', 'krl', 'consum', 'dwnd', 'laf', 'rir', 'garantida\\\\nðÿ˜‚ðÿ¤¦ðÿ_x008f_¿\\\\u200dâ™‚ï¸_x008f_ðÿ', '\\\\nivermectin', 'contin', 'ðÿ¤¦\\\\u200dâ™€ï¸_x008f_ðÿ˜ž', 'missiµ', '\\\\nsext', 'contant', 'aond', 'diret', 'assistia\\\\n\\\\nag', 'ðÿ¤¯ðÿ¤¯ðÿ¤¯', 'om', 'upa', 'atença', 'comia\\\\n-', '750mg\\\\nhoj', 'novel', 'crlh', 't', 'brutt', 'medi', 'psol', 'mulhee', 'turv', 'ezequiel', 'verificadaâ_x009d_—â_x009d_—â_x009d_—â_x009d_—â_x009d_—â_x009d_—â_x009d_—â_x009d_—â_x009d_—â_x009d_—â_x009d_—â_x009d_—â_x009d_—â_x009d_—â_x009d_—â_x009d_—â_x009d_—â_x009d_—â_x009d_—', 'viros', 'mary\\\\naf', 'peitoðÿ¤¡ðÿ¤¡ðÿ¤¡\\\\n\\\\nagradeç', 'muuuuit', 'sozinha', 'kevin', 'morrendoel', 'voo', '1x5', 'salario\\\\nengasg', 'ig', 'perfil', 'ðÿœµ', 'piol', 'clm', 'covid\\\\n\\\\n', 'livr', '102', 'funcion', 'melr', '\\\\nest', 'q…', 'fantas', 'manuel', 'lux', 'saí', 'min', 'cor', 'eric', 'bal', 'serkan', 'caracteri\\xads', 'visa', 'â€˜', 'boa', '\\\\eu', 'compar', 'uau', 'cachorr', '\\\\ndesculp', 'ahsushshshdhsmvksmsknd', 'nenh', 'uc', 'resistenc', 'slogan', 'cabra', 'satz', 'mensagrm', 'covids', 'suandoum', 'produça', 'enju', 'limitaçao\\\\nt', 'estari\\xad', 'trab', 'novo\\\\nm', 'zika…', 'streaming', 'tornou-s', 'marav…', 'presenc', 'lia', 'scrr', 'â—¢', 'esc', 'mainh', 'carreg', 'v…', 'ðÿ¤¬ðÿ¤¬ðÿ¤¬ðÿ¤¬ðÿ¤¬ðÿ¤¬ðÿ¤¬ðÿ¤¬', 'bacteri', 'h1n1', 'ner', 'jabon', 'troux', 'mundo\\\\ns', 'acorday', 'pont', 'mia', 'faca', 'sip', 'arðÿ˜\\xadðÿ˜', 'job', 'alguém', '\\\\nfu', 'dermatit', 'morrer\\\\n\\\\np', 'cans', 'camelô', 'covid-19\\\\n\\\\n', '30°', 'tenteis', 'restaurant', 'ž', 'pegu', 'po', 'merit', 'tmnc', 'aaaaasssssssss', 'reche', 'sheherazad', 'drog', 'ðÿ˜žðÿ', 'pfvv', 'fami\\xadlia\\\\n\\\\nm', 'hepatit', 'dias\\\\ni‰', 'cism', 'ive', 'inflamadi\\xadss', 'chiclet', 'fich', 'juro\\\\npel', 'horri_x008d_', 'hipertensa', 'nadeg', 'gravidez\\\\né', '\\\\n\\\\naaaaaaaaaah', 'hum', 'fati', 'ign…', 'arðÿ˜–ðÿ˜', 'vsfd', 'naruto-aren', 'imediatamente…', 'cuid', 'trag', '48…', 'estrateg', 'biclet', 'eufor', 'ctz', 'diaz', 'paridad', 'encontr', 'condicionado\\\\nont', 'pessoa\\\\nt', 'acumul', 'prefeit', 'instruç', 'eua', 'suo', 'semelhantes…', 'centenari', 'ns', 'confus', '\\\\u200dâ™‚ï¸_x008f_ðÿ¤', 'respons', 'enhypen', 'stod', 'rðµcarregar\\\\ns', 'enoj', 'dia\\\\nest', 'robot', 'dom', 'gra…', 'hsvdjdhsjshsj', 'eh\\\\ntenh', 'esquin', 'ag', 'saiºd', 'qui', 'errosfiqu', 'pressa', 'ondigit', 'p…', 'anch', 'ðÿ¥ºðÿ¥ºðÿ¥º', 'jesu', 'sig', 'situaceconóm', 'noah', 'ciiºm', 'capaz', 'nist', 'palad', 'deitarrrrr', 'vtmnc', 'aegypt', 'inúmer', 'sext', 'toalh', 'qhe', 'daor', 'c4g', 'nåed', 'aunqu', 'fadig…', 'sozinhoach', 'filh', 'perturbaça', 'stess', 'tratar-t', 'formaça', 'imediat', 'clim', '20132014', 'milagr', 'brinq', 'util', 'por…', 'trasladan', 'hab', 'sof', 'comunismonaz', 'zue', 'ðÿ˜‚\\\\n\\\\n', 'martin', 'queimando…', 'vliv', '€ðÿ', 'dao', 'ðÿ˜£ðÿ˜£', 'busc', 'among', 'senh', '\\\\nã…¤', 'ðÿ˜º', 'chip', 'hai', 'divert', 'zic', 'âns', 'completam', 'nunk', 'ðÿ¤¦ðÿ_x008f_¼\\\\u200dâ™‚ï¸_x008f_', 'porcent', 'diasdepoil', 'sio', 'despencou\\\\namanhã', 'incens', 'pariuuu', 'just', 'alucin', 'weet', 'dói', 'novalgin', 'vad', 'º', 'manh', 'i_x0081_ureasocorr', 'desesperad', 'agach', 'aguardam', 'saturaçã…', 'joseph', '\\\\n5', 'personal', 'cooooooois', 'mau', 'conc', 'cinem', 'senn', 'bichooo', 'dir-se-', 'redor', 'getuli', '379â°', '38â°', 'ar-condicion', 'yoomin', 'are', 'modul', 'vô', 'dav', 'ova', 'studi', 'nye…', 'bande', 'febre\\\\xa0aft', 'ðÿ˜µ', 'md', 'assim\\\\n\\\\nt', 'alívi', 'tuberculos', 'enterr', '\\\\n\\\\nm', 'ar\\\\nðÿ', '´ðÿ', 'amg', 'comérci', 'maluc', 'caminh', 'fei', 'acion', 'favor', 'matér', '_x008d_\\\\nouv', 'zodi\\xadac\\\\nreal', 'sol', 'pop', 'bat', 'mex…', 'intensa\\\\n', 'show', 'cabeça\\\\n\\\\nd', 'auton', '\\\\nevit', 'sang', 'organizaçiµ', 'sentadao\\\\n\\\\np', 'satur', 'repentin', 'euu', 'sou\\\\nd', 'hemogram', 'neném', 'guerr', 'restan…', 'dinheira', 'analgesicosantipire', 'mesmo\\\\u0001f9cd\\\\u200d', 'mesmo\\\\n\\\\nassim', 'amor', 'acordei\\\\n\\\\n', 'sec', 'ferv', 'class', 'cont', 'prisa', 'vomitar…', 'compet', 'iss9', 'kkkkkkk\\\\ncol', 'condensou\\\\n', 'vayn', 'ki', 'vale', 'smp', 'ocasion', 'gnom', 'contorc', 'ruim', 'ue', 'credit', 'ji_x0081_', 'cansadacom', 'romp', 'samuel', 'ðÿ˜_x008d_ðÿ˜_x008d_ðÿ˜_x008d_ðÿ˜_x008d_ðÿ˜_x008d_', 'chataaaa', 'ofakt', 'lulu', '6', 'arrastad', 'tough', 'distanc', 'question', 'caraa', 'cigarra', 'odi', 'mod', 'fra', 'cabel', 'form', 'ðÿ˜_x008d_', '5285', 'l', 'rec', 'médica…', 'torc', 'prend', 'anunci', '\\\\né', 'paa', 'dio', 'â€œtosseâ€_x009d_', 'int…', 'histór', 'entenc', 'pessoa…', 'claridad', 'test', 'ave', 'refuerz', 'respiraçao\\\\nacord', 'gkeum', 'maxwell', 'ksksksksk', 'arian', 'covid\\\\nðÿ˜ªðÿ˜ªðÿ˜ªðÿ˜ªðÿ˜ª', 'equip', '\\\\n\\\\nvolt', 'enxaquec', 'aquecendo…', 'grup', 'larg', 'amarrotada\\\\nd', 'mamain', 'sai\\xadr', 'aq…', 'conseg', 'agora\\\\n\\\\n', 'desconfortos\\\\n', 'fort', 'toda\\\\n\\\\nputmerd', 'seguint', 'rap', 'isabell', 'engol', 'patognomon', 'maldad', 'marot', 'plen', 'sanguíne', 'toc', 'ðÿ˜¶', 'arsenal\\\\n\\\\nper', 'soc', 'nasal', 'leit', 'vist', 'opin', 'chã', 'desmaiandoai\\xad', 'clu…', 'altaest', 'ultrapass', 'aeeeeee\\\\nn', 'cland', 'usat', 'botul', 'curt', 'laranj', 'aniversári', 'diminu', 'sussurr', 'ipanem', 'emagrec', 'compartilh', 'desprov', 'norman', 'kkk', 'apont', 'ðÿ™_x008f_', 'skat', 'zi…', 'horr', 'saba', '\\\\u200d', 'veterinari', 'nojent', 'fud', 'nao', 'devi\\xad', 'protest', 'otim', 'tanta', 'surtadah', 'renov', 'ctg\\\\n', '‰', 'palhaçada\\\\nqu', 'morte\\\\ncom', 'mama', 'coraçaoblz', 'gai', 'psf', 'déc', 'projeta\\\\nm', 'fudeee', 'julhoagost', 'enfisem', 'subit', 'situaça', 'i', 'ar\\\\npandem', 'i_x008d_car', 'magic', 'back', 'frei', 'infect', 'cabeça\\\\nn', 'liter', 'palh', 'pai\\\\nna', 'sovert', 'açafrã…', 'ðÿ¤¦ðÿ_x008f_¾\\\\u200dâ™‚ï¸_x008f_ðÿ¤¦ðÿ_x008f_¾\\\\u200dâ™‚ï¸_x008f_ðÿ˜¤', 'tremul', 'hospital\\\\nok', 'ðÿ˜žðÿ˜žðÿ˜ž', 'de…', 'raio-x', '\\\\u0001f975\\\\u0001f972', 'noil', 'personit', 'renat', 'kkkkkkkkkkkkkkkkkkkkkkkkkkkkkkkkkkkkkkkkkkkkkkkkkk', '070221', '‡', 'dur', 'ðÿ¤®ðÿ¤', 'problem', 'agon', 'mandett', 'aceler', 'ora', 'isabel', 'molt', 'est…', '372â°c', 'covidaodenguegrip', 'â€œmenstruaça', 'ambiça', 'dérb', 'virtual', 'hj…', 'baby', 'desloc', 'tern', 'porra\\\\nm', 'soment…', 'episódi', 'criminoso\\\\nqu', 'respiraça', '\\\\n\\\\nprova', 'imers', 'petecof', 'sk', 'discut', 'ini\\xadci', 'pe…', 'ðÿ_x0090_', 'doming', 'ranzinz', 'tro', '220', 'pior…', 'surre', 'ðÿ˜', '\\\\n\\\\nhahahahahahahah', 'suave\\\\n\\\\nfiq', 'flert', 'â€œpacienteâ€_x009d_', 'kkkkkkkkkk', 'ðÿ˜¢ðÿ˜¢ðÿ˜¢', '48', 'ðÿ¤¯', 'uo', 'doen…', 'travess', 'pora', 'viaj', 'psg', 'acess', 'obit', 'dai', '11', 'bruç', 'atrav', '098567w', 'porret', 'dó', 'saiiiii', 'mal\\\\n', 'lasq', 'plan', 'casabbb', 'polici\\xad', 'thall', 'extremad', '450', 'com', 'varr', 'oscil', 'massa\\\\nporqu', 'alt', 'meninat', 'infernoooooooooooooooooooo\\\\n\\\\nput', '13', 'eliu', 'divi…', 'ch', 'stav', 'superfatur', 'public', 'soment', 'carrapat', 'de\\\\xa0covid-19', 'knirscht', 'indi\\xadgen', 'lábi', 'esperanç', 'feeval', 'â€¢gravaça', 'max', 'cub', 'astrazen', 'mrd', 'â€œcas', 'const', 'mater', 'erupç', 'quind', 'econom', 'legisl', '\\\\n4', 'fant', 'sac', 'ment', 'kauã', 'seguranç', 'corp…', 'al', 'emoj', 'nonost', 'cb', 'much', 'dud', 'desinflam', 'ier', 'hipno', '35', 'seri_x0081_', 'passouðÿ˜\\xad', 'congel', 'frasc', 'monta', 'vær', '“', 'hospital', '7h', 'gom', '\\\\n\\\\ns', '\\\\ndiog', 'sidd', 'mamett', 'andrà', 'passana', 'epidem', '\\\\nfeb', 'uci', 'kkkkkkkkkkkkkkkkkkkk', 'guard', 'barat', '\\\\u0001f929\\\\u0001f929\\\\u0001f929', 'explícit', 'with', 'unh', 'conseguido…', 'romanc', 'tempo\\\\u0001f92c', 'ï¸', 'cervej', 'pelamorded', 'rai', 'amarelw', 'hmm', 'febre\\\\nmel', 'vaxcin', 'caterreristich', 'p', 'músic', 'angústiain…', 'gg', 'jahoraen', 'braç', 'bolot', 'febre\\\\ndepoil', 'coronga\\\\né', 'recuper', 'lacrimej', 'péss', 'chorarsum', 'selva', 'monitor', 'tosse\\\\nalg', 'consom', 'toaf', 'k\\\\ns', 'hahah', 'incentiv', 'cha', 'van', 'vomorr', 'estoc', 'latej', 'ansiedad', '\\\\nfic', 'llotub', 'desestabil', 'amigos\\\\n-', 'masn', 'nit', '1340', 'k\\\\nm', 'vacina\\\\n', 'umedec', 'jk', 'josh', 'consapevol', 'pastel', 'enj', 'tda', 'neonazil', 'desmarc', '|', 'queimaça', 'normaliz', 'coraçã', 'fof', 'charli', 'devag', 'ce…', '›ðÿ˜¢ðÿ˜£', 'si\\xadti', 'pronunc', 'covid', 'coloq', 'corporesfri', 'rei', 'comentarios', 'viu', 'emill', 'ouvido', 'inclusiv', 'buen', 'biel', 'indignaça', 'burr', 'link', 'kd', 'abd', 'etc\\\\n', 'ðÿ¤¡ðÿ¤¡ðÿ¤¡ðÿ¤¡', 'ep', 'fdp', 'coruj', 'poem', 'vinh', 'dormindo\\\\n', 'cérebr', 'eri', '\\\\nhahahahahahh', 'assim', 'étic', '\\\\nson', 'insuportav', 'infectolog', 'descrev', 'cineast', 'ðÿ¥³ðÿ¥³ðÿ¥³', 'revolt', '«', 'estagi', 'trend', 'bala', 'pqdev', '\\\\nðÿ˜žâœœï¸_x008f_ðÿ˜_x0081_\\\\n\\\\nbom', 'peitocalafriostosseespirroenfim', 'vt', 'juiz', 'zi', 'band', 'daniel', 'desapareç', 'norm', 'eit', '42', 'benzetacil', 'moro\\\\ngan', 'interf', 'guilherm', 'otari', 'dmsðÿ˜©', 'ded', '±', 'olh…', 'vociš', 'bianc', 'ros', 'invert', 'esfri', 'footloos', 'algum', 'venc', 'carroç', '247', 'jeff', 'uaiâ€_x009d_', 'dar', 'cad', 'lav', 'amizad', 'alivi', '\\\\nn', 'assovi', 'aiutam', 'fit', 'depr', 'biblioteca\\\\nsu', 'bet', 'farmác', 'loopping', 'billing', 'hitl', 'sobrev', 'nutr', 'ci‰u', 'gri…', 'masturb', 'carakh', 'fas', 'i‰bol', 'unhas\\\\nm', 'var', 'chicunganh', 'aaaðÿ˜–', 'congestion', 'incrimin', 'eca', 'sinc', 'médic…', 'li\\xadqu', 'fiºr', 'forç', 'jorg', 'quen', 'ðÿ¤¦ðÿ_x008f_¾\\\\u200dâ™€ï¸_x008f_\\\\ntod', 'pe', 'ðÿ_x0090_‚', 'invern', 'ha…', 'nause', 'exp', 'adolesc', 'nerd', 'tosseðÿ˜', 'kkkk\\\\n\\\\nm', 'negativoq', 'morang', 'sla', 'dimart', 'tremedeir…', 'curand', 'sem', 'art', 'inflam', 'guell', 'emagreç', 'predsin', 'varg', 'ditad', 'alcohol', 'cald', 'multi…', 'fu…', 'matema', 'glu', '\\\\ntosse\\\\nqu', 'diári', 'dit', 'pres', 'desgraçada', 'slk', 'portugues', 'verb', 'doss', 'mediqu', 'exper', 'elei', 'transmissao\\\\n\\\\npod', 'nescauzinnn', 'lrg', 'eficác', '\\\\n\\\\nmed', 'italienischen', 'chov', 'sai…', 'sonec', 'hep', 'ðÿ˜¤', 'tá', 'ðÿ¤¦ðÿ_x008f_', 'noch', 'coe', 'febreðÿ˜©ðÿ˜', 'resolve\\\\n\\\\n', 'chate', 'krlh', 'febreðÿ˜£ðÿ˜\\xad', 'taq', 'kayqu', 'bct', 'nível', 'menopaus', 'rox', 'okay', 'diarre', 'prato\\\\n\\\\nueeeeer\\\\n\\\\nnhenhenhe\\\\n\\\\n', 'tênil', 'marc', 'kkkkkkk\\\\nnervos', '\\\\n\\\\nj', 'handpan', 'hahahah', 'politic', 'colocar\\\\n2', 'feb', 'não…', 'anvis', 'teen', 'â_x009d_¤ï¸_x008f_â_x009d_¤ï¸_x008f_', 'calor\\\\n', 'sa…', 'acontec', 'mulh', 'do', 'vári', 'ma', 'tamanh', 'ringbind…', 'é_hospital', 'entup', 'sujeit', 'amass', 'necess', 'rosic', 'logic', 'â€œna', 'tivess', 'seguridad', 'tequil', 'ni\\xadvel', 'envi', 'tosse\\\\n\\\\nn', 'seguim', 'mamã', 'feliz', 'chag', 'amar', 'glitter\\\\n\\\\nlog', 'fome\\\\n', 'peç', 'outros\\\\nv', 'ngm', 'lanç', 'diges', 'mestr', 'barulh', 'generalizz', 'ceu\\\\npel', '\\\\n\\\\nitâ€™', 'abal', 'york', 'nme', 'tó', 'mach', 'unic', 'vacil', 'ðÿ™', 'tratament', 'enxot', 'frustr', 'ceu\\\\nchuv', 'nimesul', 'aumentaron', 'mar', 'partícul', 'ðÿ˜¥ðÿ¥º', 'filtr', 'goz', 'peiµ', 'tossegargant', 'ihuuuu', 'zik', 'pneumolog', '0246', 'mis', 'tif', 'doença\\\\n\\\\ndepoil', 'ðÿ¤§ðÿ˜–', 'mo', 'queixa…', 'tuv', 'irma\\\\nm', 'nient', 'incô…', 'arðÿ˜¤', 'açiµ', 'olha\\\\nc', 'aff', 'indispos', 'colun', 'â€œum', 'tonel', 'inadmissi\\xad', 'específ', 'ja\\\\n\\\\ns', 'aranh', 'i_x0081_fr', 'ótim', 'umagot', 'piedad', 'moleesper', 'vagabund', 'ðÿ‡§ðÿ‡·', 'ahnnn', 'ativ', 'dormir\\\\nfalt', 'disfarc', 'febreâ€_x009d_', 'piºbl', 'busa', 'poder', 'vorr', 'express', 'propagand', 'colater', '0342', 'chama-s', 'ci‰rebr', \"''\", 'sacoooo', 'otimo', 'calad…', 'secreça', 'bols', 'momentâne', 'ful', 'concern', 'yur', 'rapid', 'fut', 'carl', 'reunia', 'insolaça', 'febretoss', 'morteiiii', 'voss', 'val…', 'pô', 'abr', 'utiliz', 'nacion', 'repeti', 'tav', 'eme…', 'brasil\\\\n\\\\nd', 'mald', 'â€œolh', 'perd', 'pcaus', 'investig', 'surto', 'kkkkkkkkkkkkk\\\\n', 'não\\\\np', 'assedio\\\\nassar\\\\nassombrar\\\\nassust', 'chicungu', 'chorarrrr', 'gui', 'alexand', '\\\\n\\\\nðÿ˜©\\\\u0001f97', 'permit', 'anse', 'kakeguru', 'hei', 'zo', 'aind', 'eloqu', 'madrug', 'boc', 'arrepi', 'manutença', 'vuel', 'agt', 'covid\\\\nprecis', 'sim', 'ðÿ˜\\xadðÿ˜\\xadðÿ˜\\xad', 'convers', 'mãe', 'imbeci\\xadl', 'genshin\\\\n+', 'caí', 'guriz', 'onibu', 'gag', 'fal', 'rhian', 'indigestão\\\\né', 'justiç', 'fim-de-sem', 'tai\\xad', 'mec', 'chicken', 'ðÿ˜ƒ', 'passa', 'imped', 'tranquilo\\\\ngr', 'sucat', 'avis', 'recomi', 'plmdd', 'tarda', 'ðÿ¤¨', '\\\\ncolch', 'tartarug', 'pent', 'tomsr', 'emocion', 'deboche\\\\nm', 'chor', 'necessari', 'apresent', 'crédit', 'gross', '3880', '2013', 'bern', 'mna', 'può', 'dorm', 'tyd', 'muvuc', 'cicl', 'hipocondr', 'seit', 'pomeriggi', 'desd', '2\\\\ndorm', 'júl', 'respiratori', 'mä', '100', 'fracion', 'darin', 'rouc', 'maliciosos\\\\np', 'arras', 'inte', 'inseguranç', 'comunicarm', 'delíri', 'recepça', 'compr', 'sena', '32', 'podcast', 'diferent', 'corn', 'lembra-t', 'menstru', 'incri\\xad', 'atac', 'dor\\\\nfebr', 'â€œcam', 'escan', 'mi', 'posta', 'â€œfebreâ€_x009d_', 'mesma…', 'tramp', '\\\\n\\\\nt', 'tbðÿ', 'bonj', 'pfiz', 'ziqu', 'condomíni', '\\\\nmassacr', 'arna', 'mill', 'chulé', 'ðÿ˜¡', 'alecrim', 'repr', '1k', 'desgraç', 'precipit', 'simulaça', 'expir', 'depressa', 'è', 'viru', '\\\\nfaz', 'nuv', 'evangel', 'dragh', 'vj', 'sabel', 'despert', 'gigant', 'soud', 'marqu', 'lavr', '\\\\nist', 'hey', 'sorris', 'andre', 'deit', 'involunt', 'perfeiça', '_x008d_ðÿ_x008f_¼', '\\\\u0001f975', 'porém', 'im', 'amigdalit', 'encontro\\\\n\\\\npqp', 'observa-l', 'veterin', 'l\\\\nd', 'sauce\\\\ndiz', 'ðÿ¤¡ðÿ˜', 'assust', 'colapso\\\\nporqu', 'ssim', 'ðÿ˜°ðÿ˜°', 'fumaç', 'tchum', 'plataform', 'rebelion', 'rt', 'oxe', 'clar', 'tipo…ont', 'mal', 'deseeper', 'cient', 'fecha\\\\nt', 'sussurrando\\\\nsegur', 'peitoum', 'jiu-ji\\xadtsu', 'ie', 'fabr', 'olhosðÿ˜', 'atenç', 'litro\\\\ntoss', 'segu', 'ku', 'bendit', 'cbl', 'enterrarem-s', 'peid', '92', 'son…', 'espec', 'pr…', 'corongaqq', 'azetromicin', 'agu', 'mosc…', '€â', 'meo', 'vezs', '\\\\u0001f92d\\\\u0001f97', 'prai', 'teng', 'meeee', 'acomet', 'tentand', 'ðÿž‰ðÿžš', 'rest', 'normal\\\\n', 'mascaraâ€_x009d_', 'erklärung', 'es', 'nicotin', 'carai', 'recl', 'cjam', 'luiz', 'cabec', 'haikyuu', 'youtub', 'deo', 'cagan', 'ci', 'foleg', 'inform', 'inútil', 'â€œaument', 'frut', 'fodido\\\\narthur', 'gost', 'baqu…', 'zuer', '10min', 'arrot', 'expost', 'ðÿ¤¦\\\\u200dâ™€ï¸_x008f_ðÿ¤¦\\\\u200dâ™€ï¸_x008f_', 'x', 'dia\\\\n\\\\nont', 'ðÿ˜´\\\\nvolt', 'projac', '24', 'use', '22', 'â€œd', 'tarde…', 'escondido\\\\nnum', 'â€œprocur', 'barrac', 'altapress', 'agil', 'full', 'impressa', 'seras', 'confiar\\\\n', 'ronc', 'consigu', 'mi_x0081_', 'resfri', 'janela\\\\n\\\\n', 'caix', 'irgendwi', 'shushsujwjwsjq', 'along', 'vestibul', 'enorm', 'limit', '_x008d_cinem', 'ning', '69', 'desgraçaaaaa', 'enfi', 'siens', 'sostegn', 'influenc', 'castig', 'desnecessár', 'matin', 'cria…', 'joa', 'rsr', '\\\\ntod', 'sag', 'â—¤âœ', 'ðÿ¤¦ðÿ_x008f_¾\\\\u200dâ™€ï¸_x008f_', 'tossecoceira\\\\n\\\\n', 'dyon', 'toled', 'ðÿ™_x008f_ðÿ™_x008f_ðÿ™_x008f_', 'intern', 'acre\\\\n', 'nak', 'ql', 'sn', 'mimim', 'pior', 'fracass', 'independ', 'transcend', 'ðÿ¤¦ðÿ_x008f_½\\\\u200dâ™€ï¸_x008f_ðÿ¤¦ðÿ_x008f_½\\\\u200dâ™€ï¸_x008f_ðÿ¤¦ðÿ_x008f_½\\\\u200dâ™€ï¸_x008f_ðÿ¤¦ðÿ_x008f_½\\\\u200dâ™€ï¸_x008f_ðÿ¤¦ðÿ_x008f_½\\\\u200dâ™€ï¸_x008f_', 'dá', 'kkkkkk\\\\nobrigad', 'respeit', 'agoni', 'vomit', 'd+', 'mo…', 'bemærkning', 'mimðÿ˜ÿðÿ', '\\\\n\\\\nansiedad', 'apare…', 'dependi', 'gabriel', 'covidna', 'diss', 'revis', 'tossena', '\\\\n\\\\ntoss', 'chá', 'ðÿ˜‰\\\\n', 'extint', 'prefer', 'mort', '033234', 'manc', 'kurok', '\\\\n\\\\ncort', 'acumulada\\\\nm', 'machucadofalt', 'prepare-s', 'desarranj', 'conhec', 'tossekkmmmmmkkkkkk\\\\nm', 'máx', 'q', 'null', 'bença', 'entonc', 'deshtac', 'ro', 'clas', 'mamad', 'sippinpurpp', 'riniteâ€_x009d_', 'catarr', 'vogli', 'circulaça', 'remarq', 'retribu', 'legger', 'xarop', 'choro-tosseðÿ˜', 'negoci', 'scienc', 'heloi\\xads', 'convid', 'pas', '3', 'ansieda…', 'cê', '395', 'recent', 'gerson', 'chuv', 'ab', 'analfabet', 'da…', 'mó', 'ðÿ¤¡ðÿ¤¡ðÿ¤¡ðÿ¤¡ðÿ¤¡ðÿ¤¡ðÿ¤¡', 'inter', 'acontecendp', 'ðÿ˜°', 'ðÿ¥´', 'quer', 'dolor', 'processe-m', 'abraç', 'amarr', 'compart', 'aqu', 'sti¤rk', 'med', 'deus\\\\nparec', 'saltit', 'intermin', 'xand', 'dem', 'baix', 'delir', 'natural', 'acelera…', 'club', 'irm', 'invál', 'pqppp', 'jument', 'key', 'satânico\\\\nleag', 'arrep', 'estour', 'milk', 'dicas\\\\n', 'fiq', 'pouq', 'list', 'alimentan…', 'seri', 'grau', '3839', 'incendi', 'tosseâ€_x009d_\\\\nâ€œqu', 'sein', 'preven', 'masc', 'trist', 'eufór', 'filhamkkkkkkkkkkk', 'áre', 'propolil', 'saia\\\\n-', 'hien', 'issoo', 'empr', 'viv', 'â_x009d_¤', 'ansiedade\\\\n', 'fka', 'cro', 'olá', '\\\\ncefali‰', 'relat', 'diºvida\\\\ncovid', 'espirit', 'chicungunha…', 'rsrsr', 'sos', 'graça\\\\nma', 'peitoðÿ˜¢', 'vár', 'porton', 'aliás', '\\\\u200dâ™€ï¸_x008f_ðÿ˜', 'positivo\\\\n\\\\ncom', 'sozin', 'særligt', '\\\\ngargant', 'tecn', 'ol', 'coc', 'aslei\\xadd', 'lanc', 'â€œsint', 'sintom', 'ðÿ˜‚ðÿ˜‚ðÿ˜‚ðÿ˜‚', 'coç', 'ener', 'inconscientes…', 'regres', 'ah', 'dx', 'qd', 'sex', 'onz', 'articul', 'afff', 'suj', 'macr', 'lon', 'corponar', 'mlk', 'neguel', 'tosse\\\\n\\\\npi', 'cag', 'sincer', 'fa…', 'poli', 'canin', 'wochen', 'casac', 'ðÿ™ƒ', 'colegi', 'qualqu', 'psicolog', 'kkkkkkkkkkkkkkkkkkkkkkkkkkkkkkkk', 'trem', 'veget', 'logo\\\\n\\\\noqu', 'crlðÿ˜´', 'pap', 'k', 'do…', 'basicamente…', 'confer', 'hahahahahahahhah', 'chic', 'perfum', 'angusti', 'infart', 'kelson', 'kommt', 'afinal', 'cpa', 'colp', 'ua', 'compress', 'vivend', 'dir', 'vdd', 'dazu', 'sindrom', 'noj', 'ocorraðÿ', 'fisic', 'arum', 'afer', 'of', 'bb', 'suspeit', 'ahsuahduahdhshshshsmsocnsgkndkzncjsjxmskz', 'nervosaðÿ¤¦', 'lim', 'gargantaranç', 'abstinenc', 'tremeliqu', 'ahhahahahhaahhahah', 'nn', 'subir…', 'horri', 'final', 'kkkkkkkkkkkkkkkjjjjkkkkkkkkkkk', 'z', 'haguessil', 'assess', 'foda-s', 'noite\\\\n\\\\nor', 'aliment', 'estress', 'voinh', 'enta', 'ni', 'ðÿ˜©ðÿ˜©', 'tregua', 'patin', 'parabeniz', 'ðÿ˜¬', 'geng', 'escola\\\\nsem', 'ih', 'fdd', 'confi', 'víru…', 'dirc', 'prag', 'ogg', 'gran', 'ðÿ¤¦ðÿ_x008f_½\\\\u200dâ™‚ï¸_x008f_', 'líric', 'snsd', 'mano', '\\\\nach', '5o', 'exam', 'redirec', 'senhorrrrr', 'ðÿ˜¢\\\\u0001f97', 'thaliaðÿ', 'palhac', 'pisc', 'psp', 'sabi', '60', 'térm', 'maior', 'turb', 'febre\\\\nn', 'pao', 'tuberculoses', 'temosðÿ˜¬ðÿ¤žðÿ_x008f_¾ðÿ™_x008f_ðÿ_x008f_¾', 'kkikikik', 'deslocado\\\\n\\\\nhoj', 'ala', 'gotícul', 'possi\\xad', 'troq', 'outubr', 'lives\\\\nsó', 'cr…', 'patchwork', 'meses…', 'sinfon', 'zagu', 'sim\\\\nfebr', 'aconteç', 'ambul', 'arpqp', 'turn', 'unid', 'bad', 'ðÿ¤·ðÿ_x008f_', 'chataaa', 'orig', 'ðÿ™_x008f_ðÿ_x008f_¼', 'convencid', 'dia\\\\n\\\\naind', 'contamin', 'eletr', 'diabet', 'provinc', 'amidalit', 'recomendaça', 'médico\\\\nent', 'meud', 'mergulh', 'avon', 'vi\\xadde', 'what', 'is', 'capeng', 'conk', 'geizian', 'propri', 'intoxicadaðÿ˜©ðÿ˜©', 'meru', 'com…', 'direbb', 'batat', 'â_x009d_œâ_x009d_œ', 'carat', 'ðÿ¤·\\\\u200dâ™€ï¸_x008f_', 'que…', 'poli\\xad', '5h39', 'oxigen', 'coorden', 'febrepass', 'exig', 'nerv', 'ain', '\\\\nq', '391â°', 'du', 'deline', 'mimâ€_x009d_', 'lorran', 'jisung', 'foss', 'respost', 'text', 'dormirðÿ˜\\xad', 'iºltimam', '0735', 'trabalh', 'sup', 'quartel', 'partir\\\\nc', 'ðÿ˜–ðÿ˜\\xad', 'amggg', 'raiox', 'otr', 'aniv', 'reaça', 'jun', 'ceci\\xadl', 'ðÿ¤¡ðÿ¤¡ðÿ¤¡', 'fiel', 'irma', 'hipotes', 'adiant', 'f', '3-', 'dinheir9', 'menó', 'consog', 'negligenc', '\\\\n\\\\noqu', 'bjss', 'œaté', 'esp', '\\\\u0001f970\\\\u0001f970\\\\u0001f970', 'retard', 'tad', 'ridi\\xadcul', 'kkkkkkkkkk\\\\ncom', 'nbom', 'us\\\\n\\\\nest', 'fest', 'firm', 'obrigatori', 'noit', 'hann', 'descrivergl', 'vó', 'picol', 'terraplan', 'é…', 'keng', 'competenc', 'yay', 'corrig', '\\\\u0001f97', 'testada\\\\natença', 'ajunt', '0245', 'excess', 'ðÿ–_x0090_ï¸_x008f_ðÿ–_x0090_ï¸_x008f_ðÿš', 'conjunt', 'far', 'asvist', 'pref', 'lid', '\\\\nbuongiorn', 'trans', 'acr', 'cines', 'time\\\\n\\\\n', 'resp', 'tossindo\\\\ntoss', 'arroganc', 'h1n1\\\\ns', 'instituiça', 'proteça', '251', 'psicos', 'depress', '\\\\nzu', 'ne…', '_x008d_ðÿ_x008f_¼ðÿ', 'ruin', 'hospitalâ€™', 'negativ…', 'denunc', 'milhã', 'vacun', 'apendicit', 'literalment', 'corrupt', 'apreens', 'la…', 'lir', 'comprim', 'mal\\\\nassist', 'situ', '\\\\u0001f97a\\\\u0001f97aðÿ', 'stf', '£', 'transpir', '1', 'escond', 'temðÿ˜ªðÿ', 'internaçiµ', 'ðÿ˜\\xadðÿ˜©', 'dengu', '\\\\nah', 'mistur', 'oportun', 'dist', 'destap', 'lix', 'perceb', 'ar\\\\n\\\\naind', '194m', 'doman', 'rum', 'cid', 'pocah', 'olhaael', 'fi\\xads', 'evoluís…', '\\\\nqualcun', 'mam', 'frac', 'grave\\\\nlev', 'ya', 'moral', 'iºnic', 'l…', 'contraça', 'lockdown', 'lho', 'qno', 'joelh', 'traum', 'antialerg', 'abiert', 'ðÿ˜¥ðÿ˜\\xadðÿ˜©ðÿ¤¯', 'futebol', 'malditaaaacatarr', 'cap', 'famil', 'bigafon', 'secre', 'mais\\\\n', 'mil', 'nem…', 'pand', 'ac', 'erwin', 'oposiça', 'gatilh', 'ciênc', 'dudu', 'cent', '373', 'vøg', 'elo', 'desab', 'siºbit', 'met', 'desfoc', '\\\\u200dâ™‚ï¸_x008f_ðÿ¤¦ðÿ_x008f_', 'junin…', 'tml', 'err', 'tropicais\\\\nfo', 'infanc', 'ðÿ˜¤ðÿ¤', 'habu\\\\npr', '0510', 'avisou-m', 'ðÿ¤¦ðÿ_x008f_½\\\\u200dâ™€ï¸_x008f_', 'ind', 'ðÿ˜¢', 'comum', 'posiça', 'concord', 'cheira', 'vorrebb', '\\\\nsint', 'poe', 'ª', 'pirap', 'dor', 'milh', 'kkkkkkkkkkkkkkkkkkkkkkk', 'gam', 'anoitec', 'ciúm', 'bomb', 'comigo\\\\n-', 'genera…', 'inf', 'benalet', 'set', 'barril', 'importam', 'nan', 'líd', 'dec', 'ðÿ¤¦ðÿ_x008f_¿\\\\u200dâ™€ï¸_x008f_', 'zumb', 'grud', 'brasile', 'ðÿ¤¦ðÿ_x008f_¾', 'mandetta\\\\n\\\\nap', 'ðÿ™œðÿ™œ', 'benefi\\xadci', 'minecraft', 'confusa', 'viag', 'acred…', 'culp', 'enferm', 'entregan', 'però', '08h30', 'denuncia\\\\nn', 'ivermactin', 'ihor', 'carn', 'gatoeincrivelpr', 'hr', 'gord', 'film', 'acolh', 'alucinaçiµ', 'web', 'at', '\\\\n\\\\nn', 'direit', 'brincadeirin', '\\\\u0001f97aðÿ˜ž', 'geo', 'corpos', 'hahahahah', 'pesquis', 'fala\\\\ndesculp', '10', 'emb', 'funk', 'raffreddor', 'riniteðÿ˜', 'comet', 'saracuti', 'planet', 'pud', 'â€œremedi', 'pisoteouu', 'esa', '\\\\nmortandad', 'ðÿ˜¤ðÿ™', 'respet', 'conform', 'amamentaça', 'tosc', 'apen', 'pouqu', '22h', 'discord', 'maque', 'psicológ', 'lombrig', 'despine', 'olhos\\\\nf', 'vult', 'aliv', 'gul', '387ðÿ¤¡ðÿ¤¡ðÿ¤¡ðÿ¤¡ðÿ¤¡', 'mascaraðÿ¤¦ðÿ_x008f_', 'doi\\xadd', 'genoci\\xaddi', 'arðÿ˜¥', 'mae\\\\n\\\\n', 'muuuit', 'exceç', 'rt-pcr', 'non', 'febreðÿ˜žðÿ¤', 'ã…¤\\\\niss', 'pesso', 'agarr', 'fam', 'assintomá', 'apesti', 'bu', 'vazi', 'fot', 'una', 'dor\\\\namanh', 'apront', 'ninguém', 'chang', 'apag', 'resol', '%', 'rodei', 'xanax', 'gid', 'comida\\\\nviih', 'r', 'creuset', 'inquir', '\\\\num', 'outros…', 'maiiiisss', 'moc', 'taref', 'ocident', 'i‰', 'remarc', 'pò', 'µðÿ', 'â˜ºï¸_x008f_', 'procur', 'calor\\\\n\\\\nob', 'tosseðÿ™', 'jour', 'pioraram\\\\n\\\\nansiedad…', 'vontad', 'irrespons', 'verdadeðÿ™', 'red', 'eleg', 'balbo', 'fjfjxbxbxh\\\\ncomeç', 'vsf', 'vacinador\\\\né', 'demóni', 'cur', 'ano\\\\nsét', 'tomjensen1966', 'aronofsky', 'calh', 'rolar\\\\ncapaz', 'obr', '—', '766', 'tou-m', 'reconhec', 'exager', 'mudanç', 'zu', 'real', 'li\\xadngu', 'fallen', 'intensif', 'horit', 'sksksk', 'ezeiz', 'rodolff', 'meg', 'or', 'ott', 'stonk', 'nó', '130h', 'ar\\\\n\\\\nâ—¤âœ', 'live\\\\ndi', 'âœ…\\\\ncabeç', 'essaðÿ˜\\xad', 'faringit', 'whatsapp\\\\n\\\\nd', 'torn', 'agr', 'saib', 'corpor', 'arrast', 'min\\\\n\\\\nt', '€\\\\nc', 'desprez', 'u0001f928', '24h', 'gasolin', 'cama\\\\n', 'muy', 'coraça', 'pr', 'hylt', 'aj…', '¸ë¸_x0090__ì•™ì½', 'ehheh', 'f8m', 'cart', 'audi', 'pt', 'term', 'corona\\\\n\\\\nag', 'torácic…', 'romantiz', 'infinito\\\\nqua', 'liºc', 'academia…', 'mud', 'mencion', 'ar70', 'doriavouch', 'uso', '\\\\nouv', 'paladar\\\\n\\\\nðÿ˜§ðÿ˜§ðÿ˜§', 'cant', '1638163', 'tradic', 'remedi', 'kakakak', 'ingl', 'ð_x009d__x0090_•', '\\\\n\\\\nfac', 'tok', 'tub', '10x', 'mortes\\\\nn', 'b…', 'preocup', 'enjoouðÿ™œðÿ_x008f_', 'desneh', 'suspir', 'minut', 'masculin', 'recif', 'rol', 'baf', 'nubl', 'paul…', 'ðÿ¤_x009d_', '\\\\nengasg', 'rennan', 'águ', 'prisao\\\\nqu', 'maisðÿ™', 'chati', 'contribu', 'karm', 'autops', 'esatt', 'sugestão\\\\ntir', 'difi\\xadcil', 'd\\\\águ', 'choqu', 'eduard', 'coraçaoum', 'sel', 'qui\\xadm', 'interi', 'corag', 'csf', 'medicin', 'pharmake', 'valenta', 'tutt', 'hern', 'macari', 'coisar', 'confe\\\\nvih', 'hmmm', 'tlgd', '\\\\n\\\\nconheç', 'amarg', 'intens', 'ansidedad', '398', 'pic', 'mos', 'dour', '„', 'ocañ', 'geometr', 'terçol', 'pareç', 'princípi', 'anal', 'ðÿ˜³ðÿ˜³', 'mie', 'campany', '©inscripciom', 'transtorn', 'cavern', 'voz', 'defen', '-exist', 'hein\\\\n', 'oro', 'propr', 'curitib', 'detetiv', 'arok', 'barr', 'atė', 'abb', 'omi', 'cebol', 'ej', 'seg', 'deus\\\\n', 'forteðÿ˜', 'ðÿ˜ªðÿ¤¦\\\\u200dâ™€ï¸_x008f_', 'obstruça', '2011', 'salbutamol', 'ðÿ˜–', 'selv', 'cert', 'acab', 'bug', 'ressonanc', 'toqu', 'zap', 'amanha\\\\n\\\\n', 'curs', 'vem\\\\n\\\\nfu', 'semana\\\\npod', 'dieg', 'serioâ_x009d_¤ï¸_x008f_', 'exceça', 'iri', 'és', 'contact', 'segregaça', 'colab', '\\\\nt', 'quebr', '\\\\ncefurox', 'quebrado\\\\ncamill', 'sufici', 'brilh', 'coment', 'talent', 'tael', 'anot', 'manhãfebretosseincomod', 'fredd', 'tia', 'qye', 'beija-l', 'cão', 'â€œsom', 'wtf', 'fortiss', 'mab', 'ekkskskskw', 'febre\\\\n\\\\nmuit', 'tmb', 'nev', 'coach', 'preconceit', 'fech', 'tocom', 'paz', 'bday', 'publ', 'alkapä', 'essaðÿ¤§', 'estômago…', 'inson', 'caraaalhooooooooo\\\\n\\\\ni‰', 'dosil', '\\\\nsegund', 'cit', 'destin', 'osteoporos', 'invisi\\xadvel\\\\n\\\\n', 'toleranc', 'evapor', 'debaix', 'nvo', 'ami‰m', 'mol', 'cort', '\\\\n', 'diari', 'kkkkjkkk', 'ðÿ™œðÿ_x008f_¼', 'two', '\\\\nbom', 'fall', 'edgy', 'goku', 'ðÿ¤£ðÿ¤£ðÿ¤£ðÿ¤£ðÿ¤£ðÿ¤£ðÿ¤£ðÿ¤£ðÿ¤£ðÿ¤£ðÿ¤£ðÿ¤£ðÿ¤£ðÿ¤£ðÿ¤£ðÿ¤£ðÿ¤£ðÿ¤£ðÿ¤£ðÿ¤£ðÿ¤£ðÿ¤£ðÿ¤£ðÿ¤£ðÿ¤£ðÿ¤£ðÿ¤£ðÿ¤£ðÿ¤£ðÿ¤£ðÿ¤£ðÿ¤£ðÿ¤£ðÿ¤£ðÿ¤£ðÿ¤£\\\\nv', 'crlllll', 'berr', 'exu', 'erradicadas\\\\n\\\\ndengue\\\\nchikungunya\\\\nzika\\\\nfebr', 'causa…', 'gat', 'funça', 'nosotr', 'apavor', '\\\\n\\\\ncoloqu', 'conti\\xadnu', 'aaaaaaaaaaaa', '€\\\\nooc', 'elly', 'ðÿ˜\\xad\\\\nprim', 'frozen', 'fabril', 'caralho-', 'rach', 'poi', 'gaj', 'iºlt', 'ieri\\\\n\\\\n', 'ss', 'ron', 'tom', 'painh', 'mirel', 'dois\\\\n', 'merc', 'criminal', 'barrig', 'ataca\\\\nm', 'm…', 'stan\\\\n', 'reviv', 'notic', 'rebecc', 'dinott', 'bariµ', 'akutagaw', 'condicion', 'imp', '72', 'heli', 'piscianoâ™', 'bc', '\\\\u200dâ™€ï¸_x008f_ðÿ˜©', 'virolog', 'lembre-s', '\\\\u0001f970', 'si', 'acordeipi', 'soph', 'obcec', 'idade…', 'inating', 'germ', 'azi', 'juev', 'opiniiµ', 'dodo', 'arnald', 'mascara\\\\n1', 'brt', 'aneurism', 'freez', 'legal', 'retir', 'dxd', 'conseguir…', 'voz\\\\n', 'um…', 'antagon', 'detect', '\\\\nprim', 'pur', 'diss…', 'atropel', 'posi', '\\\\ncert', 'fev', 'hge', '28', 'coisas\\\\nv', 'síndrom', 'vao', 'aproveit', 'burl', '1h15', 'geent', 'heineken', 'kau', 'idos', 'carnav', 'entrat', 'sup…', 'indovinat', 'proteger\\\\ntenh', 'ðÿ˜\\xadðÿ˜\\xadðÿ˜\\xadðÿ˜\\xadðÿ˜\\xadðÿ˜¢ðÿ˜¢ðÿ˜¢ðÿ˜¢', 'dipi…', 'pcr', 'who', 'pai\\xads', 'alert', 'respirazion', 'surpres', 'moscerin', 'sry', 'arc', 'comg', 'bocej', 'ðÿ¥ºðÿ¥º', 'aikshsbshahaj', 'salud…', 'masna', 'enfim', 'emergenciaâ€_x009d_', 'político\\\\ntampouc', 'ide', 'ph', 'altur', 'pratic', 'mortes\\\\n2020', 'demsil', 'quas', '70', 'aaaaah', 'tosse\\\\n\\\\nesper', 'ᅟ\\\\n‹', 'prud', 'divers', '394', 'andar\\\\num', 'lab', 'lagartix', '\\\\n\\\\nminut', 'rep', 'estabelec', 'determin', '2', 'camp', 'tu…', 'tranquiliz', 'infecç', 'opção\\\\n\\\\nfiqu', 'terc', 'leu', 'lacr', 'ansioli\\xad', 'stärk', 'hahahahhah', 'imunológ', '\\\\np', '15âº', 'inv', 'ehhh', '\\\\naí', '1hor', 'eco\\\\n', 'muss', 'andass', 'senti\\\\n\\\\nc', 'avat', 'caralhoo', 'foc', 'condição\\\\n', 'uai', 'paoll', 'machuc', 'dentro\\\\n', 'bimestr', 'mutret', 'and', 'ðÿ˜‚', 'delic', 'eleðÿ˜', 'vida…', 'jur', 'vot', 'isil', 'milit', 'arer', 'desç', 'desestabiliz', 'fabric', 'francisc', '\\\\nchor', 'andrò', 'ex-bbb', 'dlc', 'nadakkk', 'aaafff', 'alex', 'maiones', 'laur', 'nessun', 'jant', 'então…', '1ª\\\\xa0dos', 'malest', 'opç', 'decent', 'chazin', 'know', 'telefón', 'xenofon', 'pastilhacomprimi…', 'dormindo\\\\nseri', 'enlouquec', 'relaç', 'fiot', 'vem…', 'hahahhaha\\\\nlembr', 'emit', '5min', 'shak', 'negac', 'vibr', 'vazioaquel', 'esperanf', 'client', 'seios', 'dsgcd', 'nepel', 'helen', 'menga', 'macul', 'invej', 'serv', 'cober', 'bebê', 'ðÿ™_x008f_ðÿ_x008f_', 'centr', 'antig', 'ðÿ¥ºðÿ¤¦ðÿ_x008f_', 'plmm', 'saúde24', '80kmh', 'cumpanh', 'intuiça', 'ambi', 'nao\\\\napag', 'teletransporte-s', '€\\\\nbr', 'sd', 'pobr', 'máscara\\\\n', 'medic', 'olf', 'lkk', 'dram', 'essaaaaa', 'bagulh', 'pulma', 'ðÿ˜€ðÿ˜€ðÿ˜€', 'arremess', 'trhottl', 'falec', 'estre', 'bik', 'falt', 'ðÿ˜¡ðÿ˜¡ðÿ˜¡', 'quatr', 'esto…', 'tudo\\\\nfalar…', 'entop', 'gastrit', 'gobiern', 'tosseðÿ˜³\\\\n', 'dengos', 'lh', 'venerdì', 'saúd', 'coraçao\\\\nðÿ_x008d_¯', 'acima…', 'secai±', 'present', 'sabor', 'suspens', 'secretari', 'ðÿ™ˆðÿ™šrsrsr', 'ªðÿ™_x008f_', 'descontrol', 'premett', 'cemur', 'né\\\\nprim', 'tend…', 'lig', 'prejudic', '20', 'vdd\\\\n', 'misericord', 'costasfebr', '8h', 'caroç', 'zhonfl', '\\\\npel', 'oi', 'genshin', 'percebi\\\\nabr', 'nã…', 'coronavi_x008d_ru', 'lepst', 'lais', 'sozijhaaa', 'epoc', 'aaaaaaaaaa', 'pern', 'estar\\\\n\\\\ndev', 'vozzzzz', 'na9', 'atu', 'ðÿ¥ºðÿ˜©', 'dúv', 'even', 'compromiss', 'mm', '\\\\nvolt', 'john', 'verdadefalt', '\\\\nalg', 'koyd', 'confort', 'cè', 'gur', 'dop', 'escola\\\\n\\\\nðÿ‡§ðÿ‡·', 'membr', 'matar\\\\nont', 'rhy', '2014', 'vi\\xad', 'sodic', 'lanch', 'bren', 'anemica…', 'amém', '€\\\\nqu', 'benf', 'atualizaçiµ', 'recomend', 'gv', 'gad', 'noturn', 'belel', 'covid-19', 'ðÿœš', 'gt', 'direç', 'planta', 'temh', 'gengibr', 'sapospererecasrã', '90', 'véi', 'fo…', '250mil', 'thomaz', 'pers', 'injeç', '20…', 'caracterís', '2017', 'quebrou\\\\n\\\\n', 'kkkkkkkkkkkkkkkkkkkkkkkkkkkkkkkkkkkkkkkkkkkkkkkkkkkt', 'amigo\\\\n\\\\nel', 'códig', 'bravi\\xadss', 'ic', 'mi_x008d_n', 'azar', 'prefir', 'camara', 'educad', 'thom', 'infernonon', 'obrig', 'mao', 'brind', 'akel', 'lindaaaaaaa', 'garot', 'assim…', 'lul', 'ub', 'che', 'metrópol', '``', 'mereç', 'finur', 'geograf', 'perché', 'fim', 'il', 'sa', 'deli\\xadc', 'olha-', 'ðÿ˜§', 'siiiim', 'rod', 'cochil', 'sensaça', 'mestru', 'va', 'jegu', 'rodrig', 'micos-l', 'desafi', 'dinibu', 'acend', 'et', 'kjsjsksjsnsnakmansmsmam', 'ðÿš¬ðÿš¬', 'cheiro\\\\ncai', 'confessionari', '200â°c', 'sacoðÿ¤¦\\\\u200dâ™€ï¸_x008f_', 'kojim', 'diagnóst', 'costel', 'vick', 'pulmiµ', '\\\\npq', 'jeg', 'thiag', 'holocrani', 'assinat', 'fanfic', 'fatt', 'mes', 'rev', 'sintoma…', '0731', 'rom', 'ðÿ˜\\xadðÿ', 'ating', 'repar', 'cristin', 'raph', 'branda', 'obrigatri', 'obv', 'envenen', 'brinc', 'mentid', 'qier', 'transmissa', 'pá', '00h', 'internac', 'equivoc', 'cof', 'silenci', 'ti\\xadtul', 'funcionari', 'leblon', 'orientaça', 'ar\\\\n\\\\nhenriqu', 'tem\\\\nh', 'difícil', 'manuell', 'algod', 'peri\\xadod', 'gand', 'hidróxicloroquina…', 'rápid', 'vei', 'ar\\\\n', 'finalís', 'formig', 'juju', 'xix', 'ental', 'tossefadig', 'barcel', 'ader', 'jujub', 'obsessed', 'xéleng', 'kirchner', 'companh', 'neg', 'descans', 'teatr', '\\\\u0001f929', 'anderson', 'ey', 'suzan', 'ta…', '45', 'cg', 'quest', 'posições…', 'inst', 'afast', 'contid', 'scoot', 'pizz', 'leã', 'obtev', 'bail', 'si-dom', 'tranquil', 'â€œcalm', 'assist', 'aviar', 'jackson', 'outubronovembr', 'queij', 'canal', 'esquerd', 'abril', 'fudee', 'auxili', 'comerci', 'profund', 'aaarr', 'quw', '\\\\npass', 'lt~', 'œ\\\\n\\\\n', 'arou', 'â€œma', 'ara', 'twitte…', 'azitromicin', 'invé', '14', 'pequenin', 'holand', 'via', 'verd', 'rio', 'sedentár', 'dra', 'sat', 'poliomielit', 'part', 'sempl', 'altpirin', '\\\\nc', 'herp', 'vasc', 'sól', 'estavel', 'espirran', 'tiv', 'absolut', 'irmã', 'causam', 'muert', 'ser…', 'agath', 'ali\\xadvi', 'tlc', 'hospital\\\\nfebr', 'horaci', 'narr', 'incomod', 'escrev', 'enqnt', 'ilud', 'benço', 'silv', '¹', 'surviv', 'condici…', 'protagon', 'sury', 'todinh…', 'saliv', 'álcool', 'peito\\\\nsaturaça', 'sust', 'umidific', 'dispne', 'short', '\\\\n\\\\na', 'injet', 'corrid', 'digit', '\\\\u200dâ™€ï¸_x008f_', 'jashsjshsjsh', '39°', 'egoi\\xadst', 'to', 'žðÿ_x008f_¼', 'explot', 'espir', '063708', 'ved', 'clg', 'rost', 'ni‰', 'milhoes', 'amor\\\\nrevir', 'vrt', '20min', 'diferenci', '\\\\u200d\\\\u0001f92f', 'peit', 'esforç', 'parab', 'dela\\\\nqu', '\\\\nricard', 'perfeit', 'profes', 'tcc', 'snk', 'vão', 'compati\\xad', 'proteçiµ', 'hulk', 'provínc', 'sid', 'cinseguibd', 'lavi\\xadn', '’', 'infinit', 'ðÿ˜¥ðÿ', 'sociedad', '232', '\\\\n\\\\nhahah', 'sim\\\\nqu', 'bel', 'alcaloid', 'prens', 'melhor\\\\n-', 'irrealista…', 'gaby', '082859', 'aparent', 'ˆðÿ_x008f_½', 'um', 'altamir', 'log', 'bix', '\\\\na', 'comparaçao\\\\n\\\\nm', 'tosse\\\\n\\\\ncorn', 'ping', 'louv', 'gordur', 'math', 'dep', '76', 'usc', 'miguel\\\\nm', 'pression', 'másc', 'yeah', 'ahamanh', 'psmddcpocpocmfesdfmcesr', 'aba', 'enel', 'impl', 'jos', 'sai\\xad', 'report', 'teresin', 'manett', 'quai', 'cuent', 'tmp', '»', 'pastilh', 'shopping', 'tristeðÿ¥‚', 'ðÿ˜\\xad', '384', 'sensaçiµ', 'acamp', 'avoc', 'diminuiu…', 'atitud', 'buch', 'produzem\\\\n', 'be', 'objet', 'produç', 'elev', '\\\\ntô', 'preocupadokkkkkkkkkkkk\\\\n\\\\nn', 'tour', 'dez', 'i\\xadrrit', 'chanc', 'palpitaçiµ', 'sei', 'esmigalh', 'caraðÿ˜£', 'tav…', 'grand', 'jardim', 'caixa', 'card', 'dat', 'jonat', 'pussy', 'ðÿ˜ªðÿ¥µ', 'ukulel', 'geme', 'hospit…', 'stef', 'condições\\\\n\\\\naí', 'sofistic', 'camin', 'florest', 'ao-vivo\\\\ntoss', 'aprend', 'mamm', 'disponi\\xad', 'linch', 'niss', '\\\\u0001f97a\\\\u0001f97a\\\\u0001f97', 'ô', 'demor', 'transmis', 'indiret', 'passa\\\\nqu', '\\\\n\\\\ncovid', 'odeioo', 'venti…', 'hambúrgu', 'pqg', 'seriael', 'orga', 'raf…', 'desconf', 'esss', 'febreðÿ˜\\xad', 'piranh', 'virgini', 'tenil', 'fen', 'dentr', 'lazarent', 'aprisionad', 'â¦¿', 'escalados\\\\nv', '+deu', '€\\\\ni‰', 'gil\\\\nel', 'aftosa\\\\ndepoil', 'percentual', 'querosen', 'porq', 'globo\\\\n\\\\n', 'cst', 'nãosint', 'arðÿ˜©', 'chad', 'rinit', 'desesper', 'macarra', 'surpreend', 'mufas', 'cobr', 'ligaça', 'deli\\xadri', '388', 'bonit', 'valent', 'pabl', 'açafr', 'ponen', 'luan', 'covid\\\\nga', 'radi', 'slc', 'acomod', 'aquec', 'úmid', 'ver', 'sons', 'delici', 'hpv', 'alarm', 'camill', 'nunc', '389', 'pos', 'matéria-pr', 'coro', 'skkskskskskksskssk', 'quemðÿ˜\\xadðÿ˜\\xad', 'desinform', 'pais', 'lei', 'malza', 'dia\\\\n\\\\nfiq', 'passando\\\\n', 'puq', 'clan', 'cris', 'reflux', 'amanh', '38\\\\n\\\\nacord', 'suave\\\\nt', 'blu', 'reun', 'cint', 'agent', 'ombr', 'raff', 'cab', 'lest', 'iceberg\\\\nvers', 'an', 'aglomeraça', 'desregul', 'leonard', 'fob', 'qqr', 'albert', 'â€œquas', 'gol', 'dia…', 'schon', '3di', 'ðÿ¤¦\\\\u200dâ™€ï¸_x008f_ðÿ˜ª', 'direito\\\\npassei…', 'danf', 'tampon', 'tmlc', 'sall', 'hcq', 'giv', 'weretilneck', 'fácil', 'rio\\\\n\\\\nhoj', '100ten', 'saf', 'tdh', 'academ', 'teim', 'mae', '¥de', '644722177', 'espert', 'gov', 'teth', 'tremed', 'chicung', 'cedoðÿ¤¢\\\\u0001f972', 'reconocimient', 'validad', 'cataluny', 'enjoo\\\\nhoj', 'gloria', 'ediçiµ', 'googl', 'apaixon', 'pedepr', 'kikik', 'lek', 'urs', 'pc', 'inflamaça', 'oc', 'febreðÿ˜', 'zoe', '\\\\npfv', 'ancia', 'tudo…', 'imuniz', 'hor4', 'gen', 'molecolal', 'fandom', '89h', '75', 'mof', 'port', 'descobr', 'comunqu', 'invad', 'apost', 'stardew', 'saíd', 'prim', 'alhe', 'próx\\\\n\\\\nel', 'caught', 'bomdi', '222', 'bai', 'pensamd', 'feit', 'fianç', 'bizarr', 'recom', 'nad', 'persist', 'vá', 'inteiroo', 'ataq…', 'ðÿ˜ªðÿ', 'cutâne', 'spoil', 'doent', 'tos', '\\\\n\\\\nfu', 'qnd', '946', 'amanhã', 'pl', 'sinistraðÿ¤¦ðÿ_x008f_½\\\\u200dâ™€ï¸_x008f_', '385', '242', 'disf', 'refratari', 'despen', 'rodrígu', 'tigr', 'chateaça', 'marid', 'qq', 'acelerados\\\\nboc', 'fac', 'casa\\\\nch', 'catarrent', 'rui', 'certeza\\\\n\\\\ntu', '\\\\ns', 'martim', 'pedr', 'boz', 'constanteðÿ˜\\xadðÿ˜‡â_x009d_¤ï¸_x008f_', 'arranh', 'sar', 'i\\xadnd', 'estacion', 'turbul', 'exercíci', 'rotin', '12h', 'auau', 'enxaquecaâ€_x009d_\\\\n', 'homofob', 'intoxicación', 'shot', 'fio', 'coceg', 'entri²', 'atl', 'deob', 'quero…', 'campeonat', 'dej…', 'arm', 'mirell', '_x008d_ðÿ_x008f_½', 'uma', 'eficac', 'call', '0337', 'ajud', 'encaminh', 'msm', 'alhei', 'ônibu', 'tespit', 'integr', 'desma', 'hor', 'seren', 'apoi', 'cheirona', 'reclam', 'afim', 'desnecess', 'akdhwjdhjwjdj', 'tchau', 'nread', 'hein\\\\n\\\\n', 'gravid', '_', 'secressa', 'possibil', 'bot', 'diz\\\\n-', 'saind', 'dxou', 'mant', 'mist', 'elk', 'cacho', 'i€', 'chec', 'evit', 'emoç', 'mans', 'r…', 'ein', 'cassian', 'cabeçatosseespirr', 'ele\\\\nouv', 'tão', 'exib', 'hipoterm', 'vac…', 'ksksmksk', 'ensin', 'traumatiz', '\\\\n\\\\ngal', 'serotoninerg', 'cacau', 'pescoça', 'vi\\xadt', 'garraf', 'últ', 'sintoniz', 'mec…', '€\\\\nâ', 'on\\\\n\\\\ntryhard', 'engraç', 'â€', 'empreg', 'tosse\\\\n\\\\n', 'algum…', '\\\\ntoss', 'aument', 'carpet', '11âº', 'namor', 'avev', 'janet', 'daydre', 'automatic', 'einstein', 'ocup', 'agor', 'clubhous', 'quinz', 'possi\\xadv', 'sep', 'induz', 'alem', 'espirros\\\\nv', 'frustraça', 'monstruaça', 'suport', 'frent', '2112', 'abaix', 'ðÿ¥º', 'luli', 'auscult', 'honr', 'gelos', 'automa', 'ba', '\\\\nfebre\\\\n', 'ahahah', 'inch', 'repent', 'consideraça', 'cabeça+', 'chicung…', 'ðÿ§ª\\\\u0001fa78p', 'œ', 'metod', 'espirro…', '\\\\nassim', 'preg', 'impost', 'infernooo', 'sofr', '97', 'aii', 'preu', 'dormirðÿ˜', 'dent', 'idad', 'especi\\xadf', 'desencade', 'abeç', 'eeeee', 'li', 'imit', 'us', 'tre…', 'banan', 'pulso\\\\nnãããããooooo\\\\nj', 'asm', 'automaticamente…', 'bab', 'op', 'pes', 'surd', 'calm', 'diiiia\\\\nt', '\\\\u0001f92c', 'cantarol', 'febre\\\\n', 'ame', 'unidad', 'asist', 'bus', 'lut', 'ssintom', 'zusammenpressthink_alright', 'yi', 'doid', 'agoe', 'dwus', 'mane\\\\u0001f92f', 'insuportável\\\\nt', 'tornar-m', 'erc\\\\nðÿ—', 'muit', 'á…ÿá…ÿ\\\\nð_x009d__x0090_œ', 'kkkk', '4minut', 'saporr', 'tampouc', 'asfix', 'hit', 'vici', 'teletrasport', 'az', 'velh', 'essenc', 'vih', 'legend', 'carnavr', 'presenz', 'desconfort', 'priorit', 'codein', 'afu', 'aem\\\\n\\\\nparec', '0430', 'idiot', 'ï¸_x008f_', 'eficaz', 'pouco\\\\n\\\\nsó', 'permanec', 'rar', 'dand', '4h', '\\\\ndiz', 'pad', 'petitori', 'â€œâ€', 'vacin', 'mataâ€_x009d_', 'desprotecc', 'guil', 'churrsac', 'consider', 'ðÿ˜ÿ', 'moreh', 'ek', 'entr', 'mi\\xadn', 'fletch', 'pag', 'culpaaquel', 'ci\\xadcl', 'rebanh', 'mesmo\\\\nfiqu', 'nee', 'gener', 'relax', 'crimin', '3h', 'fod', 'minh', 'protej', 'tt', '\\\\n\\\\n', 'protocol', 'entrev', 'narut', 'putaaaaaaaaaaaaaaaaa', 'diagnostic', 'reviravolt', 'chef', 'fraqu', '\\\\naind', 'imens', 'aindaðÿ˜', 'lumen', 'cab…', 'feminin', 'bemcom', 'examin', 'sauda', 'usd', 'â€œpass', 'stefan', 'congesta', 'olfatopaladar', 'antend', 'danc', 'program', 'sobre…', 'maz', 'sentindo…', 'nmrl', 'ðÿœ§ï¸_x008f_', 'drive-thorau', 'muril', 'todod', 'espera…', '4', 'ðÿ˜©ðÿ¤', 'joã', '15º', 'indiqu', 'pend', 'pa', '\\\\nlav', 'julg', 'extrovert', 'combust', 'up', 'pasm', 'ðÿ™_x008f_ðÿ_x008f_½', 'mole\\\\nparec', 'ðÿ¤§ðÿ˜©', 'tosseaucel', 'cas', 'ðÿ˜·ðÿ™', 'tnc', 'organ', 'temperat', '\\\\nfebr', 'alcool', 'atendiment…', 'aromatiz', 'mimaff', 'avo', 'junt', 'bagunç', 'sera', 'pqfebr', 'pai', 'ðÿ˜´ðÿ˜·', 'rebot', 'passag', 'invisi\\xad', 'taâ€_x009d_', 'fari_x0081_', '730', 'â€œwild', 'bifob', 'porqu', 'ricord', 'pared', 'pii¹', 'intença', 'canalh', 'u', 'catarrokkkkkkkkk', 'circul', 'derrot', 'drop', 'doi', 'debat', 'bluesðÿ', 'kkkkkkkkkkkkkkkkk', 'secaðÿ˜ž', 'seringu', 'kkkkkkk', 'aft', 'shine', 'cuidadodenguefebr', 'atop', 'zinc', 'wär', 'surr', 'estádi', 'recorr', 'sen', 'linvid', 'mostrar…', 'minhas\\\\n', 'ì', 'mettev', 'jul', 'cobertaaaaa', 'arag', 'mundo\\\\n\\\\n', 'record', 'aaaaaaa', 'checklist', 'entrg', 'nega', 'públic', 'clín', 'torcicol', 'dest', '1lima', 'alteraçiµ', 'so', 'expector', 'ai\\xadr', 'isolamento\\\\npedroc', 'ascend', 'ctoss', 'gente\\\\nprova', 'assim\\\\n\\\\n', 'escrot', 'marmit', 'coris', 'envolv', 'lt3', '1pedac', 'posiçi', 'hi', 'traz', 'ter…', 'mij', 'afog', 'gargalh', 'solida', 'voglio\\\\n\\\\n', 'vlw', 'proced', 'autopromover\\\\nfal…', 'sampai', 'responsa', 'cambiaro…', 'element', 'fiqueim', 'aceit', 'perdo', 'isso\\\\ncomeç', 'bbb-21', 'altakkkkkkkkkkkkkk', 'covid\\\\n\\\\npan', 'panel', 'afet', 'cuant', '26â°', 'kskskskksksksk', 'munici\\xadpi', 'blivid', 'calorum', '48h', 'henriqu', 'grt', 'jejum\\\\nsu', 'sensi\\xad', 'sugest', 'muscul', 'nariz…', 'tratamento\\\\n\\\\nsó', 'func', 'pré-produç', 'verific', 'falars', 'quinta-f', 'convocan', '05', 'caus…', 'termômetr', 'tent', 'ch…', 'saudad', 'shaan', 'anj', 'desautor', 'manooo', 'vorhin', 'basic', '\\\\nodei', 'trm', 'banc', 'auxi\\xadli', 'išnic', 'plmd', 'resfriadoninguém', 'oxi', 'desafect', '\\\\n-', '040122', 'bich', 'pânic', 'mostr', 'heimmm', 'curri\\xadcul', 'perc', 'encaix', 'issoat', '\\\\u0001f97aðÿ™_x008f_', 'tamp', 'logi\\xads', 'hidrate-s', 'nfact', 'escur', 'toxxxxxx', '\\\\npi', 'pâ…', 'boy', '0540', '369', 'pigarr', 'intoxic', 'ê°', 'bayard', 'arðÿ˜–ðÿ¤', 'that', 'oqq', 'amarela\\\\nmalaria\\\\ntuberculose\\\\ndpoc\\\\n\\\\n', 'chupa…', 'vi_x008d_de', 'impaci', 'velóri', 'lattacc', 'essaðÿ¤¦\\\\u200dâ™‚ï¸_x008f_\\\\n', 'laberint', 'piqu', '\\\\n\\\\nô', 'kkkkä·kk', 'enxaquecaâ€_x009d_\\\\nâ€œs', 'mel', 'lejan', 'mtaaa', 'cut', 'johnny', 'pi\\xadlul', 'deix', 'david', 'rip', 'usa', 'doen', 'alh', 'cach', 'kayk', 'lunn', 'onigr', 'ocitocin', 'denov', 'vaz', 'document', 'desconfi', 'escrit', '\\\\n\\\\np', 'pod…', 'fa', 'coronavac', 'entao\\\\n\\\\nadv', 'rivotril', 'bah', 'tamb', 'princip', 'faculdad', 'merda\\\\n\\\\nd', 'sirà', 'piad', 'mei', 'marr', 'dos', 'vz', 'lal', 'desc', 'tentarfic', 'mord', 'reuma', 'quans', 'felic', 'tinh', 'dnv', 'fan', 'oi\\\\nprova', 'oua', 'noç', 'beat', 'controverso…', 'kingdom', 'dark', 'boca', 'duraçao\\\\n\\\\nhmm', 'perjuici', '18h', 'cabeçaach', 'hav', 'ber', 'revende…', 'prejud', 'faldt', 'rispett', 'floq', '\\\\nâ˜', '¥', 'lafâ', 'hora…', 'sim\\\\ntoss', 'orkut', 'leg', 'tog', 'piscin', 'referenc', 'ft', 'ubs', 'ult', 'louco-d', 'volunt', 'respond', 'rezend', 'serr', 'vinieron', 'ausencia\\\\njur', 'faringoamigdalit', 'muniçiµ', 'cirurg', 'amostr', 'ðÿ˜©', 'efeit', '\\\\n\\\\npesso', 'estrel', 'tod', 'zon', 'hiperventil', 'direça', 'quinta-feira\\\\n239', 'bof', 'ham', '\\\\n\\\\nc', '2006', 'bund', 'gal', 'pulmon', 'garganta\\\\ndiarreia\\\\nconjuntivite\\\\n', 'umz', 'puglies', '\\\\nth', 'inteira\\\\n', 'amenaz', 'descas', 'casa…', 'pelam', 'arrum', 'vezd', 'medonh', 'jeit', 'ped', 'bar', 'dói…', '--', 'pnc', 'qbo', 'parano', 'encon', 'bpo', 'venut', 'matéri…', 'tambem\\\\n\\\\nq', 'millon', 'parabém', 'rs', 'lagr', 'febreðÿ¥º', 'insult', 'b4by', 'lwjdw', 'ar', 'gel', 'ire', 'valley', 'asf', 'cring', 'atacada\\\\n\\\\ndelic', 'covi…', 'respirar\\\\n', 'boil', 'ospedal', '\\\\nðÿ', 'ar\\\\n\\\\n', 'crít', 'ali', 'tubercul', 'escuel', 'liber', 'bra', 'peg', 'ris', 'pílul', 'person', 'palom', 'matandoðÿ˜£', 'consideró', 'oreg', 'estral', 'primat', 'angry', 'cari_x008d_', 'fascist', '\\\\n\\\\ntom…', 'zoa', 'rais', 'wuhan', 'cama\\\\n\\\\n', 'liz', 'antiterm', 'kkkkkkkkkkkkkkkkkkkkz', '-e', 'seriedad', 'só…', 'vej', 'ter', 'ðÿ˜¥ðÿ˜', '\\\\ne', 'act', 'geladinhoðÿ¤¡ðÿ¤¡', '0447', 'invent', 'campanh', 'competiça', 'control', 'yo…', 'exerci\\xadc', 'administr', 'renit', 'remont', 'cansadi\\xadss', 'week', 'aeee', 'luíz', '\\\\nranç', '\\\\nluv', '\\\\ncoloc', 'pos-ciriºrg', 'cl', 'semana\\\\nsensaça', 'pert', 'claro\\\\npoil', 'aqui\\\\n\\\\nchin', 'indígen', 'zir', 'tradicion', 'ben', 'neuros', 'nausea+', 'quint', 'sjsj', 'garganta\\\\nfalt', 'qualq', 'aceton', 'cochoraan', 'descompens', 'choc', 'ooh', 'runn', 'rebol', 'merec', '\\\\n\\\\nna', 'top', 'canon', '\\\\nvontad', 'mialg', 'scus', 'incômod', 'ca…', 'comi\\\\n\\\\n', 'proverò', 'corpo\\\\nðÿ_x008d_¯', 'prev', 'rasp', 'astr', 'f…', 'cri', 'debol', 'noutr', 'febrer', 'devolv', 'sant', 'cordeldorm', 'amamh', 'lass', 'a…', '\\\\nvasc', 'siguen', 'nf', 'coil', 'médi', 'atrasada\\\\n', 'kkkkkkkkkkkkkkkkkkkkkkkkkkkkkkkkkkkkkkkkkkkkkkkkkkkkkkkkkmmmjjjkkkkkkkkkkkkkkkkkkk', '0200', 'fez', 'perig', 'â€œfaz', 'twm', 'crln', 'velho\\\\n\\\\nm2000', 'oper', 'empa', 'old'}\n"
          ]
        }
      ]
    },
    {
      "cell_type": "code",
      "metadata": {
        "colab": {
          "base_uri": "https://localhost:8080/",
          "height": 206
        },
        "id": "pPWl7ErVJHSE",
        "outputId": "dfde483e-0d74-44cf-c33c-445029e86310"
      },
      "source": [
        "df['clean_text'] = df['frases'].apply(lambda x: lemmatizer(x))\n",
        "df.head()"
      ],
      "execution_count": null,
      "outputs": [
        {
          "output_type": "execute_result",
          "data": {
            "text/plain": [
              "                                              frases     classe  \\\n",
              "0   \"filmado em manaus filme a febre estreia na n...  Não-covid   \n",
              "1               capaz ele e tao bonito pra ter febre  Não-covid   \n",
              "2   a karol conka esta me causando nausea enjoo c...  Não-covid   \n",
              "3   atençao nao sou afeito i  febre   mas abro ex...  Não-covid   \n",
              "4   pf param de postar video de beijo eu tenho an...  Não-covid   \n",
              "\n",
              "                                          clean_text  \n",
              "0      `` film em manau film a febr estre na netflix  \n",
              "1                 capaz ele e tao bonit pra ter febr  \n",
              "2  a karol conk est me caus nause enjo calafri er...  \n",
              "3  atença nao sou afeit i febr mas abr exceça par...  \n",
              "4  pf par de post vide de beij eu tenh ansiedad p...  "
            ],
            "text/html": [
              "\n",
              "  <div id=\"df-d7be7b29-d2a3-42b2-8841-e19c3cc596d5\">\n",
              "    <div class=\"colab-df-container\">\n",
              "      <div>\n",
              "<style scoped>\n",
              "    .dataframe tbody tr th:only-of-type {\n",
              "        vertical-align: middle;\n",
              "    }\n",
              "\n",
              "    .dataframe tbody tr th {\n",
              "        vertical-align: top;\n",
              "    }\n",
              "\n",
              "    .dataframe thead th {\n",
              "        text-align: right;\n",
              "    }\n",
              "</style>\n",
              "<table border=\"1\" class=\"dataframe\">\n",
              "  <thead>\n",
              "    <tr style=\"text-align: right;\">\n",
              "      <th></th>\n",
              "      <th>frases</th>\n",
              "      <th>classe</th>\n",
              "      <th>clean_text</th>\n",
              "    </tr>\n",
              "  </thead>\n",
              "  <tbody>\n",
              "    <tr>\n",
              "      <th>0</th>\n",
              "      <td>\"filmado em manaus filme a febre estreia na n...</td>\n",
              "      <td>Não-covid</td>\n",
              "      <td>`` film em manau film a febr estre na netflix</td>\n",
              "    </tr>\n",
              "    <tr>\n",
              "      <th>1</th>\n",
              "      <td>capaz ele e tao bonito pra ter febre</td>\n",
              "      <td>Não-covid</td>\n",
              "      <td>capaz ele e tao bonit pra ter febr</td>\n",
              "    </tr>\n",
              "    <tr>\n",
              "      <th>2</th>\n",
              "      <td>a karol conka esta me causando nausea enjoo c...</td>\n",
              "      <td>Não-covid</td>\n",
              "      <td>a karol conk est me caus nause enjo calafri er...</td>\n",
              "    </tr>\n",
              "    <tr>\n",
              "      <th>3</th>\n",
              "      <td>atençao nao sou afeito i  febre   mas abro ex...</td>\n",
              "      <td>Não-covid</td>\n",
              "      <td>atença nao sou afeit i febr mas abr exceça par...</td>\n",
              "    </tr>\n",
              "    <tr>\n",
              "      <th>4</th>\n",
              "      <td>pf param de postar video de beijo eu tenho an...</td>\n",
              "      <td>Não-covid</td>\n",
              "      <td>pf par de post vide de beij eu tenh ansiedad p...</td>\n",
              "    </tr>\n",
              "  </tbody>\n",
              "</table>\n",
              "</div>\n",
              "      <button class=\"colab-df-convert\" onclick=\"convertToInteractive('df-d7be7b29-d2a3-42b2-8841-e19c3cc596d5')\"\n",
              "              title=\"Convert this dataframe to an interactive table.\"\n",
              "              style=\"display:none;\">\n",
              "        \n",
              "  <svg xmlns=\"http://www.w3.org/2000/svg\" height=\"24px\"viewBox=\"0 0 24 24\"\n",
              "       width=\"24px\">\n",
              "    <path d=\"M0 0h24v24H0V0z\" fill=\"none\"/>\n",
              "    <path d=\"M18.56 5.44l.94 2.06.94-2.06 2.06-.94-2.06-.94-.94-2.06-.94 2.06-2.06.94zm-11 1L8.5 8.5l.94-2.06 2.06-.94-2.06-.94L8.5 2.5l-.94 2.06-2.06.94zm10 10l.94 2.06.94-2.06 2.06-.94-2.06-.94-.94-2.06-.94 2.06-2.06.94z\"/><path d=\"M17.41 7.96l-1.37-1.37c-.4-.4-.92-.59-1.43-.59-.52 0-1.04.2-1.43.59L10.3 9.45l-7.72 7.72c-.78.78-.78 2.05 0 2.83L4 21.41c.39.39.9.59 1.41.59.51 0 1.02-.2 1.41-.59l7.78-7.78 2.81-2.81c.8-.78.8-2.07 0-2.86zM5.41 20L4 18.59l7.72-7.72 1.47 1.35L5.41 20z\"/>\n",
              "  </svg>\n",
              "      </button>\n",
              "      \n",
              "  <style>\n",
              "    .colab-df-container {\n",
              "      display:flex;\n",
              "      flex-wrap:wrap;\n",
              "      gap: 12px;\n",
              "    }\n",
              "\n",
              "    .colab-df-convert {\n",
              "      background-color: #E8F0FE;\n",
              "      border: none;\n",
              "      border-radius: 50%;\n",
              "      cursor: pointer;\n",
              "      display: none;\n",
              "      fill: #1967D2;\n",
              "      height: 32px;\n",
              "      padding: 0 0 0 0;\n",
              "      width: 32px;\n",
              "    }\n",
              "\n",
              "    .colab-df-convert:hover {\n",
              "      background-color: #E2EBFA;\n",
              "      box-shadow: 0px 1px 2px rgba(60, 64, 67, 0.3), 0px 1px 3px 1px rgba(60, 64, 67, 0.15);\n",
              "      fill: #174EA6;\n",
              "    }\n",
              "\n",
              "    [theme=dark] .colab-df-convert {\n",
              "      background-color: #3B4455;\n",
              "      fill: #D2E3FC;\n",
              "    }\n",
              "\n",
              "    [theme=dark] .colab-df-convert:hover {\n",
              "      background-color: #434B5C;\n",
              "      box-shadow: 0px 1px 3px 1px rgba(0, 0, 0, 0.15);\n",
              "      filter: drop-shadow(0px 1px 2px rgba(0, 0, 0, 0.3));\n",
              "      fill: #FFFFFF;\n",
              "    }\n",
              "  </style>\n",
              "\n",
              "      <script>\n",
              "        const buttonEl =\n",
              "          document.querySelector('#df-d7be7b29-d2a3-42b2-8841-e19c3cc596d5 button.colab-df-convert');\n",
              "        buttonEl.style.display =\n",
              "          google.colab.kernel.accessAllowed ? 'block' : 'none';\n",
              "\n",
              "        async function convertToInteractive(key) {\n",
              "          const element = document.querySelector('#df-d7be7b29-d2a3-42b2-8841-e19c3cc596d5');\n",
              "          const dataTable =\n",
              "            await google.colab.kernel.invokeFunction('convertToInteractive',\n",
              "                                                     [key], {});\n",
              "          if (!dataTable) return;\n",
              "\n",
              "          const docLinkHtml = 'Like what you see? Visit the ' +\n",
              "            '<a target=\"_blank\" href=https://colab.research.google.com/notebooks/data_table.ipynb>data table notebook</a>'\n",
              "            + ' to learn more about interactive tables.';\n",
              "          element.innerHTML = '';\n",
              "          dataTable['output_type'] = 'display_data';\n",
              "          await google.colab.output.renderOutput(dataTable, element);\n",
              "          const docLink = document.createElement('div');\n",
              "          docLink.innerHTML = docLinkHtml;\n",
              "          element.appendChild(docLink);\n",
              "        }\n",
              "      </script>\n",
              "    </div>\n",
              "  </div>\n",
              "  "
            ]
          },
          "metadata": {},
          "execution_count": 22
        }
      ]
    },
    {
      "cell_type": "code",
      "metadata": {
        "id": "mt0eoHPAhYcy"
      },
      "source": [
        "df.classe.replace(\"Não-covid\", 1, inplace=True)\n",
        "df.classe.replace(\"Covid\", 0, inplace=True)"
      ],
      "execution_count": null,
      "outputs": []
    },
    {
      "cell_type": "code",
      "metadata": {
        "colab": {
          "base_uri": "https://localhost:8080/",
          "height": 206
        },
        "id": "pTPuw7Ogi2VL",
        "outputId": "ba7398eb-b5ec-49b6-f7c9-4580452ba5c8"
      },
      "source": [
        "df.head()"
      ],
      "execution_count": null,
      "outputs": [
        {
          "output_type": "execute_result",
          "data": {
            "text/plain": [
              "                                              frases  classe  \\\n",
              "0   \"filmado em manaus filme a febre estreia na n...       1   \n",
              "1               capaz ele e tao bonito pra ter febre       1   \n",
              "2   a karol conka esta me causando nausea enjoo c...       1   \n",
              "3   atençao nao sou afeito i  febre   mas abro ex...       1   \n",
              "4   pf param de postar video de beijo eu tenho an...       1   \n",
              "\n",
              "                                          clean_text  \n",
              "0      `` film em manau film a febr estre na netflix  \n",
              "1                 capaz ele e tao bonit pra ter febr  \n",
              "2  a karol conk est me caus nause enjo calafri er...  \n",
              "3  atença nao sou afeit i febr mas abr exceça par...  \n",
              "4  pf par de post vide de beij eu tenh ansiedad p...  "
            ],
            "text/html": [
              "\n",
              "  <div id=\"df-68ec38fc-5438-475b-8c43-1ded36fe835f\">\n",
              "    <div class=\"colab-df-container\">\n",
              "      <div>\n",
              "<style scoped>\n",
              "    .dataframe tbody tr th:only-of-type {\n",
              "        vertical-align: middle;\n",
              "    }\n",
              "\n",
              "    .dataframe tbody tr th {\n",
              "        vertical-align: top;\n",
              "    }\n",
              "\n",
              "    .dataframe thead th {\n",
              "        text-align: right;\n",
              "    }\n",
              "</style>\n",
              "<table border=\"1\" class=\"dataframe\">\n",
              "  <thead>\n",
              "    <tr style=\"text-align: right;\">\n",
              "      <th></th>\n",
              "      <th>frases</th>\n",
              "      <th>classe</th>\n",
              "      <th>clean_text</th>\n",
              "    </tr>\n",
              "  </thead>\n",
              "  <tbody>\n",
              "    <tr>\n",
              "      <th>0</th>\n",
              "      <td>\"filmado em manaus filme a febre estreia na n...</td>\n",
              "      <td>1</td>\n",
              "      <td>`` film em manau film a febr estre na netflix</td>\n",
              "    </tr>\n",
              "    <tr>\n",
              "      <th>1</th>\n",
              "      <td>capaz ele e tao bonito pra ter febre</td>\n",
              "      <td>1</td>\n",
              "      <td>capaz ele e tao bonit pra ter febr</td>\n",
              "    </tr>\n",
              "    <tr>\n",
              "      <th>2</th>\n",
              "      <td>a karol conka esta me causando nausea enjoo c...</td>\n",
              "      <td>1</td>\n",
              "      <td>a karol conk est me caus nause enjo calafri er...</td>\n",
              "    </tr>\n",
              "    <tr>\n",
              "      <th>3</th>\n",
              "      <td>atençao nao sou afeito i  febre   mas abro ex...</td>\n",
              "      <td>1</td>\n",
              "      <td>atença nao sou afeit i febr mas abr exceça par...</td>\n",
              "    </tr>\n",
              "    <tr>\n",
              "      <th>4</th>\n",
              "      <td>pf param de postar video de beijo eu tenho an...</td>\n",
              "      <td>1</td>\n",
              "      <td>pf par de post vide de beij eu tenh ansiedad p...</td>\n",
              "    </tr>\n",
              "  </tbody>\n",
              "</table>\n",
              "</div>\n",
              "      <button class=\"colab-df-convert\" onclick=\"convertToInteractive('df-68ec38fc-5438-475b-8c43-1ded36fe835f')\"\n",
              "              title=\"Convert this dataframe to an interactive table.\"\n",
              "              style=\"display:none;\">\n",
              "        \n",
              "  <svg xmlns=\"http://www.w3.org/2000/svg\" height=\"24px\"viewBox=\"0 0 24 24\"\n",
              "       width=\"24px\">\n",
              "    <path d=\"M0 0h24v24H0V0z\" fill=\"none\"/>\n",
              "    <path d=\"M18.56 5.44l.94 2.06.94-2.06 2.06-.94-2.06-.94-.94-2.06-.94 2.06-2.06.94zm-11 1L8.5 8.5l.94-2.06 2.06-.94-2.06-.94L8.5 2.5l-.94 2.06-2.06.94zm10 10l.94 2.06.94-2.06 2.06-.94-2.06-.94-.94-2.06-.94 2.06-2.06.94z\"/><path d=\"M17.41 7.96l-1.37-1.37c-.4-.4-.92-.59-1.43-.59-.52 0-1.04.2-1.43.59L10.3 9.45l-7.72 7.72c-.78.78-.78 2.05 0 2.83L4 21.41c.39.39.9.59 1.41.59.51 0 1.02-.2 1.41-.59l7.78-7.78 2.81-2.81c.8-.78.8-2.07 0-2.86zM5.41 20L4 18.59l7.72-7.72 1.47 1.35L5.41 20z\"/>\n",
              "  </svg>\n",
              "      </button>\n",
              "      \n",
              "  <style>\n",
              "    .colab-df-container {\n",
              "      display:flex;\n",
              "      flex-wrap:wrap;\n",
              "      gap: 12px;\n",
              "    }\n",
              "\n",
              "    .colab-df-convert {\n",
              "      background-color: #E8F0FE;\n",
              "      border: none;\n",
              "      border-radius: 50%;\n",
              "      cursor: pointer;\n",
              "      display: none;\n",
              "      fill: #1967D2;\n",
              "      height: 32px;\n",
              "      padding: 0 0 0 0;\n",
              "      width: 32px;\n",
              "    }\n",
              "\n",
              "    .colab-df-convert:hover {\n",
              "      background-color: #E2EBFA;\n",
              "      box-shadow: 0px 1px 2px rgba(60, 64, 67, 0.3), 0px 1px 3px 1px rgba(60, 64, 67, 0.15);\n",
              "      fill: #174EA6;\n",
              "    }\n",
              "\n",
              "    [theme=dark] .colab-df-convert {\n",
              "      background-color: #3B4455;\n",
              "      fill: #D2E3FC;\n",
              "    }\n",
              "\n",
              "    [theme=dark] .colab-df-convert:hover {\n",
              "      background-color: #434B5C;\n",
              "      box-shadow: 0px 1px 3px 1px rgba(0, 0, 0, 0.15);\n",
              "      filter: drop-shadow(0px 1px 2px rgba(0, 0, 0, 0.3));\n",
              "      fill: #FFFFFF;\n",
              "    }\n",
              "  </style>\n",
              "\n",
              "      <script>\n",
              "        const buttonEl =\n",
              "          document.querySelector('#df-68ec38fc-5438-475b-8c43-1ded36fe835f button.colab-df-convert');\n",
              "        buttonEl.style.display =\n",
              "          google.colab.kernel.accessAllowed ? 'block' : 'none';\n",
              "\n",
              "        async function convertToInteractive(key) {\n",
              "          const element = document.querySelector('#df-68ec38fc-5438-475b-8c43-1ded36fe835f');\n",
              "          const dataTable =\n",
              "            await google.colab.kernel.invokeFunction('convertToInteractive',\n",
              "                                                     [key], {});\n",
              "          if (!dataTable) return;\n",
              "\n",
              "          const docLinkHtml = 'Like what you see? Visit the ' +\n",
              "            '<a target=\"_blank\" href=https://colab.research.google.com/notebooks/data_table.ipynb>data table notebook</a>'\n",
              "            + ' to learn more about interactive tables.';\n",
              "          element.innerHTML = '';\n",
              "          dataTable['output_type'] = 'display_data';\n",
              "          await google.colab.output.renderOutput(dataTable, element);\n",
              "          const docLink = document.createElement('div');\n",
              "          docLink.innerHTML = docLinkHtml;\n",
              "          element.appendChild(docLink);\n",
              "        }\n",
              "      </script>\n",
              "    </div>\n",
              "  </div>\n",
              "  "
            ]
          },
          "metadata": {},
          "execution_count": 24
        }
      ]
    },
    {
      "cell_type": "code",
      "source": [
        "#for word embedding\n",
        "import gensim\n",
        "from gensim.models import Word2Vec"
      ],
      "metadata": {
        "id": "x6a2KtPb6lkl"
      },
      "execution_count": null,
      "outputs": []
    },
    {
      "cell_type": "code",
      "metadata": {
        "colab": {
          "base_uri": "https://localhost:8080/"
        },
        "id": "A8yso2yMQAz3",
        "outputId": "4a16e208-c687-45af-9d90-04d4578a8af0"
      },
      "source": [
        "# create Word2vec model\n",
        "#here words_f should be a list containing words from each document. say 1st row of the list is words from the 1st document/sentence\n",
        "#length of words_f is number of documents/sentences in your dataset\n",
        "df['clean_text_tok']=[nltk.word_tokenize(i) for i in df['clean_text']] #convert preprocessed sentence to tokenized sentence\n",
        "model = Word2Vec(df['clean_text_tok'],min_count=1)  #min_count=1 means word should be present at least across all documents,\n",
        "#if min_count=2 means if the word is present less than 2 times across all the documents then we shouldn't consider it\n",
        "\n",
        "\n",
        "w2v = dict(zip(model.wv.index2word, model.wv.syn0))  #combination of word and its vector\n",
        "\n",
        "#for converting sentence to vectors/numbers from word vectors result by Word2Vec\n",
        "class MeanEmbeddingVectorizer(object):\n",
        "    def __init__(self, word2vec):\n",
        "        self.word2vec = word2vec\n",
        "        # if a text is empty we should return a vector of zeros\n",
        "        # with the same dimensionality as all the other vectors\n",
        "        self.dim = len(next(iter(word2vec.values())))\n",
        "\n",
        "    def fit(self, X, y):\n",
        "        return self\n",
        "\n",
        "    def transform(self, X):\n",
        "        return np.array([\n",
        "            np.mean([self.word2vec[w] for w in words if w in self.word2vec]\n",
        "                    or [np.zeros(self.dim)], axis=0)\n",
        "            for words in X\n",
        "        ])"
      ],
      "execution_count": null,
      "outputs": [
        {
          "output_type": "stream",
          "name": "stderr",
          "text": [
            "/usr/local/lib/python3.7/dist-packages/ipykernel_launcher.py:9: DeprecationWarning: Call to deprecated `syn0` (Attribute will be removed in 4.0.0, use self.wv.vectors instead).\n",
            "  if __name__ == '__main__':\n"
          ]
        }
      ]
    },
    {
      "cell_type": "markdown",
      "source": [
        "## Dividindo a base de dados - em treino e teste"
      ],
      "metadata": {
        "id": "JjaqTgl6Wdwh"
      }
    },
    {
      "cell_type": "code",
      "source": [
        "#for model-building\n",
        "from sklearn.model_selection import train_test_split"
      ],
      "metadata": {
        "id": "abfrmC4v6tMu"
      },
      "execution_count": null,
      "outputs": []
    },
    {
      "cell_type": "code",
      "metadata": {
        "id": "tyvziiqiJfuj"
      },
      "source": [
        "#SPLITTING THE TRAINING DATASET INTO TRAINING AND VALIDATION\n",
        " \n",
        "# Input: \"reviewText\", \"rating\" and \"time\"\n",
        "# Target: \"log_votes\"\n",
        "X_train, X_val, y_train, y_val = train_test_split(df[\"clean_text\"],\n",
        "                                                  df[\"classe\"],\n",
        "                                                  test_size=0.2,\n",
        "                                                  random_state = 0\n",
        "                                                  )\n",
        "X_train_tok = [nltk.word_tokenize(i) for i in X_train]  #for word2vec\n",
        "X_val_tok = [nltk.word_tokenize(i) for i in X_val]      #for word2vec"
      ],
      "execution_count": null,
      "outputs": []
    },
    {
      "cell_type": "code",
      "source": [
        "# bag of words\n",
        "from sklearn.feature_extraction.text import TfidfVectorizer\n",
        "from sklearn.feature_extraction.text import CountVectorizer"
      ],
      "metadata": {
        "id": "KOGPOiNo6xG6"
      },
      "execution_count": null,
      "outputs": []
    },
    {
      "cell_type": "code",
      "metadata": {
        "id": "4bjtQ_-iPodz"
      },
      "source": [
        "#TF-IDF\n",
        "# Convert x_train to vector since model can only run on numbers and not words- Fit and transform\n",
        "tfidf_vectorizer = TfidfVectorizer(use_idf=True)\n",
        "X_train_vectors_tfidf = tfidf_vectorizer.fit_transform(X_train) #tfidf runs on non-tokenized sentences unlike word2vec\n",
        "# Only transform x_test (not fit and transform)\n",
        "X_val_vectors_tfidf = tfidf_vectorizer.transform(X_val) #Don't fit() your TfidfVectorizer to your test data: it will \n",
        "#change the word-indexes & weights to match test data. Rather, fit on the training data, then use the same train-data-\n",
        "#fit model on the test data, to reflect the fact you're analyzing the test data only based on what was learned without \n",
        "#it, and the have compatible\n",
        "\n",
        "\n",
        "#Word2vec\n",
        "# Fit and transform\n",
        "modelw = MeanEmbeddingVectorizer(w2v)\n",
        "X_train_vectors_w2v = modelw.transform(X_train_tok)\n",
        "X_val_vectors_w2v = modelw.transform(X_val_tok)"
      ],
      "execution_count": null,
      "outputs": []
    },
    {
      "cell_type": "code",
      "source": [
        "pd.DataFrame(X_train_vectors_w2v) "
      ],
      "metadata": {
        "colab": {
          "base_uri": "https://localhost:8080/",
          "height": 488
        },
        "id": "sNfnMFxJcLTB",
        "outputId": "d0d48d1b-8b6d-4886-f503-9020efbe43c0"
      },
      "execution_count": null,
      "outputs": [
        {
          "output_type": "execute_result",
          "data": {
            "text/plain": [
              "            0         1         2         3         4         5         6   \\\n",
              "0    -0.628191  0.578054  0.642617 -0.387069  0.022456 -0.325994 -0.196167   \n",
              "1    -0.552750  0.523961  0.625662 -0.387155  0.023398 -0.307160 -0.175851   \n",
              "2    -0.376313  0.366411  0.413866 -0.256259  0.011822 -0.191560 -0.113032   \n",
              "3    -0.517598  0.479820  0.573839 -0.370684  0.026361 -0.286080 -0.183070   \n",
              "4    -0.375255  0.347400  0.479134 -0.298409  0.008213 -0.217408 -0.127629   \n",
              "...        ...       ...       ...       ...       ...       ...       ...   \n",
              "6394 -0.586957  0.534091  0.761509 -0.454513  0.003931 -0.327663 -0.193680   \n",
              "6395 -0.539919  0.510018  0.641133 -0.412254  0.019073 -0.304774 -0.181995   \n",
              "6396 -0.533492  0.515116  0.515553 -0.320041  0.024914 -0.256183 -0.133052   \n",
              "6397 -0.468357  0.444317  0.566619 -0.350274  0.011666 -0.266108 -0.161111   \n",
              "6398 -0.523998  0.494990  0.593977 -0.358193  0.016193 -0.281470 -0.162664   \n",
              "\n",
              "            7         8         9   ...        90        91        92  \\\n",
              "0     0.347673 -0.225978  0.334636  ... -0.039575 -0.386250  0.388878   \n",
              "1     0.313554 -0.239252  0.308761  ... -0.040106 -0.364330  0.371276   \n",
              "2     0.205939 -0.151273  0.209701  ... -0.019262 -0.236060  0.263674   \n",
              "3     0.290834 -0.234428  0.301240  ... -0.014806 -0.352620  0.360973   \n",
              "4     0.233531 -0.203877  0.213495  ... -0.061917 -0.282965  0.249385   \n",
              "...        ...       ...       ...  ...       ...       ...       ...   \n",
              "6394  0.371890 -0.316661  0.338383  ... -0.097676 -0.440199  0.391156   \n",
              "6395  0.323268 -0.276577  0.312931  ... -0.053847 -0.390555  0.375315   \n",
              "6396  0.289620 -0.153846  0.260792  ... -0.029408 -0.284287  0.356857   \n",
              "6397  0.266949 -0.238858  0.280709  ... -0.038033 -0.335110  0.321031   \n",
              "6398  0.292965 -0.225440  0.295530  ... -0.034592 -0.340983  0.352327   \n",
              "\n",
              "            93        94        95        96        97        98        99  \n",
              "0     0.746983 -0.349834  0.899265 -0.204051 -0.534155  0.440309 -0.215672  \n",
              "1     0.713086 -0.324106  0.876030 -0.203225 -0.499529  0.421450 -0.178978  \n",
              "2     0.478579 -0.224510  0.559349 -0.144537 -0.333794  0.278505 -0.104948  \n",
              "3     0.652865 -0.307749  0.785511 -0.195622 -0.454912  0.395633 -0.177717  \n",
              "4     0.546391 -0.230863  0.709510 -0.142850 -0.353398  0.323353 -0.092390  \n",
              "...        ...       ...       ...       ...       ...       ...       ...  \n",
              "6394  0.841630 -0.357858  1.094242 -0.217611 -0.551218  0.526390 -0.127512  \n",
              "6395  0.737292 -0.321191  0.929826 -0.205992 -0.489732  0.440854 -0.143541  \n",
              "6396  0.638103 -0.289384  0.680471 -0.192368 -0.434433  0.365086 -0.147835  \n",
              "6397  0.631543 -0.283779  0.802074 -0.177220 -0.437264  0.378888 -0.144102  \n",
              "6398  0.669285 -0.307042  0.822543 -0.190205 -0.472046  0.399014 -0.165366  \n",
              "\n",
              "[6399 rows x 100 columns]"
            ],
            "text/html": [
              "\n",
              "  <div id=\"df-75022d0f-e082-487a-87c4-ed15fd5c1a71\">\n",
              "    <div class=\"colab-df-container\">\n",
              "      <div>\n",
              "<style scoped>\n",
              "    .dataframe tbody tr th:only-of-type {\n",
              "        vertical-align: middle;\n",
              "    }\n",
              "\n",
              "    .dataframe tbody tr th {\n",
              "        vertical-align: top;\n",
              "    }\n",
              "\n",
              "    .dataframe thead th {\n",
              "        text-align: right;\n",
              "    }\n",
              "</style>\n",
              "<table border=\"1\" class=\"dataframe\">\n",
              "  <thead>\n",
              "    <tr style=\"text-align: right;\">\n",
              "      <th></th>\n",
              "      <th>0</th>\n",
              "      <th>1</th>\n",
              "      <th>2</th>\n",
              "      <th>3</th>\n",
              "      <th>4</th>\n",
              "      <th>5</th>\n",
              "      <th>6</th>\n",
              "      <th>7</th>\n",
              "      <th>8</th>\n",
              "      <th>9</th>\n",
              "      <th>...</th>\n",
              "      <th>90</th>\n",
              "      <th>91</th>\n",
              "      <th>92</th>\n",
              "      <th>93</th>\n",
              "      <th>94</th>\n",
              "      <th>95</th>\n",
              "      <th>96</th>\n",
              "      <th>97</th>\n",
              "      <th>98</th>\n",
              "      <th>99</th>\n",
              "    </tr>\n",
              "  </thead>\n",
              "  <tbody>\n",
              "    <tr>\n",
              "      <th>0</th>\n",
              "      <td>-0.628191</td>\n",
              "      <td>0.578054</td>\n",
              "      <td>0.642617</td>\n",
              "      <td>-0.387069</td>\n",
              "      <td>0.022456</td>\n",
              "      <td>-0.325994</td>\n",
              "      <td>-0.196167</td>\n",
              "      <td>0.347673</td>\n",
              "      <td>-0.225978</td>\n",
              "      <td>0.334636</td>\n",
              "      <td>...</td>\n",
              "      <td>-0.039575</td>\n",
              "      <td>-0.386250</td>\n",
              "      <td>0.388878</td>\n",
              "      <td>0.746983</td>\n",
              "      <td>-0.349834</td>\n",
              "      <td>0.899265</td>\n",
              "      <td>-0.204051</td>\n",
              "      <td>-0.534155</td>\n",
              "      <td>0.440309</td>\n",
              "      <td>-0.215672</td>\n",
              "    </tr>\n",
              "    <tr>\n",
              "      <th>1</th>\n",
              "      <td>-0.552750</td>\n",
              "      <td>0.523961</td>\n",
              "      <td>0.625662</td>\n",
              "      <td>-0.387155</td>\n",
              "      <td>0.023398</td>\n",
              "      <td>-0.307160</td>\n",
              "      <td>-0.175851</td>\n",
              "      <td>0.313554</td>\n",
              "      <td>-0.239252</td>\n",
              "      <td>0.308761</td>\n",
              "      <td>...</td>\n",
              "      <td>-0.040106</td>\n",
              "      <td>-0.364330</td>\n",
              "      <td>0.371276</td>\n",
              "      <td>0.713086</td>\n",
              "      <td>-0.324106</td>\n",
              "      <td>0.876030</td>\n",
              "      <td>-0.203225</td>\n",
              "      <td>-0.499529</td>\n",
              "      <td>0.421450</td>\n",
              "      <td>-0.178978</td>\n",
              "    </tr>\n",
              "    <tr>\n",
              "      <th>2</th>\n",
              "      <td>-0.376313</td>\n",
              "      <td>0.366411</td>\n",
              "      <td>0.413866</td>\n",
              "      <td>-0.256259</td>\n",
              "      <td>0.011822</td>\n",
              "      <td>-0.191560</td>\n",
              "      <td>-0.113032</td>\n",
              "      <td>0.205939</td>\n",
              "      <td>-0.151273</td>\n",
              "      <td>0.209701</td>\n",
              "      <td>...</td>\n",
              "      <td>-0.019262</td>\n",
              "      <td>-0.236060</td>\n",
              "      <td>0.263674</td>\n",
              "      <td>0.478579</td>\n",
              "      <td>-0.224510</td>\n",
              "      <td>0.559349</td>\n",
              "      <td>-0.144537</td>\n",
              "      <td>-0.333794</td>\n",
              "      <td>0.278505</td>\n",
              "      <td>-0.104948</td>\n",
              "    </tr>\n",
              "    <tr>\n",
              "      <th>3</th>\n",
              "      <td>-0.517598</td>\n",
              "      <td>0.479820</td>\n",
              "      <td>0.573839</td>\n",
              "      <td>-0.370684</td>\n",
              "      <td>0.026361</td>\n",
              "      <td>-0.286080</td>\n",
              "      <td>-0.183070</td>\n",
              "      <td>0.290834</td>\n",
              "      <td>-0.234428</td>\n",
              "      <td>0.301240</td>\n",
              "      <td>...</td>\n",
              "      <td>-0.014806</td>\n",
              "      <td>-0.352620</td>\n",
              "      <td>0.360973</td>\n",
              "      <td>0.652865</td>\n",
              "      <td>-0.307749</td>\n",
              "      <td>0.785511</td>\n",
              "      <td>-0.195622</td>\n",
              "      <td>-0.454912</td>\n",
              "      <td>0.395633</td>\n",
              "      <td>-0.177717</td>\n",
              "    </tr>\n",
              "    <tr>\n",
              "      <th>4</th>\n",
              "      <td>-0.375255</td>\n",
              "      <td>0.347400</td>\n",
              "      <td>0.479134</td>\n",
              "      <td>-0.298409</td>\n",
              "      <td>0.008213</td>\n",
              "      <td>-0.217408</td>\n",
              "      <td>-0.127629</td>\n",
              "      <td>0.233531</td>\n",
              "      <td>-0.203877</td>\n",
              "      <td>0.213495</td>\n",
              "      <td>...</td>\n",
              "      <td>-0.061917</td>\n",
              "      <td>-0.282965</td>\n",
              "      <td>0.249385</td>\n",
              "      <td>0.546391</td>\n",
              "      <td>-0.230863</td>\n",
              "      <td>0.709510</td>\n",
              "      <td>-0.142850</td>\n",
              "      <td>-0.353398</td>\n",
              "      <td>0.323353</td>\n",
              "      <td>-0.092390</td>\n",
              "    </tr>\n",
              "    <tr>\n",
              "      <th>...</th>\n",
              "      <td>...</td>\n",
              "      <td>...</td>\n",
              "      <td>...</td>\n",
              "      <td>...</td>\n",
              "      <td>...</td>\n",
              "      <td>...</td>\n",
              "      <td>...</td>\n",
              "      <td>...</td>\n",
              "      <td>...</td>\n",
              "      <td>...</td>\n",
              "      <td>...</td>\n",
              "      <td>...</td>\n",
              "      <td>...</td>\n",
              "      <td>...</td>\n",
              "      <td>...</td>\n",
              "      <td>...</td>\n",
              "      <td>...</td>\n",
              "      <td>...</td>\n",
              "      <td>...</td>\n",
              "      <td>...</td>\n",
              "      <td>...</td>\n",
              "    </tr>\n",
              "    <tr>\n",
              "      <th>6394</th>\n",
              "      <td>-0.586957</td>\n",
              "      <td>0.534091</td>\n",
              "      <td>0.761509</td>\n",
              "      <td>-0.454513</td>\n",
              "      <td>0.003931</td>\n",
              "      <td>-0.327663</td>\n",
              "      <td>-0.193680</td>\n",
              "      <td>0.371890</td>\n",
              "      <td>-0.316661</td>\n",
              "      <td>0.338383</td>\n",
              "      <td>...</td>\n",
              "      <td>-0.097676</td>\n",
              "      <td>-0.440199</td>\n",
              "      <td>0.391156</td>\n",
              "      <td>0.841630</td>\n",
              "      <td>-0.357858</td>\n",
              "      <td>1.094242</td>\n",
              "      <td>-0.217611</td>\n",
              "      <td>-0.551218</td>\n",
              "      <td>0.526390</td>\n",
              "      <td>-0.127512</td>\n",
              "    </tr>\n",
              "    <tr>\n",
              "      <th>6395</th>\n",
              "      <td>-0.539919</td>\n",
              "      <td>0.510018</td>\n",
              "      <td>0.641133</td>\n",
              "      <td>-0.412254</td>\n",
              "      <td>0.019073</td>\n",
              "      <td>-0.304774</td>\n",
              "      <td>-0.181995</td>\n",
              "      <td>0.323268</td>\n",
              "      <td>-0.276577</td>\n",
              "      <td>0.312931</td>\n",
              "      <td>...</td>\n",
              "      <td>-0.053847</td>\n",
              "      <td>-0.390555</td>\n",
              "      <td>0.375315</td>\n",
              "      <td>0.737292</td>\n",
              "      <td>-0.321191</td>\n",
              "      <td>0.929826</td>\n",
              "      <td>-0.205992</td>\n",
              "      <td>-0.489732</td>\n",
              "      <td>0.440854</td>\n",
              "      <td>-0.143541</td>\n",
              "    </tr>\n",
              "    <tr>\n",
              "      <th>6396</th>\n",
              "      <td>-0.533492</td>\n",
              "      <td>0.515116</td>\n",
              "      <td>0.515553</td>\n",
              "      <td>-0.320041</td>\n",
              "      <td>0.024914</td>\n",
              "      <td>-0.256183</td>\n",
              "      <td>-0.133052</td>\n",
              "      <td>0.289620</td>\n",
              "      <td>-0.153846</td>\n",
              "      <td>0.260792</td>\n",
              "      <td>...</td>\n",
              "      <td>-0.029408</td>\n",
              "      <td>-0.284287</td>\n",
              "      <td>0.356857</td>\n",
              "      <td>0.638103</td>\n",
              "      <td>-0.289384</td>\n",
              "      <td>0.680471</td>\n",
              "      <td>-0.192368</td>\n",
              "      <td>-0.434433</td>\n",
              "      <td>0.365086</td>\n",
              "      <td>-0.147835</td>\n",
              "    </tr>\n",
              "    <tr>\n",
              "      <th>6397</th>\n",
              "      <td>-0.468357</td>\n",
              "      <td>0.444317</td>\n",
              "      <td>0.566619</td>\n",
              "      <td>-0.350274</td>\n",
              "      <td>0.011666</td>\n",
              "      <td>-0.266108</td>\n",
              "      <td>-0.161111</td>\n",
              "      <td>0.266949</td>\n",
              "      <td>-0.238858</td>\n",
              "      <td>0.280709</td>\n",
              "      <td>...</td>\n",
              "      <td>-0.038033</td>\n",
              "      <td>-0.335110</td>\n",
              "      <td>0.321031</td>\n",
              "      <td>0.631543</td>\n",
              "      <td>-0.283779</td>\n",
              "      <td>0.802074</td>\n",
              "      <td>-0.177220</td>\n",
              "      <td>-0.437264</td>\n",
              "      <td>0.378888</td>\n",
              "      <td>-0.144102</td>\n",
              "    </tr>\n",
              "    <tr>\n",
              "      <th>6398</th>\n",
              "      <td>-0.523998</td>\n",
              "      <td>0.494990</td>\n",
              "      <td>0.593977</td>\n",
              "      <td>-0.358193</td>\n",
              "      <td>0.016193</td>\n",
              "      <td>-0.281470</td>\n",
              "      <td>-0.162664</td>\n",
              "      <td>0.292965</td>\n",
              "      <td>-0.225440</td>\n",
              "      <td>0.295530</td>\n",
              "      <td>...</td>\n",
              "      <td>-0.034592</td>\n",
              "      <td>-0.340983</td>\n",
              "      <td>0.352327</td>\n",
              "      <td>0.669285</td>\n",
              "      <td>-0.307042</td>\n",
              "      <td>0.822543</td>\n",
              "      <td>-0.190205</td>\n",
              "      <td>-0.472046</td>\n",
              "      <td>0.399014</td>\n",
              "      <td>-0.165366</td>\n",
              "    </tr>\n",
              "  </tbody>\n",
              "</table>\n",
              "<p>6399 rows × 100 columns</p>\n",
              "</div>\n",
              "      <button class=\"colab-df-convert\" onclick=\"convertToInteractive('df-75022d0f-e082-487a-87c4-ed15fd5c1a71')\"\n",
              "              title=\"Convert this dataframe to an interactive table.\"\n",
              "              style=\"display:none;\">\n",
              "        \n",
              "  <svg xmlns=\"http://www.w3.org/2000/svg\" height=\"24px\"viewBox=\"0 0 24 24\"\n",
              "       width=\"24px\">\n",
              "    <path d=\"M0 0h24v24H0V0z\" fill=\"none\"/>\n",
              "    <path d=\"M18.56 5.44l.94 2.06.94-2.06 2.06-.94-2.06-.94-.94-2.06-.94 2.06-2.06.94zm-11 1L8.5 8.5l.94-2.06 2.06-.94-2.06-.94L8.5 2.5l-.94 2.06-2.06.94zm10 10l.94 2.06.94-2.06 2.06-.94-2.06-.94-.94-2.06-.94 2.06-2.06.94z\"/><path d=\"M17.41 7.96l-1.37-1.37c-.4-.4-.92-.59-1.43-.59-.52 0-1.04.2-1.43.59L10.3 9.45l-7.72 7.72c-.78.78-.78 2.05 0 2.83L4 21.41c.39.39.9.59 1.41.59.51 0 1.02-.2 1.41-.59l7.78-7.78 2.81-2.81c.8-.78.8-2.07 0-2.86zM5.41 20L4 18.59l7.72-7.72 1.47 1.35L5.41 20z\"/>\n",
              "  </svg>\n",
              "      </button>\n",
              "      \n",
              "  <style>\n",
              "    .colab-df-container {\n",
              "      display:flex;\n",
              "      flex-wrap:wrap;\n",
              "      gap: 12px;\n",
              "    }\n",
              "\n",
              "    .colab-df-convert {\n",
              "      background-color: #E8F0FE;\n",
              "      border: none;\n",
              "      border-radius: 50%;\n",
              "      cursor: pointer;\n",
              "      display: none;\n",
              "      fill: #1967D2;\n",
              "      height: 32px;\n",
              "      padding: 0 0 0 0;\n",
              "      width: 32px;\n",
              "    }\n",
              "\n",
              "    .colab-df-convert:hover {\n",
              "      background-color: #E2EBFA;\n",
              "      box-shadow: 0px 1px 2px rgba(60, 64, 67, 0.3), 0px 1px 3px 1px rgba(60, 64, 67, 0.15);\n",
              "      fill: #174EA6;\n",
              "    }\n",
              "\n",
              "    [theme=dark] .colab-df-convert {\n",
              "      background-color: #3B4455;\n",
              "      fill: #D2E3FC;\n",
              "    }\n",
              "\n",
              "    [theme=dark] .colab-df-convert:hover {\n",
              "      background-color: #434B5C;\n",
              "      box-shadow: 0px 1px 3px 1px rgba(0, 0, 0, 0.15);\n",
              "      filter: drop-shadow(0px 1px 2px rgba(0, 0, 0, 0.3));\n",
              "      fill: #FFFFFF;\n",
              "    }\n",
              "  </style>\n",
              "\n",
              "      <script>\n",
              "        const buttonEl =\n",
              "          document.querySelector('#df-75022d0f-e082-487a-87c4-ed15fd5c1a71 button.colab-df-convert');\n",
              "        buttonEl.style.display =\n",
              "          google.colab.kernel.accessAllowed ? 'block' : 'none';\n",
              "\n",
              "        async function convertToInteractive(key) {\n",
              "          const element = document.querySelector('#df-75022d0f-e082-487a-87c4-ed15fd5c1a71');\n",
              "          const dataTable =\n",
              "            await google.colab.kernel.invokeFunction('convertToInteractive',\n",
              "                                                     [key], {});\n",
              "          if (!dataTable) return;\n",
              "\n",
              "          const docLinkHtml = 'Like what you see? Visit the ' +\n",
              "            '<a target=\"_blank\" href=https://colab.research.google.com/notebooks/data_table.ipynb>data table notebook</a>'\n",
              "            + ' to learn more about interactive tables.';\n",
              "          element.innerHTML = '';\n",
              "          dataTable['output_type'] = 'display_data';\n",
              "          await google.colab.output.renderOutput(dataTable, element);\n",
              "          const docLink = document.createElement('div');\n",
              "          docLink.innerHTML = docLinkHtml;\n",
              "          element.appendChild(docLink);\n",
              "        }\n",
              "      </script>\n",
              "    </div>\n",
              "  </div>\n",
              "  "
            ]
          },
          "metadata": {},
          "execution_count": 31
        }
      ]
    },
    {
      "cell_type": "code",
      "source": [
        "pd.DataFrame(X_train_vectors_tfidf.toarray()) "
      ],
      "metadata": {
        "colab": {
          "base_uri": "https://localhost:8080/",
          "height": 424
        },
        "id": "K7KnV79ubiz7",
        "outputId": "68fafe52-8603-4cca-f5f2-bab718193ef2"
      },
      "execution_count": null,
      "outputs": [
        {
          "output_type": "execute_result",
          "data": {
            "text/plain": [
              "      0     1     2     3     4     5     6     7     8     9     ...  6581  \\\n",
              "0      0.0   0.0   0.0   0.0   0.0   0.0   0.0   0.0   0.0   0.0  ...   0.0   \n",
              "1      0.0   0.0   0.0   0.0   0.0   0.0   0.0   0.0   0.0   0.0  ...   0.0   \n",
              "2      0.0   0.0   0.0   0.0   0.0   0.0   0.0   0.0   0.0   0.0  ...   0.0   \n",
              "3      0.0   0.0   0.0   0.0   0.0   0.0   0.0   0.0   0.0   0.0  ...   0.0   \n",
              "4      0.0   0.0   0.0   0.0   0.0   0.0   0.0   0.0   0.0   0.0  ...   0.0   \n",
              "...    ...   ...   ...   ...   ...   ...   ...   ...   ...   ...  ...   ...   \n",
              "6394   0.0   0.0   0.0   0.0   0.0   0.0   0.0   0.0   0.0   0.0  ...   0.0   \n",
              "6395   0.0   0.0   0.0   0.0   0.0   0.0   0.0   0.0   0.0   0.0  ...   0.0   \n",
              "6396   0.0   0.0   0.0   0.0   0.0   0.0   0.0   0.0   0.0   0.0  ...   0.0   \n",
              "6397   0.0   0.0   0.0   0.0   0.0   0.0   0.0   0.0   0.0   0.0  ...   0.0   \n",
              "6398   0.0   0.0   0.0   0.0   0.0   0.0   0.0   0.0   0.0   0.0  ...   0.0   \n",
              "\n",
              "      6582  6583  6584  6585  6586  6587  6588  6589  6590  \n",
              "0      0.0   0.0   0.0   0.0   0.0   0.0   0.0   0.0   0.0  \n",
              "1      0.0   0.0   0.0   0.0   0.0   0.0   0.0   0.0   0.0  \n",
              "2      0.0   0.0   0.0   0.0   0.0   0.0   0.0   0.0   0.0  \n",
              "3      0.0   0.0   0.0   0.0   0.0   0.0   0.0   0.0   0.0  \n",
              "4      0.0   0.0   0.0   0.0   0.0   0.0   0.0   0.0   0.0  \n",
              "...    ...   ...   ...   ...   ...   ...   ...   ...   ...  \n",
              "6394   0.0   0.0   0.0   0.0   0.0   0.0   0.0   0.0   0.0  \n",
              "6395   0.0   0.0   0.0   0.0   0.0   0.0   0.0   0.0   0.0  \n",
              "6396   0.0   0.0   0.0   0.0   0.0   0.0   0.0   0.0   0.0  \n",
              "6397   0.0   0.0   0.0   0.0   0.0   0.0   0.0   0.0   0.0  \n",
              "6398   0.0   0.0   0.0   0.0   0.0   0.0   0.0   0.0   0.0  \n",
              "\n",
              "[6399 rows x 6591 columns]"
            ],
            "text/html": [
              "\n",
              "  <div id=\"df-08f2b60d-21ca-44c8-8876-c567315d1501\">\n",
              "    <div class=\"colab-df-container\">\n",
              "      <div>\n",
              "<style scoped>\n",
              "    .dataframe tbody tr th:only-of-type {\n",
              "        vertical-align: middle;\n",
              "    }\n",
              "\n",
              "    .dataframe tbody tr th {\n",
              "        vertical-align: top;\n",
              "    }\n",
              "\n",
              "    .dataframe thead th {\n",
              "        text-align: right;\n",
              "    }\n",
              "</style>\n",
              "<table border=\"1\" class=\"dataframe\">\n",
              "  <thead>\n",
              "    <tr style=\"text-align: right;\">\n",
              "      <th></th>\n",
              "      <th>0</th>\n",
              "      <th>1</th>\n",
              "      <th>2</th>\n",
              "      <th>3</th>\n",
              "      <th>4</th>\n",
              "      <th>5</th>\n",
              "      <th>6</th>\n",
              "      <th>7</th>\n",
              "      <th>8</th>\n",
              "      <th>9</th>\n",
              "      <th>...</th>\n",
              "      <th>6581</th>\n",
              "      <th>6582</th>\n",
              "      <th>6583</th>\n",
              "      <th>6584</th>\n",
              "      <th>6585</th>\n",
              "      <th>6586</th>\n",
              "      <th>6587</th>\n",
              "      <th>6588</th>\n",
              "      <th>6589</th>\n",
              "      <th>6590</th>\n",
              "    </tr>\n",
              "  </thead>\n",
              "  <tbody>\n",
              "    <tr>\n",
              "      <th>0</th>\n",
              "      <td>0.0</td>\n",
              "      <td>0.0</td>\n",
              "      <td>0.0</td>\n",
              "      <td>0.0</td>\n",
              "      <td>0.0</td>\n",
              "      <td>0.0</td>\n",
              "      <td>0.0</td>\n",
              "      <td>0.0</td>\n",
              "      <td>0.0</td>\n",
              "      <td>0.0</td>\n",
              "      <td>...</td>\n",
              "      <td>0.0</td>\n",
              "      <td>0.0</td>\n",
              "      <td>0.0</td>\n",
              "      <td>0.0</td>\n",
              "      <td>0.0</td>\n",
              "      <td>0.0</td>\n",
              "      <td>0.0</td>\n",
              "      <td>0.0</td>\n",
              "      <td>0.0</td>\n",
              "      <td>0.0</td>\n",
              "    </tr>\n",
              "    <tr>\n",
              "      <th>1</th>\n",
              "      <td>0.0</td>\n",
              "      <td>0.0</td>\n",
              "      <td>0.0</td>\n",
              "      <td>0.0</td>\n",
              "      <td>0.0</td>\n",
              "      <td>0.0</td>\n",
              "      <td>0.0</td>\n",
              "      <td>0.0</td>\n",
              "      <td>0.0</td>\n",
              "      <td>0.0</td>\n",
              "      <td>...</td>\n",
              "      <td>0.0</td>\n",
              "      <td>0.0</td>\n",
              "      <td>0.0</td>\n",
              "      <td>0.0</td>\n",
              "      <td>0.0</td>\n",
              "      <td>0.0</td>\n",
              "      <td>0.0</td>\n",
              "      <td>0.0</td>\n",
              "      <td>0.0</td>\n",
              "      <td>0.0</td>\n",
              "    </tr>\n",
              "    <tr>\n",
              "      <th>2</th>\n",
              "      <td>0.0</td>\n",
              "      <td>0.0</td>\n",
              "      <td>0.0</td>\n",
              "      <td>0.0</td>\n",
              "      <td>0.0</td>\n",
              "      <td>0.0</td>\n",
              "      <td>0.0</td>\n",
              "      <td>0.0</td>\n",
              "      <td>0.0</td>\n",
              "      <td>0.0</td>\n",
              "      <td>...</td>\n",
              "      <td>0.0</td>\n",
              "      <td>0.0</td>\n",
              "      <td>0.0</td>\n",
              "      <td>0.0</td>\n",
              "      <td>0.0</td>\n",
              "      <td>0.0</td>\n",
              "      <td>0.0</td>\n",
              "      <td>0.0</td>\n",
              "      <td>0.0</td>\n",
              "      <td>0.0</td>\n",
              "    </tr>\n",
              "    <tr>\n",
              "      <th>3</th>\n",
              "      <td>0.0</td>\n",
              "      <td>0.0</td>\n",
              "      <td>0.0</td>\n",
              "      <td>0.0</td>\n",
              "      <td>0.0</td>\n",
              "      <td>0.0</td>\n",
              "      <td>0.0</td>\n",
              "      <td>0.0</td>\n",
              "      <td>0.0</td>\n",
              "      <td>0.0</td>\n",
              "      <td>...</td>\n",
              "      <td>0.0</td>\n",
              "      <td>0.0</td>\n",
              "      <td>0.0</td>\n",
              "      <td>0.0</td>\n",
              "      <td>0.0</td>\n",
              "      <td>0.0</td>\n",
              "      <td>0.0</td>\n",
              "      <td>0.0</td>\n",
              "      <td>0.0</td>\n",
              "      <td>0.0</td>\n",
              "    </tr>\n",
              "    <tr>\n",
              "      <th>4</th>\n",
              "      <td>0.0</td>\n",
              "      <td>0.0</td>\n",
              "      <td>0.0</td>\n",
              "      <td>0.0</td>\n",
              "      <td>0.0</td>\n",
              "      <td>0.0</td>\n",
              "      <td>0.0</td>\n",
              "      <td>0.0</td>\n",
              "      <td>0.0</td>\n",
              "      <td>0.0</td>\n",
              "      <td>...</td>\n",
              "      <td>0.0</td>\n",
              "      <td>0.0</td>\n",
              "      <td>0.0</td>\n",
              "      <td>0.0</td>\n",
              "      <td>0.0</td>\n",
              "      <td>0.0</td>\n",
              "      <td>0.0</td>\n",
              "      <td>0.0</td>\n",
              "      <td>0.0</td>\n",
              "      <td>0.0</td>\n",
              "    </tr>\n",
              "    <tr>\n",
              "      <th>...</th>\n",
              "      <td>...</td>\n",
              "      <td>...</td>\n",
              "      <td>...</td>\n",
              "      <td>...</td>\n",
              "      <td>...</td>\n",
              "      <td>...</td>\n",
              "      <td>...</td>\n",
              "      <td>...</td>\n",
              "      <td>...</td>\n",
              "      <td>...</td>\n",
              "      <td>...</td>\n",
              "      <td>...</td>\n",
              "      <td>...</td>\n",
              "      <td>...</td>\n",
              "      <td>...</td>\n",
              "      <td>...</td>\n",
              "      <td>...</td>\n",
              "      <td>...</td>\n",
              "      <td>...</td>\n",
              "      <td>...</td>\n",
              "      <td>...</td>\n",
              "    </tr>\n",
              "    <tr>\n",
              "      <th>6394</th>\n",
              "      <td>0.0</td>\n",
              "      <td>0.0</td>\n",
              "      <td>0.0</td>\n",
              "      <td>0.0</td>\n",
              "      <td>0.0</td>\n",
              "      <td>0.0</td>\n",
              "      <td>0.0</td>\n",
              "      <td>0.0</td>\n",
              "      <td>0.0</td>\n",
              "      <td>0.0</td>\n",
              "      <td>...</td>\n",
              "      <td>0.0</td>\n",
              "      <td>0.0</td>\n",
              "      <td>0.0</td>\n",
              "      <td>0.0</td>\n",
              "      <td>0.0</td>\n",
              "      <td>0.0</td>\n",
              "      <td>0.0</td>\n",
              "      <td>0.0</td>\n",
              "      <td>0.0</td>\n",
              "      <td>0.0</td>\n",
              "    </tr>\n",
              "    <tr>\n",
              "      <th>6395</th>\n",
              "      <td>0.0</td>\n",
              "      <td>0.0</td>\n",
              "      <td>0.0</td>\n",
              "      <td>0.0</td>\n",
              "      <td>0.0</td>\n",
              "      <td>0.0</td>\n",
              "      <td>0.0</td>\n",
              "      <td>0.0</td>\n",
              "      <td>0.0</td>\n",
              "      <td>0.0</td>\n",
              "      <td>...</td>\n",
              "      <td>0.0</td>\n",
              "      <td>0.0</td>\n",
              "      <td>0.0</td>\n",
              "      <td>0.0</td>\n",
              "      <td>0.0</td>\n",
              "      <td>0.0</td>\n",
              "      <td>0.0</td>\n",
              "      <td>0.0</td>\n",
              "      <td>0.0</td>\n",
              "      <td>0.0</td>\n",
              "    </tr>\n",
              "    <tr>\n",
              "      <th>6396</th>\n",
              "      <td>0.0</td>\n",
              "      <td>0.0</td>\n",
              "      <td>0.0</td>\n",
              "      <td>0.0</td>\n",
              "      <td>0.0</td>\n",
              "      <td>0.0</td>\n",
              "      <td>0.0</td>\n",
              "      <td>0.0</td>\n",
              "      <td>0.0</td>\n",
              "      <td>0.0</td>\n",
              "      <td>...</td>\n",
              "      <td>0.0</td>\n",
              "      <td>0.0</td>\n",
              "      <td>0.0</td>\n",
              "      <td>0.0</td>\n",
              "      <td>0.0</td>\n",
              "      <td>0.0</td>\n",
              "      <td>0.0</td>\n",
              "      <td>0.0</td>\n",
              "      <td>0.0</td>\n",
              "      <td>0.0</td>\n",
              "    </tr>\n",
              "    <tr>\n",
              "      <th>6397</th>\n",
              "      <td>0.0</td>\n",
              "      <td>0.0</td>\n",
              "      <td>0.0</td>\n",
              "      <td>0.0</td>\n",
              "      <td>0.0</td>\n",
              "      <td>0.0</td>\n",
              "      <td>0.0</td>\n",
              "      <td>0.0</td>\n",
              "      <td>0.0</td>\n",
              "      <td>0.0</td>\n",
              "      <td>...</td>\n",
              "      <td>0.0</td>\n",
              "      <td>0.0</td>\n",
              "      <td>0.0</td>\n",
              "      <td>0.0</td>\n",
              "      <td>0.0</td>\n",
              "      <td>0.0</td>\n",
              "      <td>0.0</td>\n",
              "      <td>0.0</td>\n",
              "      <td>0.0</td>\n",
              "      <td>0.0</td>\n",
              "    </tr>\n",
              "    <tr>\n",
              "      <th>6398</th>\n",
              "      <td>0.0</td>\n",
              "      <td>0.0</td>\n",
              "      <td>0.0</td>\n",
              "      <td>0.0</td>\n",
              "      <td>0.0</td>\n",
              "      <td>0.0</td>\n",
              "      <td>0.0</td>\n",
              "      <td>0.0</td>\n",
              "      <td>0.0</td>\n",
              "      <td>0.0</td>\n",
              "      <td>...</td>\n",
              "      <td>0.0</td>\n",
              "      <td>0.0</td>\n",
              "      <td>0.0</td>\n",
              "      <td>0.0</td>\n",
              "      <td>0.0</td>\n",
              "      <td>0.0</td>\n",
              "      <td>0.0</td>\n",
              "      <td>0.0</td>\n",
              "      <td>0.0</td>\n",
              "      <td>0.0</td>\n",
              "    </tr>\n",
              "  </tbody>\n",
              "</table>\n",
              "<p>6399 rows × 6591 columns</p>\n",
              "</div>\n",
              "      <button class=\"colab-df-convert\" onclick=\"convertToInteractive('df-08f2b60d-21ca-44c8-8876-c567315d1501')\"\n",
              "              title=\"Convert this dataframe to an interactive table.\"\n",
              "              style=\"display:none;\">\n",
              "        \n",
              "  <svg xmlns=\"http://www.w3.org/2000/svg\" height=\"24px\"viewBox=\"0 0 24 24\"\n",
              "       width=\"24px\">\n",
              "    <path d=\"M0 0h24v24H0V0z\" fill=\"none\"/>\n",
              "    <path d=\"M18.56 5.44l.94 2.06.94-2.06 2.06-.94-2.06-.94-.94-2.06-.94 2.06-2.06.94zm-11 1L8.5 8.5l.94-2.06 2.06-.94-2.06-.94L8.5 2.5l-.94 2.06-2.06.94zm10 10l.94 2.06.94-2.06 2.06-.94-2.06-.94-.94-2.06-.94 2.06-2.06.94z\"/><path d=\"M17.41 7.96l-1.37-1.37c-.4-.4-.92-.59-1.43-.59-.52 0-1.04.2-1.43.59L10.3 9.45l-7.72 7.72c-.78.78-.78 2.05 0 2.83L4 21.41c.39.39.9.59 1.41.59.51 0 1.02-.2 1.41-.59l7.78-7.78 2.81-2.81c.8-.78.8-2.07 0-2.86zM5.41 20L4 18.59l7.72-7.72 1.47 1.35L5.41 20z\"/>\n",
              "  </svg>\n",
              "      </button>\n",
              "      \n",
              "  <style>\n",
              "    .colab-df-container {\n",
              "      display:flex;\n",
              "      flex-wrap:wrap;\n",
              "      gap: 12px;\n",
              "    }\n",
              "\n",
              "    .colab-df-convert {\n",
              "      background-color: #E8F0FE;\n",
              "      border: none;\n",
              "      border-radius: 50%;\n",
              "      cursor: pointer;\n",
              "      display: none;\n",
              "      fill: #1967D2;\n",
              "      height: 32px;\n",
              "      padding: 0 0 0 0;\n",
              "      width: 32px;\n",
              "    }\n",
              "\n",
              "    .colab-df-convert:hover {\n",
              "      background-color: #E2EBFA;\n",
              "      box-shadow: 0px 1px 2px rgba(60, 64, 67, 0.3), 0px 1px 3px 1px rgba(60, 64, 67, 0.15);\n",
              "      fill: #174EA6;\n",
              "    }\n",
              "\n",
              "    [theme=dark] .colab-df-convert {\n",
              "      background-color: #3B4455;\n",
              "      fill: #D2E3FC;\n",
              "    }\n",
              "\n",
              "    [theme=dark] .colab-df-convert:hover {\n",
              "      background-color: #434B5C;\n",
              "      box-shadow: 0px 1px 3px 1px rgba(0, 0, 0, 0.15);\n",
              "      filter: drop-shadow(0px 1px 2px rgba(0, 0, 0, 0.3));\n",
              "      fill: #FFFFFF;\n",
              "    }\n",
              "  </style>\n",
              "\n",
              "      <script>\n",
              "        const buttonEl =\n",
              "          document.querySelector('#df-08f2b60d-21ca-44c8-8876-c567315d1501 button.colab-df-convert');\n",
              "        buttonEl.style.display =\n",
              "          google.colab.kernel.accessAllowed ? 'block' : 'none';\n",
              "\n",
              "        async function convertToInteractive(key) {\n",
              "          const element = document.querySelector('#df-08f2b60d-21ca-44c8-8876-c567315d1501');\n",
              "          const dataTable =\n",
              "            await google.colab.kernel.invokeFunction('convertToInteractive',\n",
              "                                                     [key], {});\n",
              "          if (!dataTable) return;\n",
              "\n",
              "          const docLinkHtml = 'Like what you see? Visit the ' +\n",
              "            '<a target=\"_blank\" href=https://colab.research.google.com/notebooks/data_table.ipynb>data table notebook</a>'\n",
              "            + ' to learn more about interactive tables.';\n",
              "          element.innerHTML = '';\n",
              "          dataTable['output_type'] = 'display_data';\n",
              "          await google.colab.output.renderOutput(dataTable, element);\n",
              "          const docLink = document.createElement('div');\n",
              "          docLink.innerHTML = docLinkHtml;\n",
              "          element.appendChild(docLink);\n",
              "        }\n",
              "      </script>\n",
              "    </div>\n",
              "  </div>\n",
              "  "
            ]
          },
          "metadata": {},
          "execution_count": 32
        }
      ]
    },
    {
      "cell_type": "code",
      "source": [
        "pd.DataFrame(X_train_vectors_tfidf.toarray(), columns=tfidf_vectorizer.get_feature_names()) "
      ],
      "metadata": {
        "colab": {
          "base_uri": "https://localhost:8080/",
          "height": 478
        },
        "id": "l4gDcerXbsNl",
        "outputId": "df4dc2ed-51ce-45bf-ec61-393d55d0c95e"
      },
      "execution_count": null,
      "outputs": [
        {
          "output_type": "stream",
          "name": "stderr",
          "text": [
            "/usr/local/lib/python3.7/dist-packages/sklearn/utils/deprecation.py:87: FutureWarning: Function get_feature_names is deprecated; get_feature_names is deprecated in 1.0 and will be removed in 1.2. Please use get_feature_names_out instead.\n",
            "  warnings.warn(msg, category=FutureWarning)\n"
          ]
        },
        {
          "output_type": "execute_result",
          "data": {
            "text/plain": [
              "       01   02  0200  0203  0337  0338  0342  039  040122  0420  ...  \\\n",
              "0     0.0  0.0   0.0   0.0   0.0   0.0   0.0  0.0     0.0   0.0  ...   \n",
              "1     0.0  0.0   0.0   0.0   0.0   0.0   0.0  0.0     0.0   0.0  ...   \n",
              "2     0.0  0.0   0.0   0.0   0.0   0.0   0.0  0.0     0.0   0.0  ...   \n",
              "3     0.0  0.0   0.0   0.0   0.0   0.0   0.0  0.0     0.0   0.0  ...   \n",
              "4     0.0  0.0   0.0   0.0   0.0   0.0   0.0  0.0     0.0   0.0  ...   \n",
              "...   ...  ...   ...   ...   ...   ...   ...  ...     ...   ...  ...   \n",
              "6394  0.0  0.0   0.0   0.0   0.0   0.0   0.0  0.0     0.0   0.0  ...   \n",
              "6395  0.0  0.0   0.0   0.0   0.0   0.0   0.0  0.0     0.0   0.0  ...   \n",
              "6396  0.0  0.0   0.0   0.0   0.0   0.0   0.0  0.0     0.0   0.0  ...   \n",
              "6397  0.0  0.0   0.0   0.0   0.0   0.0   0.0  0.0     0.0   0.0  ...   \n",
              "6398  0.0  0.0   0.0   0.0   0.0   0.0   0.0  0.0     0.0   0.0  ...   \n",
              "\n",
              "      œðÿ_x008f_  œðÿ_x008f_¼  šrsrsr  žnor  žâœœï  žðÿ  žðÿ_x008f_¼  \\\n",
              "0            0.0          0.0     0.0   0.0    0.0  0.0          0.0   \n",
              "1            0.0          0.0     0.0   0.0    0.0  0.0          0.0   \n",
              "2            0.0          0.0     0.0   0.0    0.0  0.0          0.0   \n",
              "3            0.0          0.0     0.0   0.0    0.0  0.0          0.0   \n",
              "4            0.0          0.0     0.0   0.0    0.0  0.0          0.0   \n",
              "...          ...          ...     ...   ...    ...  ...          ...   \n",
              "6394         0.0          0.0     0.0   0.0    0.0  0.0          0.0   \n",
              "6395         0.0          0.0     0.0   0.0    0.0  0.0          0.0   \n",
              "6396         0.0          0.0     0.0   0.0    0.0  0.0          0.0   \n",
              "6397         0.0          0.0     0.0   0.0    0.0  0.0          0.0   \n",
              "6398         0.0          0.0     0.0   0.0    0.0  0.0          0.0   \n",
              "\n",
              "      žðÿ_x008f_¾ðÿ  ˆðÿ  ˆðÿ_x008f_½  \n",
              "0               0.0  0.0          0.0  \n",
              "1               0.0  0.0          0.0  \n",
              "2               0.0  0.0          0.0  \n",
              "3               0.0  0.0          0.0  \n",
              "4               0.0  0.0          0.0  \n",
              "...             ...  ...          ...  \n",
              "6394            0.0  0.0          0.0  \n",
              "6395            0.0  0.0          0.0  \n",
              "6396            0.0  0.0          0.0  \n",
              "6397            0.0  0.0          0.0  \n",
              "6398            0.0  0.0          0.0  \n",
              "\n",
              "[6399 rows x 6591 columns]"
            ],
            "text/html": [
              "\n",
              "  <div id=\"df-2de51705-d296-4eb7-a282-fbe11252030b\">\n",
              "    <div class=\"colab-df-container\">\n",
              "      <div>\n",
              "<style scoped>\n",
              "    .dataframe tbody tr th:only-of-type {\n",
              "        vertical-align: middle;\n",
              "    }\n",
              "\n",
              "    .dataframe tbody tr th {\n",
              "        vertical-align: top;\n",
              "    }\n",
              "\n",
              "    .dataframe thead th {\n",
              "        text-align: right;\n",
              "    }\n",
              "</style>\n",
              "<table border=\"1\" class=\"dataframe\">\n",
              "  <thead>\n",
              "    <tr style=\"text-align: right;\">\n",
              "      <th></th>\n",
              "      <th>01</th>\n",
              "      <th>02</th>\n",
              "      <th>0200</th>\n",
              "      <th>0203</th>\n",
              "      <th>0337</th>\n",
              "      <th>0338</th>\n",
              "      <th>0342</th>\n",
              "      <th>039</th>\n",
              "      <th>040122</th>\n",
              "      <th>0420</th>\n",
              "      <th>...</th>\n",
              "      <th>œðÿ_x008f_</th>\n",
              "      <th>œðÿ_x008f_¼</th>\n",
              "      <th>šrsrsr</th>\n",
              "      <th>žnor</th>\n",
              "      <th>žâœœï</th>\n",
              "      <th>žðÿ</th>\n",
              "      <th>žðÿ_x008f_¼</th>\n",
              "      <th>žðÿ_x008f_¾ðÿ</th>\n",
              "      <th>ˆðÿ</th>\n",
              "      <th>ˆðÿ_x008f_½</th>\n",
              "    </tr>\n",
              "  </thead>\n",
              "  <tbody>\n",
              "    <tr>\n",
              "      <th>0</th>\n",
              "      <td>0.0</td>\n",
              "      <td>0.0</td>\n",
              "      <td>0.0</td>\n",
              "      <td>0.0</td>\n",
              "      <td>0.0</td>\n",
              "      <td>0.0</td>\n",
              "      <td>0.0</td>\n",
              "      <td>0.0</td>\n",
              "      <td>0.0</td>\n",
              "      <td>0.0</td>\n",
              "      <td>...</td>\n",
              "      <td>0.0</td>\n",
              "      <td>0.0</td>\n",
              "      <td>0.0</td>\n",
              "      <td>0.0</td>\n",
              "      <td>0.0</td>\n",
              "      <td>0.0</td>\n",
              "      <td>0.0</td>\n",
              "      <td>0.0</td>\n",
              "      <td>0.0</td>\n",
              "      <td>0.0</td>\n",
              "    </tr>\n",
              "    <tr>\n",
              "      <th>1</th>\n",
              "      <td>0.0</td>\n",
              "      <td>0.0</td>\n",
              "      <td>0.0</td>\n",
              "      <td>0.0</td>\n",
              "      <td>0.0</td>\n",
              "      <td>0.0</td>\n",
              "      <td>0.0</td>\n",
              "      <td>0.0</td>\n",
              "      <td>0.0</td>\n",
              "      <td>0.0</td>\n",
              "      <td>...</td>\n",
              "      <td>0.0</td>\n",
              "      <td>0.0</td>\n",
              "      <td>0.0</td>\n",
              "      <td>0.0</td>\n",
              "      <td>0.0</td>\n",
              "      <td>0.0</td>\n",
              "      <td>0.0</td>\n",
              "      <td>0.0</td>\n",
              "      <td>0.0</td>\n",
              "      <td>0.0</td>\n",
              "    </tr>\n",
              "    <tr>\n",
              "      <th>2</th>\n",
              "      <td>0.0</td>\n",
              "      <td>0.0</td>\n",
              "      <td>0.0</td>\n",
              "      <td>0.0</td>\n",
              "      <td>0.0</td>\n",
              "      <td>0.0</td>\n",
              "      <td>0.0</td>\n",
              "      <td>0.0</td>\n",
              "      <td>0.0</td>\n",
              "      <td>0.0</td>\n",
              "      <td>...</td>\n",
              "      <td>0.0</td>\n",
              "      <td>0.0</td>\n",
              "      <td>0.0</td>\n",
              "      <td>0.0</td>\n",
              "      <td>0.0</td>\n",
              "      <td>0.0</td>\n",
              "      <td>0.0</td>\n",
              "      <td>0.0</td>\n",
              "      <td>0.0</td>\n",
              "      <td>0.0</td>\n",
              "    </tr>\n",
              "    <tr>\n",
              "      <th>3</th>\n",
              "      <td>0.0</td>\n",
              "      <td>0.0</td>\n",
              "      <td>0.0</td>\n",
              "      <td>0.0</td>\n",
              "      <td>0.0</td>\n",
              "      <td>0.0</td>\n",
              "      <td>0.0</td>\n",
              "      <td>0.0</td>\n",
              "      <td>0.0</td>\n",
              "      <td>0.0</td>\n",
              "      <td>...</td>\n",
              "      <td>0.0</td>\n",
              "      <td>0.0</td>\n",
              "      <td>0.0</td>\n",
              "      <td>0.0</td>\n",
              "      <td>0.0</td>\n",
              "      <td>0.0</td>\n",
              "      <td>0.0</td>\n",
              "      <td>0.0</td>\n",
              "      <td>0.0</td>\n",
              "      <td>0.0</td>\n",
              "    </tr>\n",
              "    <tr>\n",
              "      <th>4</th>\n",
              "      <td>0.0</td>\n",
              "      <td>0.0</td>\n",
              "      <td>0.0</td>\n",
              "      <td>0.0</td>\n",
              "      <td>0.0</td>\n",
              "      <td>0.0</td>\n",
              "      <td>0.0</td>\n",
              "      <td>0.0</td>\n",
              "      <td>0.0</td>\n",
              "      <td>0.0</td>\n",
              "      <td>...</td>\n",
              "      <td>0.0</td>\n",
              "      <td>0.0</td>\n",
              "      <td>0.0</td>\n",
              "      <td>0.0</td>\n",
              "      <td>0.0</td>\n",
              "      <td>0.0</td>\n",
              "      <td>0.0</td>\n",
              "      <td>0.0</td>\n",
              "      <td>0.0</td>\n",
              "      <td>0.0</td>\n",
              "    </tr>\n",
              "    <tr>\n",
              "      <th>...</th>\n",
              "      <td>...</td>\n",
              "      <td>...</td>\n",
              "      <td>...</td>\n",
              "      <td>...</td>\n",
              "      <td>...</td>\n",
              "      <td>...</td>\n",
              "      <td>...</td>\n",
              "      <td>...</td>\n",
              "      <td>...</td>\n",
              "      <td>...</td>\n",
              "      <td>...</td>\n",
              "      <td>...</td>\n",
              "      <td>...</td>\n",
              "      <td>...</td>\n",
              "      <td>...</td>\n",
              "      <td>...</td>\n",
              "      <td>...</td>\n",
              "      <td>...</td>\n",
              "      <td>...</td>\n",
              "      <td>...</td>\n",
              "      <td>...</td>\n",
              "    </tr>\n",
              "    <tr>\n",
              "      <th>6394</th>\n",
              "      <td>0.0</td>\n",
              "      <td>0.0</td>\n",
              "      <td>0.0</td>\n",
              "      <td>0.0</td>\n",
              "      <td>0.0</td>\n",
              "      <td>0.0</td>\n",
              "      <td>0.0</td>\n",
              "      <td>0.0</td>\n",
              "      <td>0.0</td>\n",
              "      <td>0.0</td>\n",
              "      <td>...</td>\n",
              "      <td>0.0</td>\n",
              "      <td>0.0</td>\n",
              "      <td>0.0</td>\n",
              "      <td>0.0</td>\n",
              "      <td>0.0</td>\n",
              "      <td>0.0</td>\n",
              "      <td>0.0</td>\n",
              "      <td>0.0</td>\n",
              "      <td>0.0</td>\n",
              "      <td>0.0</td>\n",
              "    </tr>\n",
              "    <tr>\n",
              "      <th>6395</th>\n",
              "      <td>0.0</td>\n",
              "      <td>0.0</td>\n",
              "      <td>0.0</td>\n",
              "      <td>0.0</td>\n",
              "      <td>0.0</td>\n",
              "      <td>0.0</td>\n",
              "      <td>0.0</td>\n",
              "      <td>0.0</td>\n",
              "      <td>0.0</td>\n",
              "      <td>0.0</td>\n",
              "      <td>...</td>\n",
              "      <td>0.0</td>\n",
              "      <td>0.0</td>\n",
              "      <td>0.0</td>\n",
              "      <td>0.0</td>\n",
              "      <td>0.0</td>\n",
              "      <td>0.0</td>\n",
              "      <td>0.0</td>\n",
              "      <td>0.0</td>\n",
              "      <td>0.0</td>\n",
              "      <td>0.0</td>\n",
              "    </tr>\n",
              "    <tr>\n",
              "      <th>6396</th>\n",
              "      <td>0.0</td>\n",
              "      <td>0.0</td>\n",
              "      <td>0.0</td>\n",
              "      <td>0.0</td>\n",
              "      <td>0.0</td>\n",
              "      <td>0.0</td>\n",
              "      <td>0.0</td>\n",
              "      <td>0.0</td>\n",
              "      <td>0.0</td>\n",
              "      <td>0.0</td>\n",
              "      <td>...</td>\n",
              "      <td>0.0</td>\n",
              "      <td>0.0</td>\n",
              "      <td>0.0</td>\n",
              "      <td>0.0</td>\n",
              "      <td>0.0</td>\n",
              "      <td>0.0</td>\n",
              "      <td>0.0</td>\n",
              "      <td>0.0</td>\n",
              "      <td>0.0</td>\n",
              "      <td>0.0</td>\n",
              "    </tr>\n",
              "    <tr>\n",
              "      <th>6397</th>\n",
              "      <td>0.0</td>\n",
              "      <td>0.0</td>\n",
              "      <td>0.0</td>\n",
              "      <td>0.0</td>\n",
              "      <td>0.0</td>\n",
              "      <td>0.0</td>\n",
              "      <td>0.0</td>\n",
              "      <td>0.0</td>\n",
              "      <td>0.0</td>\n",
              "      <td>0.0</td>\n",
              "      <td>...</td>\n",
              "      <td>0.0</td>\n",
              "      <td>0.0</td>\n",
              "      <td>0.0</td>\n",
              "      <td>0.0</td>\n",
              "      <td>0.0</td>\n",
              "      <td>0.0</td>\n",
              "      <td>0.0</td>\n",
              "      <td>0.0</td>\n",
              "      <td>0.0</td>\n",
              "      <td>0.0</td>\n",
              "    </tr>\n",
              "    <tr>\n",
              "      <th>6398</th>\n",
              "      <td>0.0</td>\n",
              "      <td>0.0</td>\n",
              "      <td>0.0</td>\n",
              "      <td>0.0</td>\n",
              "      <td>0.0</td>\n",
              "      <td>0.0</td>\n",
              "      <td>0.0</td>\n",
              "      <td>0.0</td>\n",
              "      <td>0.0</td>\n",
              "      <td>0.0</td>\n",
              "      <td>...</td>\n",
              "      <td>0.0</td>\n",
              "      <td>0.0</td>\n",
              "      <td>0.0</td>\n",
              "      <td>0.0</td>\n",
              "      <td>0.0</td>\n",
              "      <td>0.0</td>\n",
              "      <td>0.0</td>\n",
              "      <td>0.0</td>\n",
              "      <td>0.0</td>\n",
              "      <td>0.0</td>\n",
              "    </tr>\n",
              "  </tbody>\n",
              "</table>\n",
              "<p>6399 rows × 6591 columns</p>\n",
              "</div>\n",
              "      <button class=\"colab-df-convert\" onclick=\"convertToInteractive('df-2de51705-d296-4eb7-a282-fbe11252030b')\"\n",
              "              title=\"Convert this dataframe to an interactive table.\"\n",
              "              style=\"display:none;\">\n",
              "        \n",
              "  <svg xmlns=\"http://www.w3.org/2000/svg\" height=\"24px\"viewBox=\"0 0 24 24\"\n",
              "       width=\"24px\">\n",
              "    <path d=\"M0 0h24v24H0V0z\" fill=\"none\"/>\n",
              "    <path d=\"M18.56 5.44l.94 2.06.94-2.06 2.06-.94-2.06-.94-.94-2.06-.94 2.06-2.06.94zm-11 1L8.5 8.5l.94-2.06 2.06-.94-2.06-.94L8.5 2.5l-.94 2.06-2.06.94zm10 10l.94 2.06.94-2.06 2.06-.94-2.06-.94-.94-2.06-.94 2.06-2.06.94z\"/><path d=\"M17.41 7.96l-1.37-1.37c-.4-.4-.92-.59-1.43-.59-.52 0-1.04.2-1.43.59L10.3 9.45l-7.72 7.72c-.78.78-.78 2.05 0 2.83L4 21.41c.39.39.9.59 1.41.59.51 0 1.02-.2 1.41-.59l7.78-7.78 2.81-2.81c.8-.78.8-2.07 0-2.86zM5.41 20L4 18.59l7.72-7.72 1.47 1.35L5.41 20z\"/>\n",
              "  </svg>\n",
              "      </button>\n",
              "      \n",
              "  <style>\n",
              "    .colab-df-container {\n",
              "      display:flex;\n",
              "      flex-wrap:wrap;\n",
              "      gap: 12px;\n",
              "    }\n",
              "\n",
              "    .colab-df-convert {\n",
              "      background-color: #E8F0FE;\n",
              "      border: none;\n",
              "      border-radius: 50%;\n",
              "      cursor: pointer;\n",
              "      display: none;\n",
              "      fill: #1967D2;\n",
              "      height: 32px;\n",
              "      padding: 0 0 0 0;\n",
              "      width: 32px;\n",
              "    }\n",
              "\n",
              "    .colab-df-convert:hover {\n",
              "      background-color: #E2EBFA;\n",
              "      box-shadow: 0px 1px 2px rgba(60, 64, 67, 0.3), 0px 1px 3px 1px rgba(60, 64, 67, 0.15);\n",
              "      fill: #174EA6;\n",
              "    }\n",
              "\n",
              "    [theme=dark] .colab-df-convert {\n",
              "      background-color: #3B4455;\n",
              "      fill: #D2E3FC;\n",
              "    }\n",
              "\n",
              "    [theme=dark] .colab-df-convert:hover {\n",
              "      background-color: #434B5C;\n",
              "      box-shadow: 0px 1px 3px 1px rgba(0, 0, 0, 0.15);\n",
              "      filter: drop-shadow(0px 1px 2px rgba(0, 0, 0, 0.3));\n",
              "      fill: #FFFFFF;\n",
              "    }\n",
              "  </style>\n",
              "\n",
              "      <script>\n",
              "        const buttonEl =\n",
              "          document.querySelector('#df-2de51705-d296-4eb7-a282-fbe11252030b button.colab-df-convert');\n",
              "        buttonEl.style.display =\n",
              "          google.colab.kernel.accessAllowed ? 'block' : 'none';\n",
              "\n",
              "        async function convertToInteractive(key) {\n",
              "          const element = document.querySelector('#df-2de51705-d296-4eb7-a282-fbe11252030b');\n",
              "          const dataTable =\n",
              "            await google.colab.kernel.invokeFunction('convertToInteractive',\n",
              "                                                     [key], {});\n",
              "          if (!dataTable) return;\n",
              "\n",
              "          const docLinkHtml = 'Like what you see? Visit the ' +\n",
              "            '<a target=\"_blank\" href=https://colab.research.google.com/notebooks/data_table.ipynb>data table notebook</a>'\n",
              "            + ' to learn more about interactive tables.';\n",
              "          element.innerHTML = '';\n",
              "          dataTable['output_type'] = 'display_data';\n",
              "          await google.colab.output.renderOutput(dataTable, element);\n",
              "          const docLink = document.createElement('div');\n",
              "          docLink.innerHTML = docLinkHtml;\n",
              "          element.appendChild(docLink);\n",
              "        }\n",
              "      </script>\n",
              "    </div>\n",
              "  </div>\n",
              "  "
            ]
          },
          "metadata": {},
          "execution_count": 33
        }
      ]
    },
    {
      "cell_type": "markdown",
      "source": [
        "## Criando os modelos de classificação dos dados"
      ],
      "metadata": {
        "id": "1153gzs1WqcY"
      }
    },
    {
      "cell_type": "code",
      "source": [
        "from sklearn.metrics import plot_confusion_matrix\n",
        "from sklearn.ensemble import GradientBoostingClassifier\n",
        "from sklearn.linear_model import LogisticRegression\n",
        "from sklearn.naive_bayes import MultinomialNB\n",
        "from sklearn.metrics import classification_report, f1_score, accuracy_score, confusion_matrix, balanced_accuracy_score\n",
        "from sklearn.metrics import roc_curve, auc, roc_auc_score"
      ],
      "metadata": {
        "id": "FS-C4suSlPtT"
      },
      "execution_count": null,
      "outputs": []
    },
    {
      "cell_type": "code",
      "source": [
        "clf = GradientBoostingClassifier(n_estimators=100, learning_rate=1.0, max_depth=1).fit(X_train_vectors_tfidf, y_train)\n",
        "\n",
        "y_predict = clf.predict(X_val_vectors_tfidf)\n",
        "\n",
        "print(classification_report(y_val,y_predict))\n",
        "print('Confusion Matrix:',confusion_matrix(y_val, y_predict))\n",
        "\n",
        "plot_confusion_matrix(clf, X_val_vectors_tfidf, y_val)"
      ],
      "metadata": {
        "colab": {
          "base_uri": "https://localhost:8080/",
          "height": 542
        },
        "id": "2fUMSB2ruPHq",
        "outputId": "662e8d4a-c5eb-4d51-a798-e78cf4cd3de2"
      },
      "execution_count": null,
      "outputs": [
        {
          "output_type": "stream",
          "name": "stdout",
          "text": [
            "              precision    recall  f1-score   support\n",
            "\n",
            "           0       0.80      0.83      0.81       957\n",
            "           1       0.73      0.69      0.71       643\n",
            "\n",
            "    accuracy                           0.77      1600\n",
            "   macro avg       0.76      0.76      0.76      1600\n",
            "weighted avg       0.77      0.77      0.77      1600\n",
            "\n",
            "Confusion Matrix: [[792 165]\n",
            " [198 445]]\n"
          ]
        },
        {
          "output_type": "stream",
          "name": "stderr",
          "text": [
            "/usr/local/lib/python3.7/dist-packages/sklearn/utils/deprecation.py:87: FutureWarning: Function plot_confusion_matrix is deprecated; Function `plot_confusion_matrix` is deprecated in 1.0 and will be removed in 1.2. Use one of the class methods: ConfusionMatrixDisplay.from_predictions or ConfusionMatrixDisplay.from_estimator.\n",
            "  warnings.warn(msg, category=FutureWarning)\n"
          ]
        },
        {
          "output_type": "execute_result",
          "data": {
            "text/plain": [
              "<sklearn.metrics._plot.confusion_matrix.ConfusionMatrixDisplay at 0x7ff50e412a50>"
            ]
          },
          "metadata": {},
          "execution_count": 35
        },
        {
          "output_type": "display_data",
          "data": {
            "text/plain": [
              "<Figure size 432x288 with 2 Axes>"
            ],
            "image/png": "[encoded data removed]"
          },
          "metadata": {
            "needs_background": "light"
          }
        }
      ]
    },
    {
      "cell_type": "code",
      "metadata": {
        "colab": {
          "base_uri": "https://localhost:8080/"
        },
        "id": "RCSh98C3whms",
        "outputId": "3d880bb6-e713-46d4-8e0e-eeca5a7fa46f"
      },
      "source": [
        "from sklearn.linear_model import Perceptron\n",
        "\n",
        "clf = Perceptron(tol=1e-3, random_state=0)\n",
        "clf.fit(X_train_vectors_tfidf, y_train)\n",
        "\n",
        "y_predict = clf.predict(X_val_vectors_tfidf)\n",
        " \n",
        "print(classification_report(y_val,y_predict))\n",
        "print('Confusion Matrix:',confusion_matrix(y_val, y_predict))\n"
      ],
      "execution_count": null,
      "outputs": [
        {
          "output_type": "stream",
          "name": "stdout",
          "text": [
            "              precision    recall  f1-score   support\n",
            "\n",
            "           0       0.82      0.79      0.80       957\n",
            "           1       0.70      0.75      0.72       643\n",
            "\n",
            "    accuracy                           0.77      1600\n",
            "   macro avg       0.76      0.77      0.76      1600\n",
            "weighted avg       0.77      0.77      0.77      1600\n",
            "\n",
            "Confusion Matrix: [[752 205]\n",
            " [162 481]]\n"
          ]
        }
      ]
    },
    {
      "cell_type": "code",
      "source": [
        "plot_confusion_matrix(clf, X_val_vectors_tfidf, y_val)"
      ],
      "metadata": {
        "colab": {
          "base_uri": "https://localhost:8080/",
          "height": 351
        },
        "id": "LTxm007wmEkL",
        "outputId": "c67b1490-e7f4-4957-cd4c-a99b875b13b3"
      },
      "execution_count": null,
      "outputs": [
        {
          "output_type": "stream",
          "name": "stderr",
          "text": [
            "/usr/local/lib/python3.7/dist-packages/sklearn/utils/deprecation.py:87: FutureWarning: Function plot_confusion_matrix is deprecated; Function `plot_confusion_matrix` is deprecated in 1.0 and will be removed in 1.2. Use one of the class methods: ConfusionMatrixDisplay.from_predictions or ConfusionMatrixDisplay.from_estimator.\n",
            "  warnings.warn(msg, category=FutureWarning)\n"
          ]
        },
        {
          "output_type": "execute_result",
          "data": {
            "text/plain": [
              "<sklearn.metrics._plot.confusion_matrix.ConfusionMatrixDisplay at 0x7ff50a41cfd0>"
            ]
          },
          "metadata": {},
          "execution_count": 37
        },
        {
          "output_type": "display_data",
          "data": {
            "text/plain": [
              "<Figure size 432x288 with 2 Axes>"
            ],
            "image/png": "[encoded data removed]"
          },
          "metadata": {
            "needs_background": "light"
          }
        }
      ]
    },
    {
      "cell_type": "code",
      "metadata": {
        "colab": {
          "base_uri": "https://localhost:8080/"
        },
        "id": "Pegp8gxEVVJ6",
        "outputId": "8efa0780-aac1-42bc-ff57-9e5173817e31"
      },
      "source": [
        "clf_w2v = Perceptron(tol=1e-3, random_state=0)\n",
        "clf_w2v.fit(X_train_vectors_w2v, y_train)\n",
        "\n",
        "y_predict = clf_w2v.predict(X_val_vectors_w2v)\n",
        " \n",
        "print(classification_report(y_val,y_predict))\n",
        "print('Confusion Matrix:',confusion_matrix(y_val, y_predict))"
      ],
      "execution_count": null,
      "outputs": [
        {
          "output_type": "stream",
          "name": "stdout",
          "text": [
            "              precision    recall  f1-score   support\n",
            "\n",
            "           0       0.86      0.46      0.60       957\n",
            "           1       0.53      0.89      0.66       643\n",
            "\n",
            "    accuracy                           0.63      1600\n",
            "   macro avg       0.69      0.68      0.63      1600\n",
            "weighted avg       0.73      0.63      0.62      1600\n",
            "\n",
            "Confusion Matrix: [[441 516]\n",
            " [ 71 572]]\n"
          ]
        }
      ]
    },
    {
      "cell_type": "code",
      "source": [
        "plot_confusion_matrix(clf_w2v, X_val_vectors_w2v, y_val)"
      ],
      "metadata": {
        "colab": {
          "base_uri": "https://localhost:8080/",
          "height": 351
        },
        "id": "l3COzGpomIhY",
        "outputId": "e8f4aa34-dbcd-4bb8-81ac-1f2900be2a98"
      },
      "execution_count": null,
      "outputs": [
        {
          "output_type": "stream",
          "name": "stderr",
          "text": [
            "/usr/local/lib/python3.7/dist-packages/sklearn/utils/deprecation.py:87: FutureWarning: Function plot_confusion_matrix is deprecated; Function `plot_confusion_matrix` is deprecated in 1.0 and will be removed in 1.2. Use one of the class methods: ConfusionMatrixDisplay.from_predictions or ConfusionMatrixDisplay.from_estimator.\n",
            "  warnings.warn(msg, category=FutureWarning)\n"
          ]
        },
        {
          "output_type": "execute_result",
          "data": {
            "text/plain": [
              "<sklearn.metrics._plot.confusion_matrix.ConfusionMatrixDisplay at 0x7ff509bbb710>"
            ]
          },
          "metadata": {},
          "execution_count": 39
        },
        {
          "output_type": "display_data",
          "data": {
            "text/plain": [
              "<Figure size 432x288 with 2 Axes>"
            ],
            "image/png": "[encoded data removed]"
          },
          "metadata": {
            "needs_background": "light"
          }
        }
      ]
    },
    {
      "cell_type": "code",
      "metadata": {
        "colab": {
          "base_uri": "https://localhost:8080/",
          "height": 544
        },
        "id": "I4YYUNTWpaH-",
        "outputId": "bda99b83-7aed-44fe-95a7-13cf0a57435c"
      },
      "source": [
        "lr = LogisticRegression()\n",
        "lr.fit(X_train_vectors_tfidf, y_train)\n",
        "\n",
        "#Predict y value for test dataset\n",
        "y_predict = lr.predict(X_val_vectors_tfidf)\n",
        "y_prob = lr.predict_proba(X_val_vectors_tfidf)[:,1]\n",
        " \n",
        "print(classification_report(y_val,y_predict))\n",
        "print('Confusion Matrix:',confusion_matrix(y_val, y_predict))\n",
        "plot_confusion_matrix(lr, X_val_vectors_tfidf, y_val)"
      ],
      "execution_count": null,
      "outputs": [
        {
          "output_type": "stream",
          "name": "stdout",
          "text": [
            "              precision    recall  f1-score   support\n",
            "\n",
            "           0       0.83      0.84      0.84       957\n",
            "           1       0.76      0.74      0.75       643\n",
            "\n",
            "    accuracy                           0.80      1600\n",
            "   macro avg       0.80      0.79      0.79      1600\n",
            "weighted avg       0.80      0.80      0.80      1600\n",
            "\n",
            "Confusion Matrix: [[808 149]\n",
            " [167 476]]\n"
          ]
        },
        {
          "output_type": "stream",
          "name": "stderr",
          "text": [
            "/usr/local/lib/python3.7/dist-packages/sklearn/utils/deprecation.py:87: FutureWarning: Function plot_confusion_matrix is deprecated; Function `plot_confusion_matrix` is deprecated in 1.0 and will be removed in 1.2. Use one of the class methods: ConfusionMatrixDisplay.from_predictions or ConfusionMatrixDisplay.from_estimator.\n",
            "  warnings.warn(msg, category=FutureWarning)\n"
          ]
        },
        {
          "output_type": "execute_result",
          "data": {
            "text/plain": [
              "<sklearn.metrics._plot.confusion_matrix.ConfusionMatrixDisplay at 0x7ff509ba0450>"
            ]
          },
          "metadata": {},
          "execution_count": 40
        },
        {
          "output_type": "display_data",
          "data": {
            "text/plain": [
              "<Figure size 432x288 with 2 Axes>"
            ],
            "image/png": "[encoded data removed]"
          },
          "metadata": {
            "needs_background": "light"
          }
        }
      ]
    },
    {
      "cell_type": "code",
      "metadata": {
        "colab": {
          "base_uri": "https://localhost:8080/"
        },
        "id": "vRAEnLv-Xs5N",
        "outputId": "2090d9ea-7828-4a1f-dbd9-49658730a094"
      },
      "source": [
        "lr_w2v = LogisticRegression()\n",
        "lr_w2v.fit(X_train_vectors_w2v, y_train)\n",
        "\n",
        "#Predict y value for test dataset\n",
        "y_predict = lr_w2v.predict(X_val_vectors_w2v)\n",
        "y_prob = lr_w2v.predict_proba(X_val_vectors_w2v)[:,1]\n",
        " \n",
        "print(classification_report(y_val,y_predict))\n",
        "print('Confusion Matrix:',confusion_matrix(y_val, y_predict))"
      ],
      "execution_count": null,
      "outputs": [
        {
          "output_type": "stream",
          "name": "stdout",
          "text": [
            "              precision    recall  f1-score   support\n",
            "\n",
            "           0       0.75      0.79      0.77       957\n",
            "           1       0.66      0.61      0.64       643\n",
            "\n",
            "    accuracy                           0.72      1600\n",
            "   macro avg       0.71      0.70      0.70      1600\n",
            "weighted avg       0.72      0.72      0.72      1600\n",
            "\n",
            "Confusion Matrix: [[759 198]\n",
            " [250 393]]\n"
          ]
        },
        {
          "output_type": "stream",
          "name": "stderr",
          "text": [
            "/usr/local/lib/python3.7/dist-packages/sklearn/linear_model/_logistic.py:818: ConvergenceWarning: lbfgs failed to converge (status=1):\n",
            "STOP: TOTAL NO. of ITERATIONS REACHED LIMIT.\n",
            "\n",
            "Increase the number of iterations (max_iter) or scale the data as shown in:\n",
            "    https://scikit-learn.org/stable/modules/preprocessing.html\n",
            "Please also refer to the documentation for alternative solver options:\n",
            "    https://scikit-learn.org/stable/modules/linear_model.html#logistic-regression\n",
            "  extra_warning_msg=_LOGISTIC_SOLVER_CONVERGENCE_MSG,\n"
          ]
        }
      ]
    },
    {
      "cell_type": "code",
      "source": [
        "plot_confusion_matrix(lr_w2v, X_val_vectors_w2v, y_val)"
      ],
      "metadata": {
        "id": "M4DmMcYdmaKo",
        "colab": {
          "base_uri": "https://localhost:8080/",
          "height": 351
        },
        "outputId": "ff6d7b4b-993b-44ab-ebca-7bdd2c562eed"
      },
      "execution_count": null,
      "outputs": [
        {
          "output_type": "stream",
          "name": "stderr",
          "text": [
            "/usr/local/lib/python3.7/dist-packages/sklearn/utils/deprecation.py:87: FutureWarning: Function plot_confusion_matrix is deprecated; Function `plot_confusion_matrix` is deprecated in 1.0 and will be removed in 1.2. Use one of the class methods: ConfusionMatrixDisplay.from_predictions or ConfusionMatrixDisplay.from_estimator.\n",
            "  warnings.warn(msg, category=FutureWarning)\n"
          ]
        },
        {
          "output_type": "execute_result",
          "data": {
            "text/plain": [
              "<sklearn.metrics._plot.confusion_matrix.ConfusionMatrixDisplay at 0x7ff514cd9410>"
            ]
          },
          "metadata": {},
          "execution_count": 42
        },
        {
          "output_type": "display_data",
          "data": {
            "text/plain": [
              "<Figure size 432x288 with 2 Axes>"
            ],
            "image/png": "[encoded data removed]"
          },
          "metadata": {
            "needs_background": "light"
          }
        }
      ]
    },
    {
      "cell_type": "code",
      "metadata": {
        "colab": {
          "base_uri": "https://localhost:8080/"
        },
        "id": "rWY663CjrmA_",
        "outputId": "abfe7b20-23fc-4671-d8ec-5316b701b224"
      },
      "source": [
        "lr_2 = LogisticRegression(penalty = 'l2', C = 5, solver = 'liblinear')\n",
        "lr_2.fit(X_train_vectors_tfidf, y_train)\n",
        "\n",
        "#Predict y value for test dataset\n",
        "y_predict = lr_2.predict(X_val_vectors_tfidf)\n",
        "y_prob = lr_2.predict_proba(X_val_vectors_tfidf)[:,1]\n",
        " \n",
        "print(classification_report(y_val,y_predict))\n",
        "print('Confusion Matrix:',confusion_matrix(y_val, y_predict))"
      ],
      "execution_count": null,
      "outputs": [
        {
          "output_type": "stream",
          "name": "stdout",
          "text": [
            "              precision    recall  f1-score   support\n",
            "\n",
            "           0       0.84      0.86      0.85       957\n",
            "           1       0.78      0.76      0.77       643\n",
            "\n",
            "    accuracy                           0.82      1600\n",
            "   macro avg       0.81      0.81      0.81      1600\n",
            "weighted avg       0.82      0.82      0.82      1600\n",
            "\n",
            "Confusion Matrix: [[822 135]\n",
            " [157 486]]\n"
          ]
        }
      ]
    },
    {
      "cell_type": "code",
      "source": [
        "plot_confusion_matrix(lr_2, X_val_vectors_tfidf, y_val)"
      ],
      "metadata": {
        "id": "QRqoGe4amw2h",
        "colab": {
          "base_uri": "https://localhost:8080/",
          "height": 351
        },
        "outputId": "aa95fa72-1433-42c9-f985-237279099a46"
      },
      "execution_count": null,
      "outputs": [
        {
          "output_type": "stream",
          "name": "stderr",
          "text": [
            "/usr/local/lib/python3.7/dist-packages/sklearn/utils/deprecation.py:87: FutureWarning: Function plot_confusion_matrix is deprecated; Function `plot_confusion_matrix` is deprecated in 1.0 and will be removed in 1.2. Use one of the class methods: ConfusionMatrixDisplay.from_predictions or ConfusionMatrixDisplay.from_estimator.\n",
            "  warnings.warn(msg, category=FutureWarning)\n"
          ]
        },
        {
          "output_type": "execute_result",
          "data": {
            "text/plain": [
              "<sklearn.metrics._plot.confusion_matrix.ConfusionMatrixDisplay at 0x7ff507971ed0>"
            ]
          },
          "metadata": {},
          "execution_count": 44
        },
        {
          "output_type": "display_data",
          "data": {
            "text/plain": [
              "<Figure size 432x288 with 2 Axes>"
            ],
            "image/png": "[encoded data removed]"
          },
          "metadata": {
            "needs_background": "light"
          }
        }
      ]
    },
    {
      "cell_type": "code",
      "metadata": {
        "colab": {
          "base_uri": "https://localhost:8080/"
        },
        "id": "cIbvEp7wDCyH",
        "outputId": "b0b292b7-419f-4426-dd44-7ec0a1a0e000"
      },
      "source": [
        "print(f\"Acuracia: {accuracy_score(y_val, y_predict)}\")\n",
        "print(f\"Acurácia balanceada: {balanced_accuracy_score(y_val, y_predict)}\")"
      ],
      "execution_count": null,
      "outputs": [
        {
          "output_type": "stream",
          "name": "stdout",
          "text": [
            "Acuracia: 0.8175\n",
            "Acurácia balanceada: 0.8073831033020179\n"
          ]
        }
      ]
    },
    {
      "cell_type": "code",
      "metadata": {
        "colab": {
          "base_uri": "https://localhost:8080/"
        },
        "id": "pd_nRhbQ8JWd",
        "outputId": "9177028d-394f-493e-d9c7-f491f98bc074"
      },
      "source": [
        "#FITTING THE CLASSIFICATION MODEL using Logistic Regression(w2v)\n",
        "\n",
        "lr_w2v_2=LogisticRegression(solver = 'liblinear', C=10, penalty = 'l2')\n",
        "lr_w2v_2.fit(X_train_vectors_w2v, y_train)  #model\n",
        "\n",
        "#Predict y value for test dataset\n",
        "y_predict = lr_w2v.predict(X_val_vectors_w2v)\n",
        "y_prob = lr_w2v.predict_proba(X_val_vectors_w2v)[:,1]\n",
        " \n",
        "\n",
        "print(classification_report(y_val,y_predict))\n",
        "print('Confusion Matrix:',confusion_matrix(y_val, y_predict))"
      ],
      "execution_count": null,
      "outputs": [
        {
          "output_type": "stream",
          "name": "stdout",
          "text": [
            "              precision    recall  f1-score   support\n",
            "\n",
            "           0       0.75      0.79      0.77       957\n",
            "           1       0.66      0.61      0.64       643\n",
            "\n",
            "    accuracy                           0.72      1600\n",
            "   macro avg       0.71      0.70      0.70      1600\n",
            "weighted avg       0.72      0.72      0.72      1600\n",
            "\n",
            "Confusion Matrix: [[759 198]\n",
            " [250 393]]\n"
          ]
        }
      ]
    },
    {
      "cell_type": "code",
      "metadata": {
        "colab": {
          "base_uri": "https://localhost:8080/"
        },
        "id": "42nmwItnDwGF",
        "outputId": "ba2cafa4-bf04-4cf1-d520-4232938b0e07"
      },
      "source": [
        "print(f\"Acuracia: {accuracy_score(y_val, y_predict)}\")\n",
        "print(f\"Acurácia balanceada: {balanced_accuracy_score(y_val, y_predict)}\")"
      ],
      "execution_count": null,
      "outputs": [
        {
          "output_type": "stream",
          "name": "stdout",
          "text": [
            "Acuracia: 0.72\n",
            "Acurácia balanceada: 0.7021504799699684\n"
          ]
        }
      ]
    },
    {
      "cell_type": "code",
      "metadata": {
        "colab": {
          "base_uri": "https://localhost:8080/"
        },
        "id": "hLOdh9gnQXFu",
        "outputId": "cead2191-b233-4239-8b41-50c50eb11b47"
      },
      "source": [
        "#FITTING THE CLASSIFICATION MODEL using Naive Bayes(tf-idf)\n",
        "#It's a probabilistic classifier that makes use of Bayes' Theorem, a rule that uses probability to make predictions based on prior knowledge of conditions that might be related. This algorithm is the most suitable for such large dataset as it considers each feature independently, calculates the probability of each category, and then predicts the category with the highest probability.\n",
        "\n",
        "nb_tfidf = MultinomialNB()\n",
        "nb_tfidf.fit(X_train_vectors_tfidf, y_train)  #model\n",
        "\n",
        "#Predict y value for test dataset\n",
        "y_predict = nb_tfidf.predict(X_val_vectors_tfidf)\n",
        "y_prob = nb_tfidf.predict_proba(X_val_vectors_tfidf)[:,1]\n",
        " \n",
        "\n",
        "print(classification_report(y_val,y_predict))\n",
        "print('Confusion Matrix:',confusion_matrix(y_val, y_predict))"
      ],
      "execution_count": null,
      "outputs": [
        {
          "output_type": "stream",
          "name": "stdout",
          "text": [
            "              precision    recall  f1-score   support\n",
            "\n",
            "           0       0.75      0.94      0.83       957\n",
            "           1       0.84      0.52      0.65       643\n",
            "\n",
            "    accuracy                           0.77      1600\n",
            "   macro avg       0.79      0.73      0.74      1600\n",
            "weighted avg       0.79      0.77      0.76      1600\n",
            "\n",
            "Confusion Matrix: [[895  62]\n",
            " [306 337]]\n"
          ]
        }
      ]
    },
    {
      "cell_type": "code",
      "metadata": {
        "colab": {
          "base_uri": "https://localhost:8080/"
        },
        "id": "oLSWYYb5Dxmw",
        "outputId": "cb8fda0d-631a-45c1-99c8-10a26c360c4f"
      },
      "source": [
        "print(f\"Acuracia: {accuracy_score(y_val, y_predict)}\")\n",
        "print(f\"Acurácia balanceada: {balanced_accuracy_score(y_val, y_predict)}\")"
      ],
      "execution_count": null,
      "outputs": [
        {
          "output_type": "stream",
          "name": "stdout",
          "text": [
            "Acuracia: 0.77\n",
            "Acurácia balanceada: 0.7296599826765537\n"
          ]
        }
      ]
    },
    {
      "cell_type": "code",
      "metadata": {
        "id": "NGTZz5FAEEgW"
      },
      "source": [
        "from sklearn.naive_bayes import GaussianNB"
      ],
      "execution_count": null,
      "outputs": []
    },
    {
      "cell_type": "code",
      "metadata": {
        "colab": {
          "base_uri": "https://localhost:8080/"
        },
        "id": "2zi89OHKEG1i",
        "outputId": "68db8759-fa59-43cd-c34a-06ccb92ce645"
      },
      "source": [
        "#FITTING THE CLASSIFICATION MODEL using Naive Bayes(w2v)\n",
        "#It's a probabilistic classifier that makes use of Bayes' Theorem, a rule that uses probability to make predictions based on prior knowledge of conditions that might be related. This algorithm is the most suitable for such large dataset as it considers each feature independently, calculates the probability of each category, and then predicts the category with the highest probability.\n",
        "\n",
        "nb_w2v = GaussianNB()\n",
        "nb_w2v.fit(X_train_vectors_w2v, y_train)  #model\n",
        "\n",
        "#Predict y value for test dataset\n",
        "y_predict = nb_w2v.predict(X_val_vectors_w2v)\n",
        "y_prob = nb_w2v.predict_proba(X_val_vectors_w2v)[:,1]\n",
        " \n",
        "\n",
        "print(classification_report(y_val,y_predict))\n",
        "print('Confusion Matrix:',confusion_matrix(y_val, y_predict))"
      ],
      "execution_count": null,
      "outputs": [
        {
          "output_type": "stream",
          "name": "stdout",
          "text": [
            "              precision    recall  f1-score   support\n",
            "\n",
            "           0       0.71      0.60      0.65       957\n",
            "           1       0.51      0.63      0.57       643\n",
            "\n",
            "    accuracy                           0.61      1600\n",
            "   macro avg       0.61      0.62      0.61      1600\n",
            "weighted avg       0.63      0.61      0.62      1600\n",
            "\n",
            "Confusion Matrix: [[575 382]\n",
            " [238 405]]\n"
          ]
        }
      ]
    },
    {
      "cell_type": "code",
      "metadata": {
        "colab": {
          "base_uri": "https://localhost:8080/"
        },
        "id": "O_U5qzyIlOXv",
        "outputId": "57affd22-caaf-4a92-eef1-f90c8d562f53"
      },
      "source": [
        "lr = LogisticRegression()\n",
        "lr.fit(X_train_vectors_tfidf, y_train)\n",
        "\n",
        "#Predict y value for test dataset\n",
        "y_predict = lr.predict(X_val_vectors_tfidf)\n",
        "y_prob = lr.predict_proba(X_val_vectors_tfidf)[:,1]\n",
        " \n",
        "print(classification_report(y_val,y_predict))\n",
        "print('Confusion Matrix:',confusion_matrix(y_val, y_predict))"
      ],
      "execution_count": null,
      "outputs": [
        {
          "output_type": "stream",
          "name": "stdout",
          "text": [
            "              precision    recall  f1-score   support\n",
            "\n",
            "           0       0.83      0.84      0.84       957\n",
            "           1       0.76      0.74      0.75       643\n",
            "\n",
            "    accuracy                           0.80      1600\n",
            "   macro avg       0.80      0.79      0.79      1600\n",
            "weighted avg       0.80      0.80      0.80      1600\n",
            "\n",
            "Confusion Matrix: [[808 149]\n",
            " [167 476]]\n"
          ]
        }
      ]
    }
  ]
}